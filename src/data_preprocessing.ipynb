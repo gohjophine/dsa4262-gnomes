{
 "cells": [
  {
   "cell_type": "code",
   "execution_count": 1,
   "id": "e4415287",
   "metadata": {},
   "outputs": [],
   "source": [
    "import pandas as pd\n",
    "import numpy as np\n",
    "import matplotlib.pyplot as plt\n",
    "from sklearn.model_selection import GroupShuffleSplit \n",
    "from sklearn.preprocessing import StandardScaler\n",
    "from imblearn.over_sampling import RandomOverSampler\n",
    "from imblearn.under_sampling import RandomUnderSampler\n",
    "from collections import Counter"
   ]
  },
  {
   "cell_type": "code",
   "execution_count": 2,
   "id": "b70ee5e6",
   "metadata": {},
   "outputs": [],
   "source": [
    "df = pd.read_csv('../data/grouped_data.csv')"
   ]
  },
  {
   "cell_type": "code",
   "execution_count": 3,
   "id": "ff583222",
   "metadata": {},
   "outputs": [
    {
     "data": {
      "text/html": [
       "<div>\n",
       "<style scoped>\n",
       "    .dataframe tbody tr th:only-of-type {\n",
       "        vertical-align: middle;\n",
       "    }\n",
       "\n",
       "    .dataframe tbody tr th {\n",
       "        vertical-align: top;\n",
       "    }\n",
       "\n",
       "    .dataframe thead th {\n",
       "        text-align: right;\n",
       "    }\n",
       "</style>\n",
       "<table border=\"1\" class=\"dataframe\">\n",
       "  <thead>\n",
       "    <tr style=\"text-align: right;\">\n",
       "      <th></th>\n",
       "      <th>gene_id</th>\n",
       "      <th>transcript_id</th>\n",
       "      <th>sevenmers</th>\n",
       "      <th>order_1</th>\n",
       "      <th>order_2</th>\n",
       "      <th>order_3</th>\n",
       "      <th>order_6</th>\n",
       "      <th>order_7</th>\n",
       "      <th>transcript_position</th>\n",
       "      <th>label</th>\n",
       "      <th>...</th>\n",
       "      <th>diff_mean_current_1_std</th>\n",
       "      <th>diff_mean_current_2_min</th>\n",
       "      <th>diff_mean_current_2_max</th>\n",
       "      <th>diff_mean_current_2_median</th>\n",
       "      <th>diff_mean_current_2_std</th>\n",
       "      <th>relative_position</th>\n",
       "      <th>count_A</th>\n",
       "      <th>count_C</th>\n",
       "      <th>count_G</th>\n",
       "      <th>count_T</th>\n",
       "    </tr>\n",
       "  </thead>\n",
       "  <tbody>\n",
       "    <tr>\n",
       "      <th>0</th>\n",
       "      <td>ENSG00000000003</td>\n",
       "      <td>ENST00000373020</td>\n",
       "      <td>ATAACTC</td>\n",
       "      <td>A</td>\n",
       "      <td>T</td>\n",
       "      <td>A</td>\n",
       "      <td>T</td>\n",
       "      <td>C</td>\n",
       "      <td>0.027180</td>\n",
       "      <td>0.0</td>\n",
       "      <td>...</td>\n",
       "      <td>0.071960</td>\n",
       "      <td>0.904564</td>\n",
       "      <td>0.495125</td>\n",
       "      <td>0.911232</td>\n",
       "      <td>0.049443</td>\n",
       "      <td>0.000000</td>\n",
       "      <td>0.4</td>\n",
       "      <td>0.333333</td>\n",
       "      <td>0.00</td>\n",
       "      <td>0.50</td>\n",
       "    </tr>\n",
       "    <tr>\n",
       "      <th>1</th>\n",
       "      <td>ENSG00000000003</td>\n",
       "      <td>ENST00000373020</td>\n",
       "      <td>TAAACAA</td>\n",
       "      <td>T</td>\n",
       "      <td>A</td>\n",
       "      <td>A</td>\n",
       "      <td>A</td>\n",
       "      <td>A</td>\n",
       "      <td>0.036632</td>\n",
       "      <td>0.0</td>\n",
       "      <td>...</td>\n",
       "      <td>0.189154</td>\n",
       "      <td>0.879668</td>\n",
       "      <td>0.510293</td>\n",
       "      <td>0.851449</td>\n",
       "      <td>0.120152</td>\n",
       "      <td>0.277865</td>\n",
       "      <td>0.8</td>\n",
       "      <td>0.000000</td>\n",
       "      <td>0.00</td>\n",
       "      <td>0.25</td>\n",
       "    </tr>\n",
       "    <tr>\n",
       "      <th>2</th>\n",
       "      <td>ENSG00000000003</td>\n",
       "      <td>ENST00000373020</td>\n",
       "      <td>ATAACAA</td>\n",
       "      <td>A</td>\n",
       "      <td>T</td>\n",
       "      <td>A</td>\n",
       "      <td>A</td>\n",
       "      <td>A</td>\n",
       "      <td>0.043787</td>\n",
       "      <td>0.0</td>\n",
       "      <td>...</td>\n",
       "      <td>0.079800</td>\n",
       "      <td>0.917012</td>\n",
       "      <td>0.554713</td>\n",
       "      <td>0.914855</td>\n",
       "      <td>0.106028</td>\n",
       "      <td>0.488226</td>\n",
       "      <td>0.8</td>\n",
       "      <td>0.000000</td>\n",
       "      <td>0.00</td>\n",
       "      <td>0.25</td>\n",
       "    </tr>\n",
       "    <tr>\n",
       "      <th>3</th>\n",
       "      <td>ENSG00000000003</td>\n",
       "      <td>ENST00000373020</td>\n",
       "      <td>ATAACCA</td>\n",
       "      <td>A</td>\n",
       "      <td>T</td>\n",
       "      <td>A</td>\n",
       "      <td>C</td>\n",
       "      <td>A</td>\n",
       "      <td>0.044161</td>\n",
       "      <td>0.0</td>\n",
       "      <td>...</td>\n",
       "      <td>0.215764</td>\n",
       "      <td>0.792531</td>\n",
       "      <td>0.461538</td>\n",
       "      <td>0.773551</td>\n",
       "      <td>0.085492</td>\n",
       "      <td>0.499215</td>\n",
       "      <td>0.6</td>\n",
       "      <td>0.333333</td>\n",
       "      <td>0.00</td>\n",
       "      <td>0.25</td>\n",
       "    </tr>\n",
       "    <tr>\n",
       "      <th>4</th>\n",
       "      <td>ENSG00000000003</td>\n",
       "      <td>ENST00000373020</td>\n",
       "      <td>GTAACCC</td>\n",
       "      <td>G</td>\n",
       "      <td>T</td>\n",
       "      <td>A</td>\n",
       "      <td>C</td>\n",
       "      <td>C</td>\n",
       "      <td>0.045175</td>\n",
       "      <td>0.0</td>\n",
       "      <td>...</td>\n",
       "      <td>0.142325</td>\n",
       "      <td>0.890733</td>\n",
       "      <td>0.488624</td>\n",
       "      <td>0.867754</td>\n",
       "      <td>0.074317</td>\n",
       "      <td>0.529042</td>\n",
       "      <td>0.2</td>\n",
       "      <td>0.666667</td>\n",
       "      <td>0.25</td>\n",
       "      <td>0.25</td>\n",
       "    </tr>\n",
       "  </tbody>\n",
       "</table>\n",
       "<p>5 rows × 75 columns</p>\n",
       "</div>"
      ],
      "text/plain": [
       "           gene_id    transcript_id sevenmers order_1 order_2 order_3 order_6  \\\n",
       "0  ENSG00000000003  ENST00000373020   ATAACTC       A       T       A       T   \n",
       "1  ENSG00000000003  ENST00000373020   TAAACAA       T       A       A       A   \n",
       "2  ENSG00000000003  ENST00000373020   ATAACAA       A       T       A       A   \n",
       "3  ENSG00000000003  ENST00000373020   ATAACCA       A       T       A       C   \n",
       "4  ENSG00000000003  ENST00000373020   GTAACCC       G       T       A       C   \n",
       "\n",
       "  order_7  transcript_position  label  ...  diff_mean_current_1_std  \\\n",
       "0       C             0.027180    0.0  ...                 0.071960   \n",
       "1       A             0.036632    0.0  ...                 0.189154   \n",
       "2       A             0.043787    0.0  ...                 0.079800   \n",
       "3       A             0.044161    0.0  ...                 0.215764   \n",
       "4       C             0.045175    0.0  ...                 0.142325   \n",
       "\n",
       "   diff_mean_current_2_min  diff_mean_current_2_max  \\\n",
       "0                 0.904564                 0.495125   \n",
       "1                 0.879668                 0.510293   \n",
       "2                 0.917012                 0.554713   \n",
       "3                 0.792531                 0.461538   \n",
       "4                 0.890733                 0.488624   \n",
       "\n",
       "   diff_mean_current_2_median  diff_mean_current_2_std  relative_position  \\\n",
       "0                    0.911232                 0.049443           0.000000   \n",
       "1                    0.851449                 0.120152           0.277865   \n",
       "2                    0.914855                 0.106028           0.488226   \n",
       "3                    0.773551                 0.085492           0.499215   \n",
       "4                    0.867754                 0.074317           0.529042   \n",
       "\n",
       "   count_A   count_C  count_G  count_T  \n",
       "0      0.4  0.333333     0.00     0.50  \n",
       "1      0.8  0.000000     0.00     0.25  \n",
       "2      0.8  0.000000     0.00     0.25  \n",
       "3      0.6  0.333333     0.00     0.25  \n",
       "4      0.2  0.666667     0.25     0.25  \n",
       "\n",
       "[5 rows x 75 columns]"
      ]
     },
     "execution_count": 3,
     "metadata": {},
     "output_type": "execute_result"
    }
   ],
   "source": [
    "df.head(5)"
   ]
  },
  {
   "cell_type": "code",
   "execution_count": 4,
   "id": "7fd1ab52",
   "metadata": {},
   "outputs": [
    {
     "data": {
      "text/plain": [
       "288"
      ]
     },
     "execution_count": 4,
     "metadata": {},
     "output_type": "execute_result"
    }
   ],
   "source": [
    "len(df['sevenmers'].unique())"
   ]
  },
  {
   "cell_type": "code",
   "execution_count": 5,
   "id": "20791632",
   "metadata": {},
   "outputs": [
    {
     "data": {
      "text/plain": [
       "(121838, 75)"
      ]
     },
     "execution_count": 5,
     "metadata": {},
     "output_type": "execute_result"
    }
   ],
   "source": [
    "df.shape"
   ]
  },
  {
   "cell_type": "code",
   "execution_count": 6,
   "id": "a3dce839",
   "metadata": {
    "scrolled": true
   },
   "outputs": [
    {
     "name": "stdout",
     "output_type": "stream",
     "text": [
      "<class 'pandas.core.frame.DataFrame'>\n",
      "RangeIndex: 121838 entries, 0 to 121837\n",
      "Data columns (total 75 columns):\n",
      " #   Column                       Non-Null Count   Dtype  \n",
      "---  ------                       --------------   -----  \n",
      " 0   gene_id                      121838 non-null  object \n",
      " 1   transcript_id                121838 non-null  object \n",
      " 2   sevenmers                    121838 non-null  object \n",
      " 3   order_1                      121838 non-null  object \n",
      " 4   order_2                      121838 non-null  object \n",
      " 5   order_3                      121838 non-null  object \n",
      " 6   order_6                      121838 non-null  object \n",
      " 7   order_7                      121838 non-null  object \n",
      " 8   transcript_position          121838 non-null  float64\n",
      " 9   label                        121838 non-null  float64\n",
      " 10  dwelling_time_1_min          121838 non-null  float64\n",
      " 11  dwelling_time_1_max          121838 non-null  float64\n",
      " 12  dwelling_time_1_median       121838 non-null  float64\n",
      " 13  dwelling_time_1_std          121838 non-null  float64\n",
      " 14  sd_current_1_min             121838 non-null  float64\n",
      " 15  sd_current_1_max             121838 non-null  float64\n",
      " 16  sd_current_1_median          121838 non-null  float64\n",
      " 17  sd_current_1_std             121838 non-null  float64\n",
      " 18  mean_current_1_min           121838 non-null  float64\n",
      " 19  mean_current_1_max           121838 non-null  float64\n",
      " 20  mean_current_1_median        121838 non-null  float64\n",
      " 21  mean_current_1_std           121838 non-null  float64\n",
      " 22  dwelling_time_2_min          121838 non-null  float64\n",
      " 23  dwelling_time_2_max          121838 non-null  float64\n",
      " 24  dwelling_time_2_median       121838 non-null  float64\n",
      " 25  dwelling_time_2_std          121838 non-null  float64\n",
      " 26  sd_current_2_min             121838 non-null  float64\n",
      " 27  sd_current_2_max             121838 non-null  float64\n",
      " 28  sd_current_2_median          121838 non-null  float64\n",
      " 29  sd_current_2_std             121838 non-null  float64\n",
      " 30  mean_current_2_min           121838 non-null  float64\n",
      " 31  mean_current_2_max           121838 non-null  float64\n",
      " 32  mean_current_2_median        121838 non-null  float64\n",
      " 33  mean_current_2_std           121838 non-null  float64\n",
      " 34  dwelling_time_3_min          121838 non-null  float64\n",
      " 35  dwelling_time_3_max          121838 non-null  float64\n",
      " 36  dwelling_time_3_median       121838 non-null  float64\n",
      " 37  dwelling_time_3_std          121838 non-null  float64\n",
      " 38  sd_current_3_min             121838 non-null  float64\n",
      " 39  sd_current_3_max             121838 non-null  float64\n",
      " 40  sd_current_3_median          121838 non-null  float64\n",
      " 41  sd_current_3_std             121838 non-null  float64\n",
      " 42  mean_current_3_min           121838 non-null  float64\n",
      " 43  mean_current_3_max           121838 non-null  float64\n",
      " 44  mean_current_3_median        121838 non-null  float64\n",
      " 45  mean_current_3_std           121838 non-null  float64\n",
      " 46  diff_dwelling_time_1_min     121838 non-null  float64\n",
      " 47  diff_dwelling_time_1_max     121838 non-null  float64\n",
      " 48  diff_dwelling_time_1_median  121838 non-null  float64\n",
      " 49  diff_dwelling_time_1_std     121838 non-null  float64\n",
      " 50  diff_dwelling_time_2_min     121838 non-null  float64\n",
      " 51  diff_dwelling_time_2_max     121838 non-null  float64\n",
      " 52  diff_dwelling_time_2_median  121838 non-null  float64\n",
      " 53  diff_dwelling_time_2_std     121838 non-null  float64\n",
      " 54  diff_sd_current_1_min        121838 non-null  float64\n",
      " 55  diff_sd_current_1_max        121838 non-null  float64\n",
      " 56  diff_sd_current_1_median     121838 non-null  float64\n",
      " 57  diff_sd_current_1_std        121838 non-null  float64\n",
      " 58  diff_sd_current_2_min        121838 non-null  float64\n",
      " 59  diff_sd_current_2_max        121838 non-null  float64\n",
      " 60  diff_sd_current_2_median     121838 non-null  float64\n",
      " 61  diff_sd_current_2_std        121838 non-null  float64\n",
      " 62  diff_mean_current_1_min      121838 non-null  float64\n",
      " 63  diff_mean_current_1_max      121838 non-null  float64\n",
      " 64  diff_mean_current_1_median   121838 non-null  float64\n",
      " 65  diff_mean_current_1_std      121838 non-null  float64\n",
      " 66  diff_mean_current_2_min      121838 non-null  float64\n",
      " 67  diff_mean_current_2_max      121838 non-null  float64\n",
      " 68  diff_mean_current_2_median   121838 non-null  float64\n",
      " 69  diff_mean_current_2_std      121838 non-null  float64\n",
      " 70  relative_position            121712 non-null  float64\n",
      " 71  count_A                      121838 non-null  float64\n",
      " 72  count_C                      121838 non-null  float64\n",
      " 73  count_G                      121838 non-null  float64\n",
      " 74  count_T                      121838 non-null  float64\n",
      "dtypes: float64(67), object(8)\n",
      "memory usage: 69.7+ MB\n"
     ]
    }
   ],
   "source": [
    "df.info()"
   ]
  },
  {
   "cell_type": "code",
   "execution_count": 7,
   "id": "882126b2",
   "metadata": {},
   "outputs": [
    {
     "data": {
      "text/html": [
       "<div>\n",
       "<style scoped>\n",
       "    .dataframe tbody tr th:only-of-type {\n",
       "        vertical-align: middle;\n",
       "    }\n",
       "\n",
       "    .dataframe tbody tr th {\n",
       "        vertical-align: top;\n",
       "    }\n",
       "\n",
       "    .dataframe thead th {\n",
       "        text-align: right;\n",
       "    }\n",
       "</style>\n",
       "<table border=\"1\" class=\"dataframe\">\n",
       "  <thead>\n",
       "    <tr style=\"text-align: right;\">\n",
       "      <th></th>\n",
       "      <th>transcript_position</th>\n",
       "      <th>label</th>\n",
       "      <th>dwelling_time_1_min</th>\n",
       "      <th>dwelling_time_1_max</th>\n",
       "      <th>dwelling_time_1_median</th>\n",
       "      <th>dwelling_time_1_std</th>\n",
       "      <th>sd_current_1_min</th>\n",
       "      <th>sd_current_1_max</th>\n",
       "      <th>sd_current_1_median</th>\n",
       "      <th>sd_current_1_std</th>\n",
       "      <th>...</th>\n",
       "      <th>diff_mean_current_1_std</th>\n",
       "      <th>diff_mean_current_2_min</th>\n",
       "      <th>diff_mean_current_2_max</th>\n",
       "      <th>diff_mean_current_2_median</th>\n",
       "      <th>diff_mean_current_2_std</th>\n",
       "      <th>relative_position</th>\n",
       "      <th>count_A</th>\n",
       "      <th>count_C</th>\n",
       "      <th>count_G</th>\n",
       "      <th>count_T</th>\n",
       "    </tr>\n",
       "  </thead>\n",
       "  <tbody>\n",
       "    <tr>\n",
       "      <th>count</th>\n",
       "      <td>121838.000000</td>\n",
       "      <td>121838.000000</td>\n",
       "      <td>121838.000000</td>\n",
       "      <td>121838.000000</td>\n",
       "      <td>121838.000000</td>\n",
       "      <td>121838.000000</td>\n",
       "      <td>121838.000000</td>\n",
       "      <td>121838.000000</td>\n",
       "      <td>121838.000000</td>\n",
       "      <td>121838.000000</td>\n",
       "      <td>...</td>\n",
       "      <td>121838.000000</td>\n",
       "      <td>121838.000000</td>\n",
       "      <td>121838.000000</td>\n",
       "      <td>121838.000000</td>\n",
       "      <td>121838.000000</td>\n",
       "      <td>121712.000000</td>\n",
       "      <td>121838.000000</td>\n",
       "      <td>121838.000000</td>\n",
       "      <td>121838.000000</td>\n",
       "      <td>121838.000000</td>\n",
       "    </tr>\n",
       "    <tr>\n",
       "      <th>mean</th>\n",
       "      <td>0.086125</td>\n",
       "      <td>0.044937</td>\n",
       "      <td>0.079236</td>\n",
       "      <td>0.178426</td>\n",
       "      <td>0.275855</td>\n",
       "      <td>0.220600</td>\n",
       "      <td>0.204424</td>\n",
       "      <td>0.037832</td>\n",
       "      <td>0.278504</td>\n",
       "      <td>0.038916</td>\n",
       "      <td>...</td>\n",
       "      <td>0.223717</td>\n",
       "      <td>0.600719</td>\n",
       "      <td>0.353799</td>\n",
       "      <td>0.558398</td>\n",
       "      <td>0.137053</td>\n",
       "      <td>0.504892</td>\n",
       "      <td>0.361193</td>\n",
       "      <td>0.232336</td>\n",
       "      <td>0.342650</td>\n",
       "      <td>0.281608</td>\n",
       "    </tr>\n",
       "    <tr>\n",
       "      <th>std</th>\n",
       "      <td>0.074499</td>\n",
       "      <td>0.207166</td>\n",
       "      <td>0.057796</td>\n",
       "      <td>0.086127</td>\n",
       "      <td>0.109779</td>\n",
       "      <td>0.084702</td>\n",
       "      <td>0.107993</td>\n",
       "      <td>0.024392</td>\n",
       "      <td>0.197611</td>\n",
       "      <td>0.022602</td>\n",
       "      <td>...</td>\n",
       "      <td>0.085140</td>\n",
       "      <td>0.209141</td>\n",
       "      <td>0.153923</td>\n",
       "      <td>0.270714</td>\n",
       "      <td>0.048208</td>\n",
       "      <td>0.307384</td>\n",
       "      <td>0.228732</td>\n",
       "      <td>0.254633</td>\n",
       "      <td>0.232637</td>\n",
       "      <td>0.232806</td>\n",
       "    </tr>\n",
       "    <tr>\n",
       "      <th>min</th>\n",
       "      <td>0.000000</td>\n",
       "      <td>0.000000</td>\n",
       "      <td>0.000000</td>\n",
       "      <td>0.000000</td>\n",
       "      <td>0.000000</td>\n",
       "      <td>0.000000</td>\n",
       "      <td>0.000000</td>\n",
       "      <td>0.000000</td>\n",
       "      <td>0.000000</td>\n",
       "      <td>0.000000</td>\n",
       "      <td>...</td>\n",
       "      <td>0.000000</td>\n",
       "      <td>0.000000</td>\n",
       "      <td>0.000000</td>\n",
       "      <td>0.000000</td>\n",
       "      <td>0.000000</td>\n",
       "      <td>0.000000</td>\n",
       "      <td>0.000000</td>\n",
       "      <td>0.000000</td>\n",
       "      <td>0.000000</td>\n",
       "      <td>0.000000</td>\n",
       "    </tr>\n",
       "    <tr>\n",
       "      <th>25%</th>\n",
       "      <td>0.035777</td>\n",
       "      <td>0.000000</td>\n",
       "      <td>0.040097</td>\n",
       "      <td>0.116822</td>\n",
       "      <td>0.195538</td>\n",
       "      <td>0.159748</td>\n",
       "      <td>0.127335</td>\n",
       "      <td>0.022428</td>\n",
       "      <td>0.130923</td>\n",
       "      <td>0.021054</td>\n",
       "      <td>...</td>\n",
       "      <td>0.163034</td>\n",
       "      <td>0.410788</td>\n",
       "      <td>0.218852</td>\n",
       "      <td>0.307971</td>\n",
       "      <td>0.102507</td>\n",
       "      <td>0.240455</td>\n",
       "      <td>0.200000</td>\n",
       "      <td>0.000000</td>\n",
       "      <td>0.250000</td>\n",
       "      <td>0.000000</td>\n",
       "    </tr>\n",
       "    <tr>\n",
       "      <th>50%</th>\n",
       "      <td>0.066909</td>\n",
       "      <td>0.000000</td>\n",
       "      <td>0.080194</td>\n",
       "      <td>0.163305</td>\n",
       "      <td>0.252953</td>\n",
       "      <td>0.207715</td>\n",
       "      <td>0.180187</td>\n",
       "      <td>0.037070</td>\n",
       "      <td>0.212506</td>\n",
       "      <td>0.036958</td>\n",
       "      <td>...</td>\n",
       "      <td>0.217155</td>\n",
       "      <td>0.531120</td>\n",
       "      <td>0.335861</td>\n",
       "      <td>0.448370</td>\n",
       "      <td>0.132427</td>\n",
       "      <td>0.505480</td>\n",
       "      <td>0.400000</td>\n",
       "      <td>0.333333</td>\n",
       "      <td>0.250000</td>\n",
       "      <td>0.250000</td>\n",
       "    </tr>\n",
       "    <tr>\n",
       "      <th>75%</th>\n",
       "      <td>0.114060</td>\n",
       "      <td>0.000000</td>\n",
       "      <td>0.080194</td>\n",
       "      <td>0.222066</td>\n",
       "      <td>0.332677</td>\n",
       "      <td>0.267810</td>\n",
       "      <td>0.255162</td>\n",
       "      <td>0.050487</td>\n",
       "      <td>0.384465</td>\n",
       "      <td>0.053706</td>\n",
       "      <td>...</td>\n",
       "      <td>0.272945</td>\n",
       "      <td>0.806362</td>\n",
       "      <td>0.497291</td>\n",
       "      <td>0.833333</td>\n",
       "      <td>0.166588</td>\n",
       "      <td>0.772349</td>\n",
       "      <td>0.600000</td>\n",
       "      <td>0.333333</td>\n",
       "      <td>0.500000</td>\n",
       "      <td>0.500000</td>\n",
       "    </tr>\n",
       "    <tr>\n",
       "      <th>max</th>\n",
       "      <td>1.000000</td>\n",
       "      <td>1.000000</td>\n",
       "      <td>1.000000</td>\n",
       "      <td>1.000000</td>\n",
       "      <td>1.000000</td>\n",
       "      <td>1.000000</td>\n",
       "      <td>1.000000</td>\n",
       "      <td>1.000000</td>\n",
       "      <td>1.000000</td>\n",
       "      <td>1.000000</td>\n",
       "      <td>...</td>\n",
       "      <td>1.000000</td>\n",
       "      <td>1.000000</td>\n",
       "      <td>1.000000</td>\n",
       "      <td>1.000000</td>\n",
       "      <td>1.000000</td>\n",
       "      <td>1.000000</td>\n",
       "      <td>1.000000</td>\n",
       "      <td>1.000000</td>\n",
       "      <td>1.000000</td>\n",
       "      <td>1.000000</td>\n",
       "    </tr>\n",
       "  </tbody>\n",
       "</table>\n",
       "<p>8 rows × 67 columns</p>\n",
       "</div>"
      ],
      "text/plain": [
       "       transcript_position          label  dwelling_time_1_min  \\\n",
       "count        121838.000000  121838.000000        121838.000000   \n",
       "mean              0.086125       0.044937             0.079236   \n",
       "std               0.074499       0.207166             0.057796   \n",
       "min               0.000000       0.000000             0.000000   \n",
       "25%               0.035777       0.000000             0.040097   \n",
       "50%               0.066909       0.000000             0.080194   \n",
       "75%               0.114060       0.000000             0.080194   \n",
       "max               1.000000       1.000000             1.000000   \n",
       "\n",
       "       dwelling_time_1_max  dwelling_time_1_median  dwelling_time_1_std  \\\n",
       "count        121838.000000           121838.000000        121838.000000   \n",
       "mean              0.178426                0.275855             0.220600   \n",
       "std               0.086127                0.109779             0.084702   \n",
       "min               0.000000                0.000000             0.000000   \n",
       "25%               0.116822                0.195538             0.159748   \n",
       "50%               0.163305                0.252953             0.207715   \n",
       "75%               0.222066                0.332677             0.267810   \n",
       "max               1.000000                1.000000             1.000000   \n",
       "\n",
       "       sd_current_1_min  sd_current_1_max  sd_current_1_median  \\\n",
       "count     121838.000000     121838.000000        121838.000000   \n",
       "mean           0.204424          0.037832             0.278504   \n",
       "std            0.107993          0.024392             0.197611   \n",
       "min            0.000000          0.000000             0.000000   \n",
       "25%            0.127335          0.022428             0.130923   \n",
       "50%            0.180187          0.037070             0.212506   \n",
       "75%            0.255162          0.050487             0.384465   \n",
       "max            1.000000          1.000000             1.000000   \n",
       "\n",
       "       sd_current_1_std  ...  diff_mean_current_1_std  \\\n",
       "count     121838.000000  ...            121838.000000   \n",
       "mean           0.038916  ...                 0.223717   \n",
       "std            0.022602  ...                 0.085140   \n",
       "min            0.000000  ...                 0.000000   \n",
       "25%            0.021054  ...                 0.163034   \n",
       "50%            0.036958  ...                 0.217155   \n",
       "75%            0.053706  ...                 0.272945   \n",
       "max            1.000000  ...                 1.000000   \n",
       "\n",
       "       diff_mean_current_2_min  diff_mean_current_2_max  \\\n",
       "count            121838.000000            121838.000000   \n",
       "mean                  0.600719                 0.353799   \n",
       "std                   0.209141                 0.153923   \n",
       "min                   0.000000                 0.000000   \n",
       "25%                   0.410788                 0.218852   \n",
       "50%                   0.531120                 0.335861   \n",
       "75%                   0.806362                 0.497291   \n",
       "max                   1.000000                 1.000000   \n",
       "\n",
       "       diff_mean_current_2_median  diff_mean_current_2_std  relative_position  \\\n",
       "count               121838.000000            121838.000000      121712.000000   \n",
       "mean                     0.558398                 0.137053           0.504892   \n",
       "std                      0.270714                 0.048208           0.307384   \n",
       "min                      0.000000                 0.000000           0.000000   \n",
       "25%                      0.307971                 0.102507           0.240455   \n",
       "50%                      0.448370                 0.132427           0.505480   \n",
       "75%                      0.833333                 0.166588           0.772349   \n",
       "max                      1.000000                 1.000000           1.000000   \n",
       "\n",
       "             count_A        count_C        count_G        count_T  \n",
       "count  121838.000000  121838.000000  121838.000000  121838.000000  \n",
       "mean        0.361193       0.232336       0.342650       0.281608  \n",
       "std         0.228732       0.254633       0.232637       0.232806  \n",
       "min         0.000000       0.000000       0.000000       0.000000  \n",
       "25%         0.200000       0.000000       0.250000       0.000000  \n",
       "50%         0.400000       0.333333       0.250000       0.250000  \n",
       "75%         0.600000       0.333333       0.500000       0.500000  \n",
       "max         1.000000       1.000000       1.000000       1.000000  \n",
       "\n",
       "[8 rows x 67 columns]"
      ]
     },
     "execution_count": 7,
     "metadata": {},
     "output_type": "execute_result"
    }
   ],
   "source": [
    "df.describe()"
   ]
  },
  {
   "cell_type": "code",
   "execution_count": 8,
   "id": "92f2bf0d",
   "metadata": {},
   "outputs": [
    {
     "name": "stdout",
     "output_type": "stream",
     "text": [
      "Non-numerical features:  ['order_2', 'order_1', 'order_7', 'sevenmers', 'transcript_id', 'gene_id', 'order_3', 'order_6']\n"
     ]
    }
   ],
   "source": [
    "# Get non-numerical features.\n",
    "non_num_cols = list(set(df.columns) - set(df.describe().columns))\n",
    "print('Non-numerical features: ', non_num_cols)"
   ]
  },
  {
   "cell_type": "code",
   "execution_count": 9,
   "id": "6b10f2e6",
   "metadata": {},
   "outputs": [],
   "source": [
    "#Assign appropriate data type to categorical variables.\n",
    "df[non_num_cols] = df[non_num_cols].astype('category')"
   ]
  },
  {
   "cell_type": "code",
   "execution_count": 10,
   "id": "74e4e50c",
   "metadata": {
    "scrolled": true
   },
   "outputs": [
    {
     "name": "stdout",
     "output_type": "stream",
     "text": [
      "<class 'pandas.core.frame.DataFrame'>\n",
      "RangeIndex: 121838 entries, 0 to 121837\n",
      "Data columns (total 75 columns):\n",
      " #   Column                       Non-Null Count   Dtype   \n",
      "---  ------                       --------------   -----   \n",
      " 0   gene_id                      121838 non-null  category\n",
      " 1   transcript_id                121838 non-null  category\n",
      " 2   sevenmers                    121838 non-null  category\n",
      " 3   order_1                      121838 non-null  category\n",
      " 4   order_2                      121838 non-null  category\n",
      " 5   order_3                      121838 non-null  category\n",
      " 6   order_6                      121838 non-null  category\n",
      " 7   order_7                      121838 non-null  category\n",
      " 8   transcript_position          121838 non-null  float64 \n",
      " 9   label                        121838 non-null  float64 \n",
      " 10  dwelling_time_1_min          121838 non-null  float64 \n",
      " 11  dwelling_time_1_max          121838 non-null  float64 \n",
      " 12  dwelling_time_1_median       121838 non-null  float64 \n",
      " 13  dwelling_time_1_std          121838 non-null  float64 \n",
      " 14  sd_current_1_min             121838 non-null  float64 \n",
      " 15  sd_current_1_max             121838 non-null  float64 \n",
      " 16  sd_current_1_median          121838 non-null  float64 \n",
      " 17  sd_current_1_std             121838 non-null  float64 \n",
      " 18  mean_current_1_min           121838 non-null  float64 \n",
      " 19  mean_current_1_max           121838 non-null  float64 \n",
      " 20  mean_current_1_median        121838 non-null  float64 \n",
      " 21  mean_current_1_std           121838 non-null  float64 \n",
      " 22  dwelling_time_2_min          121838 non-null  float64 \n",
      " 23  dwelling_time_2_max          121838 non-null  float64 \n",
      " 24  dwelling_time_2_median       121838 non-null  float64 \n",
      " 25  dwelling_time_2_std          121838 non-null  float64 \n",
      " 26  sd_current_2_min             121838 non-null  float64 \n",
      " 27  sd_current_2_max             121838 non-null  float64 \n",
      " 28  sd_current_2_median          121838 non-null  float64 \n",
      " 29  sd_current_2_std             121838 non-null  float64 \n",
      " 30  mean_current_2_min           121838 non-null  float64 \n",
      " 31  mean_current_2_max           121838 non-null  float64 \n",
      " 32  mean_current_2_median        121838 non-null  float64 \n",
      " 33  mean_current_2_std           121838 non-null  float64 \n",
      " 34  dwelling_time_3_min          121838 non-null  float64 \n",
      " 35  dwelling_time_3_max          121838 non-null  float64 \n",
      " 36  dwelling_time_3_median       121838 non-null  float64 \n",
      " 37  dwelling_time_3_std          121838 non-null  float64 \n",
      " 38  sd_current_3_min             121838 non-null  float64 \n",
      " 39  sd_current_3_max             121838 non-null  float64 \n",
      " 40  sd_current_3_median          121838 non-null  float64 \n",
      " 41  sd_current_3_std             121838 non-null  float64 \n",
      " 42  mean_current_3_min           121838 non-null  float64 \n",
      " 43  mean_current_3_max           121838 non-null  float64 \n",
      " 44  mean_current_3_median        121838 non-null  float64 \n",
      " 45  mean_current_3_std           121838 non-null  float64 \n",
      " 46  diff_dwelling_time_1_min     121838 non-null  float64 \n",
      " 47  diff_dwelling_time_1_max     121838 non-null  float64 \n",
      " 48  diff_dwelling_time_1_median  121838 non-null  float64 \n",
      " 49  diff_dwelling_time_1_std     121838 non-null  float64 \n",
      " 50  diff_dwelling_time_2_min     121838 non-null  float64 \n",
      " 51  diff_dwelling_time_2_max     121838 non-null  float64 \n",
      " 52  diff_dwelling_time_2_median  121838 non-null  float64 \n",
      " 53  diff_dwelling_time_2_std     121838 non-null  float64 \n",
      " 54  diff_sd_current_1_min        121838 non-null  float64 \n",
      " 55  diff_sd_current_1_max        121838 non-null  float64 \n",
      " 56  diff_sd_current_1_median     121838 non-null  float64 \n",
      " 57  diff_sd_current_1_std        121838 non-null  float64 \n",
      " 58  diff_sd_current_2_min        121838 non-null  float64 \n",
      " 59  diff_sd_current_2_max        121838 non-null  float64 \n",
      " 60  diff_sd_current_2_median     121838 non-null  float64 \n",
      " 61  diff_sd_current_2_std        121838 non-null  float64 \n",
      " 62  diff_mean_current_1_min      121838 non-null  float64 \n",
      " 63  diff_mean_current_1_max      121838 non-null  float64 \n",
      " 64  diff_mean_current_1_median   121838 non-null  float64 \n",
      " 65  diff_mean_current_1_std      121838 non-null  float64 \n",
      " 66  diff_mean_current_2_min      121838 non-null  float64 \n",
      " 67  diff_mean_current_2_max      121838 non-null  float64 \n",
      " 68  diff_mean_current_2_median   121838 non-null  float64 \n",
      " 69  diff_mean_current_2_std      121838 non-null  float64 \n",
      " 70  relative_position            121712 non-null  float64 \n",
      " 71  count_A                      121838 non-null  float64 \n",
      " 72  count_C                      121838 non-null  float64 \n",
      " 73  count_G                      121838 non-null  float64 \n",
      " 74  count_T                      121838 non-null  float64 \n",
      "dtypes: category(8), float64(67)\n",
      "memory usage: 63.9 MB\n"
     ]
    }
   ],
   "source": [
    "df.info()"
   ]
  },
  {
   "cell_type": "markdown",
   "id": "6a17d4c9",
   "metadata": {},
   "source": [
    "# Train-test split"
   ]
  },
  {
   "cell_type": "code",
   "execution_count": 11,
   "id": "2d5c0ece",
   "metadata": {},
   "outputs": [],
   "source": [
    "splitter = GroupShuffleSplit(test_size=.20, n_splits=1, random_state = 42)\n",
    "split = splitter.split(df, groups = df['gene_id'])\n",
    "train_inds, test_inds = next(split)\n",
    "\n",
    "train = df.iloc[train_inds]\n",
    "test = df.iloc[test_inds]"
   ]
  },
  {
   "cell_type": "code",
   "execution_count": 12,
   "id": "0ed3d056",
   "metadata": {},
   "outputs": [],
   "source": [
    "y_train = train['label']\n",
    "X_train = train.drop(['label', 'sevenmers'], axis = 1)\n",
    "\n",
    "y_test = test['label']\n",
    "X_test = test.drop(['label', 'sevenmers'], axis = 1)"
   ]
  },
  {
   "cell_type": "code",
   "execution_count": 13,
   "id": "6b71b215",
   "metadata": {},
   "outputs": [],
   "source": [
    "train_geneids = train['gene_id'].unique()\n",
    "test_geneids = test['gene_id'].unique()"
   ]
  },
  {
   "cell_type": "code",
   "execution_count": 14,
   "id": "5c8d943c",
   "metadata": {},
   "outputs": [
    {
     "data": {
      "text/plain": [
       "False"
      ]
     },
     "execution_count": 14,
     "metadata": {},
     "output_type": "execute_result"
    }
   ],
   "source": [
    "# check if any gene id in train set is present in test set\n",
    "np.in1d(train_geneids, test_geneids).any()"
   ]
  },
  {
   "cell_type": "markdown",
   "id": "d98397fd",
   "metadata": {},
   "source": [
    "# Drop gene_id and transcript_id columns"
   ]
  },
  {
   "cell_type": "code",
   "execution_count": 15,
   "id": "6a3440d7",
   "metadata": {},
   "outputs": [],
   "source": [
    "X_train_ids = X_train[['gene_id', 'transcript_id']]\n",
    "X_train_clean = X_train.drop(columns=['gene_id', 'transcript_id'])"
   ]
  },
  {
   "cell_type": "code",
   "execution_count": 16,
   "id": "4a0549f6",
   "metadata": {},
   "outputs": [
    {
     "data": {
      "text/plain": [
       "(98006, 2)"
      ]
     },
     "execution_count": 16,
     "metadata": {},
     "output_type": "execute_result"
    }
   ],
   "source": [
    "X_train_ids.shape"
   ]
  },
  {
   "cell_type": "code",
   "execution_count": 17,
   "id": "b80cb84c",
   "metadata": {},
   "outputs": [
    {
     "data": {
      "text/plain": [
       "(98006, 71)"
      ]
     },
     "execution_count": 17,
     "metadata": {},
     "output_type": "execute_result"
    }
   ],
   "source": [
    "X_train_clean.shape"
   ]
  },
  {
   "cell_type": "code",
   "execution_count": 18,
   "id": "24f27d33",
   "metadata": {},
   "outputs": [],
   "source": [
    "X_test_ids = X_test[['gene_id', 'transcript_id']]\n",
    "X_test_clean = X_test.drop(columns=['gene_id', 'transcript_id'])"
   ]
  },
  {
   "cell_type": "markdown",
   "id": "c092753f",
   "metadata": {},
   "source": [
    "# Oversampling on train data"
   ]
  },
  {
   "cell_type": "code",
   "execution_count": 19,
   "id": "6ce11a56",
   "metadata": {},
   "outputs": [
    {
     "name": "stdout",
     "output_type": "stream",
     "text": [
      "Original dataset shape Counter({0.0: 93715, 1.0: 4291})\n"
     ]
    }
   ],
   "source": [
    "print('Original dataset shape %s' % Counter(y_train))"
   ]
  },
  {
   "cell_type": "code",
   "execution_count": 20,
   "id": "86d316f5",
   "metadata": {},
   "outputs": [
    {
     "data": {
      "text/plain": [
       "<AxesSubplot:>"
      ]
     },
     "execution_count": 20,
     "metadata": {},
     "output_type": "execute_result"
    },
    {
     "data": {
      "image/png": "[encoded data removed]",
      "text/plain": [
       "<Figure size 432x288 with 1 Axes>"
      ]
     },
     "metadata": {
      "needs_background": "light"
     },
     "output_type": "display_data"
    }
   ],
   "source": [
    "y_train.value_counts().plot(kind=\"bar\")"
   ]
  },
  {
   "cell_type": "code",
   "execution_count": 21,
   "id": "07b1dd53",
   "metadata": {},
   "outputs": [
    {
     "data": {
      "text/plain": [
       "0.0    0.956217\n",
       "1.0    0.043783\n",
       "Name: label, dtype: float64"
      ]
     },
     "execution_count": 21,
     "metadata": {},
     "output_type": "execute_result"
    }
   ],
   "source": [
    "y_train.value_counts()/len(y_train)"
   ]
  },
  {
   "cell_type": "markdown",
   "id": "e8ce87f9",
   "metadata": {},
   "source": [
    "95.6% of training data consists of data with no m6a modification. Class imbalance!"
   ]
  },
  {
   "cell_type": "code",
   "execution_count": 22,
   "id": "55ff1265",
   "metadata": {},
   "outputs": [],
   "source": [
    "# create list with categorical features' names\n",
    "nonum_cols_names = ['order_1', 'order_2', 'order_3', 'order_4', 'order_5', 'order_6', 'order_7']\n",
    "\n",
    "# # create list with numerical features' names\n",
    "# num_cols_names = ['dwelling_time_min', 'dwelling_time_max', 'dwelling_time_mean', 'dwelling_time_median', 'dwelling_time_std', \n",
    "#                   'dwelling_time_skew', 'sd_current_min', 'sd_current_max', 'sd_current_mean', 'sd_current_median', 'sd_current_std',\n",
    "#                   'sd_current_skew', 'mean_current_min', 'mean_current_max', 'mean_current_mean', 'mean_current_median', 'mean_current_std',\n",
    "#                   'mean_current_skew', 'count_A', 'count_C', 'count_G', 'count_T']"
   ]
  },
  {
   "cell_type": "code",
   "execution_count": 23,
   "id": "5ba65c28",
   "metadata": {},
   "outputs": [],
   "source": [
    "cat_col_index = [df.columns.get_loc(c) for c in nonum_cols_names if c in df]"
   ]
  },
  {
   "cell_type": "code",
   "execution_count": 24,
   "id": "74340f46",
   "metadata": {},
   "outputs": [
    {
     "data": {
      "text/html": [
       "<div>\n",
       "<style scoped>\n",
       "    .dataframe tbody tr th:only-of-type {\n",
       "        vertical-align: middle;\n",
       "    }\n",
       "\n",
       "    .dataframe tbody tr th {\n",
       "        vertical-align: top;\n",
       "    }\n",
       "\n",
       "    .dataframe thead th {\n",
       "        text-align: right;\n",
       "    }\n",
       "</style>\n",
       "<table border=\"1\" class=\"dataframe\">\n",
       "  <thead>\n",
       "    <tr style=\"text-align: right;\">\n",
       "      <th></th>\n",
       "      <th>order_1</th>\n",
       "      <th>order_2</th>\n",
       "      <th>order_3</th>\n",
       "      <th>order_6</th>\n",
       "      <th>order_7</th>\n",
       "      <th>transcript_position</th>\n",
       "      <th>dwelling_time_1_min</th>\n",
       "      <th>dwelling_time_1_max</th>\n",
       "      <th>dwelling_time_1_median</th>\n",
       "      <th>dwelling_time_1_std</th>\n",
       "      <th>...</th>\n",
       "      <th>diff_mean_current_1_std</th>\n",
       "      <th>diff_mean_current_2_min</th>\n",
       "      <th>diff_mean_current_2_max</th>\n",
       "      <th>diff_mean_current_2_median</th>\n",
       "      <th>diff_mean_current_2_std</th>\n",
       "      <th>relative_position</th>\n",
       "      <th>count_A</th>\n",
       "      <th>count_C</th>\n",
       "      <th>count_G</th>\n",
       "      <th>count_T</th>\n",
       "    </tr>\n",
       "  </thead>\n",
       "  <tbody>\n",
       "    <tr>\n",
       "      <th>13</th>\n",
       "      <td>A</td>\n",
       "      <td>G</td>\n",
       "      <td>A</td>\n",
       "      <td>A</td>\n",
       "      <td>A</td>\n",
       "      <td>0.005447</td>\n",
       "      <td>0.201701</td>\n",
       "      <td>0.200140</td>\n",
       "      <td>0.472441</td>\n",
       "      <td>0.308882</td>\n",
       "      <td>...</td>\n",
       "      <td>0.166513</td>\n",
       "      <td>0.869986</td>\n",
       "      <td>0.483207</td>\n",
       "      <td>0.879529</td>\n",
       "      <td>0.060948</td>\n",
       "      <td>0.000000</td>\n",
       "      <td>0.8</td>\n",
       "      <td>0.000000</td>\n",
       "      <td>0.25</td>\n",
       "      <td>0.00</td>\n",
       "    </tr>\n",
       "    <tr>\n",
       "      <th>14</th>\n",
       "      <td>A</td>\n",
       "      <td>G</td>\n",
       "      <td>A</td>\n",
       "      <td>C</td>\n",
       "      <td>T</td>\n",
       "      <td>0.007689</td>\n",
       "      <td>0.061968</td>\n",
       "      <td>0.142256</td>\n",
       "      <td>0.325787</td>\n",
       "      <td>0.230354</td>\n",
       "      <td>...</td>\n",
       "      <td>0.155642</td>\n",
       "      <td>0.778700</td>\n",
       "      <td>0.458288</td>\n",
       "      <td>0.798007</td>\n",
       "      <td>0.113437</td>\n",
       "      <td>0.041257</td>\n",
       "      <td>0.4</td>\n",
       "      <td>0.333333</td>\n",
       "      <td>0.25</td>\n",
       "      <td>0.25</td>\n",
       "    </tr>\n",
       "    <tr>\n",
       "      <th>15</th>\n",
       "      <td>G</td>\n",
       "      <td>G</td>\n",
       "      <td>A</td>\n",
       "      <td>A</td>\n",
       "      <td>A</td>\n",
       "      <td>0.012762</td>\n",
       "      <td>0.151883</td>\n",
       "      <td>0.135239</td>\n",
       "      <td>0.183727</td>\n",
       "      <td>0.169832</td>\n",
       "      <td>...</td>\n",
       "      <td>0.282988</td>\n",
       "      <td>0.876902</td>\n",
       "      <td>0.498375</td>\n",
       "      <td>0.874094</td>\n",
       "      <td>0.081961</td>\n",
       "      <td>0.134578</td>\n",
       "      <td>0.6</td>\n",
       "      <td>0.000000</td>\n",
       "      <td>0.50</td>\n",
       "      <td>0.00</td>\n",
       "    </tr>\n",
       "    <tr>\n",
       "      <th>16</th>\n",
       "      <td>T</td>\n",
       "      <td>G</td>\n",
       "      <td>A</td>\n",
       "      <td>A</td>\n",
       "      <td>G</td>\n",
       "      <td>0.013670</td>\n",
       "      <td>0.317132</td>\n",
       "      <td>0.138748</td>\n",
       "      <td>0.370079</td>\n",
       "      <td>0.257457</td>\n",
       "      <td>...</td>\n",
       "      <td>0.083234</td>\n",
       "      <td>0.896266</td>\n",
       "      <td>0.487541</td>\n",
       "      <td>0.871377</td>\n",
       "      <td>0.069808</td>\n",
       "      <td>0.151277</td>\n",
       "      <td>0.4</td>\n",
       "      <td>0.000000</td>\n",
       "      <td>0.50</td>\n",
       "      <td>0.25</td>\n",
       "    </tr>\n",
       "    <tr>\n",
       "      <th>17</th>\n",
       "      <td>C</td>\n",
       "      <td>A</td>\n",
       "      <td>G</td>\n",
       "      <td>A</td>\n",
       "      <td>G</td>\n",
       "      <td>0.015058</td>\n",
       "      <td>0.080194</td>\n",
       "      <td>0.087002</td>\n",
       "      <td>0.152231</td>\n",
       "      <td>0.153469</td>\n",
       "      <td>...</td>\n",
       "      <td>0.586692</td>\n",
       "      <td>0.406639</td>\n",
       "      <td>0.114843</td>\n",
       "      <td>0.211957</td>\n",
       "      <td>0.094281</td>\n",
       "      <td>0.176817</td>\n",
       "      <td>0.4</td>\n",
       "      <td>0.333333</td>\n",
       "      <td>0.50</td>\n",
       "      <td>0.00</td>\n",
       "    </tr>\n",
       "  </tbody>\n",
       "</table>\n",
       "<p>5 rows × 71 columns</p>\n",
       "</div>"
      ],
      "text/plain": [
       "   order_1 order_2 order_3 order_6 order_7  transcript_position  \\\n",
       "13       A       G       A       A       A             0.005447   \n",
       "14       A       G       A       C       T             0.007689   \n",
       "15       G       G       A       A       A             0.012762   \n",
       "16       T       G       A       A       G             0.013670   \n",
       "17       C       A       G       A       G             0.015058   \n",
       "\n",
       "    dwelling_time_1_min  dwelling_time_1_max  dwelling_time_1_median  \\\n",
       "13             0.201701             0.200140                0.472441   \n",
       "14             0.061968             0.142256                0.325787   \n",
       "15             0.151883             0.135239                0.183727   \n",
       "16             0.317132             0.138748                0.370079   \n",
       "17             0.080194             0.087002                0.152231   \n",
       "\n",
       "    dwelling_time_1_std  ...  diff_mean_current_1_std  \\\n",
       "13             0.308882  ...                 0.166513   \n",
       "14             0.230354  ...                 0.155642   \n",
       "15             0.169832  ...                 0.282988   \n",
       "16             0.257457  ...                 0.083234   \n",
       "17             0.153469  ...                 0.586692   \n",
       "\n",
       "    diff_mean_current_2_min  diff_mean_current_2_max  \\\n",
       "13                 0.869986                 0.483207   \n",
       "14                 0.778700                 0.458288   \n",
       "15                 0.876902                 0.498375   \n",
       "16                 0.896266                 0.487541   \n",
       "17                 0.406639                 0.114843   \n",
       "\n",
       "    diff_mean_current_2_median  diff_mean_current_2_std  relative_position  \\\n",
       "13                    0.879529                 0.060948           0.000000   \n",
       "14                    0.798007                 0.113437           0.041257   \n",
       "15                    0.874094                 0.081961           0.134578   \n",
       "16                    0.871377                 0.069808           0.151277   \n",
       "17                    0.211957                 0.094281           0.176817   \n",
       "\n",
       "    count_A   count_C  count_G  count_T  \n",
       "13      0.8  0.000000     0.25     0.00  \n",
       "14      0.4  0.333333     0.25     0.25  \n",
       "15      0.6  0.000000     0.50     0.00  \n",
       "16      0.4  0.000000     0.50     0.25  \n",
       "17      0.4  0.333333     0.50     0.00  \n",
       "\n",
       "[5 rows x 71 columns]"
      ]
     },
     "execution_count": 24,
     "metadata": {},
     "output_type": "execute_result"
    }
   ],
   "source": [
    "X_train_clean.head(5)"
   ]
  },
  {
   "cell_type": "code",
   "execution_count": 25,
   "id": "5fb926f5",
   "metadata": {},
   "outputs": [
    {
     "data": {
      "text/plain": [
       "[3, 4, 5, 6, 7]"
      ]
     },
     "execution_count": 25,
     "metadata": {},
     "output_type": "execute_result"
    }
   ],
   "source": [
    "cat_col_index"
   ]
  },
  {
   "cell_type": "code",
   "execution_count": 26,
   "id": "4ff661c2",
   "metadata": {},
   "outputs": [],
   "source": [
    "# define oversampling strategy so that ratio of minority samples to majority samples is 1:2\n",
    "oversample = RandomOverSampler(sampling_strategy=0.5, random_state=42)"
   ]
  },
  {
   "cell_type": "code",
   "execution_count": 27,
   "id": "1b595ad0",
   "metadata": {},
   "outputs": [],
   "source": [
    "X_train_over, y_train_over = oversample.fit_resample(X_train_clean, y_train)"
   ]
  },
  {
   "cell_type": "code",
   "execution_count": 28,
   "id": "c4d9f38d",
   "metadata": {},
   "outputs": [
    {
     "name": "stdout",
     "output_type": "stream",
     "text": [
      "Resampled dataset shape Counter({0.0: 93715, 1.0: 46857})\n"
     ]
    }
   ],
   "source": [
    "print('Resampled dataset shape %s' % Counter(y_train_over))"
   ]
  },
  {
   "cell_type": "code",
   "execution_count": 29,
   "id": "a0f0fe68",
   "metadata": {},
   "outputs": [
    {
     "data": {
      "text/plain": [
       "0.0    0.666669\n",
       "1.0    0.333331\n",
       "Name: label, dtype: float64"
      ]
     },
     "execution_count": 29,
     "metadata": {},
     "output_type": "execute_result"
    }
   ],
   "source": [
    "y_train_over.value_counts()/len(y_train_over)"
   ]
  },
  {
   "cell_type": "code",
   "execution_count": 30,
   "id": "f25972cb",
   "metadata": {},
   "outputs": [
    {
     "data": {
      "text/plain": [
       "<AxesSubplot:>"
      ]
     },
     "execution_count": 30,
     "metadata": {},
     "output_type": "execute_result"
    },
    {
     "data": {
      "image/png": "[encoded data removed]",
      "text/plain": [
       "<Figure size 432x288 with 1 Axes>"
      ]
     },
     "metadata": {
      "needs_background": "light"
     },
     "output_type": "display_data"
    }
   ],
   "source": [
    "y_train_over.value_counts().plot(kind=\"bar\")"
   ]
  },
  {
   "cell_type": "code",
   "execution_count": 31,
   "id": "145ad5de",
   "metadata": {},
   "outputs": [],
   "source": [
    "# define undersampling strategy so that the ratio of minority to majority samples becomes 3:4\n",
    "under = RandomUnderSampler(sampling_strategy=0.75)\n",
    "# fit and apply the transform\n",
    "X_train_under, y_train_under = under.fit_resample(X_train_over, y_train_over)"
   ]
  },
  {
   "cell_type": "code",
   "execution_count": 32,
   "id": "e8c01023",
   "metadata": {},
   "outputs": [
    {
     "name": "stdout",
     "output_type": "stream",
     "text": [
      "Resampled dataset shape Counter({0.0: 62476, 1.0: 46857})\n"
     ]
    }
   ],
   "source": [
    "print('Resampled dataset shape %s' % Counter(y_train_under))"
   ]
  },
  {
   "cell_type": "code",
   "execution_count": 33,
   "id": "80e77668",
   "metadata": {},
   "outputs": [
    {
     "data": {
      "text/plain": [
       "0.0    0.571429\n",
       "1.0    0.428571\n",
       "Name: label, dtype: float64"
      ]
     },
     "execution_count": 33,
     "metadata": {},
     "output_type": "execute_result"
    }
   ],
   "source": [
    "y_train_under.value_counts()/len(y_train_under)"
   ]
  },
  {
   "cell_type": "code",
   "execution_count": 34,
   "id": "65dbe54a",
   "metadata": {},
   "outputs": [
    {
     "data": {
      "text/plain": [
       "<AxesSubplot:>"
      ]
     },
     "execution_count": 34,
     "metadata": {},
     "output_type": "execute_result"
    },
    {
     "data": {
      "image/png": "[encoded data removed]",
      "text/plain": [
       "<Figure size 432x288 with 1 Axes>"
      ]
     },
     "metadata": {
      "needs_background": "light"
     },
     "output_type": "display_data"
    }
   ],
   "source": [
    "y_train_under.value_counts().plot(kind=\"bar\")"
   ]
  },
  {
   "cell_type": "code",
   "execution_count": 35,
   "id": "70286766",
   "metadata": {},
   "outputs": [
    {
     "data": {
      "text/html": [
       "<div>\n",
       "<style scoped>\n",
       "    .dataframe tbody tr th:only-of-type {\n",
       "        vertical-align: middle;\n",
       "    }\n",
       "\n",
       "    .dataframe tbody tr th {\n",
       "        vertical-align: top;\n",
       "    }\n",
       "\n",
       "    .dataframe thead th {\n",
       "        text-align: right;\n",
       "    }\n",
       "</style>\n",
       "<table border=\"1\" class=\"dataframe\">\n",
       "  <thead>\n",
       "    <tr style=\"text-align: right;\">\n",
       "      <th></th>\n",
       "      <th>order_1</th>\n",
       "      <th>order_2</th>\n",
       "      <th>order_3</th>\n",
       "      <th>order_6</th>\n",
       "      <th>order_7</th>\n",
       "      <th>transcript_position</th>\n",
       "      <th>dwelling_time_1_min</th>\n",
       "      <th>dwelling_time_1_max</th>\n",
       "      <th>dwelling_time_1_median</th>\n",
       "      <th>dwelling_time_1_std</th>\n",
       "      <th>...</th>\n",
       "      <th>diff_mean_current_1_std</th>\n",
       "      <th>diff_mean_current_2_min</th>\n",
       "      <th>diff_mean_current_2_max</th>\n",
       "      <th>diff_mean_current_2_median</th>\n",
       "      <th>diff_mean_current_2_std</th>\n",
       "      <th>relative_position</th>\n",
       "      <th>count_A</th>\n",
       "      <th>count_C</th>\n",
       "      <th>count_G</th>\n",
       "      <th>count_T</th>\n",
       "    </tr>\n",
       "  </thead>\n",
       "  <tbody>\n",
       "    <tr>\n",
       "      <th>0</th>\n",
       "      <td>A</td>\n",
       "      <td>G</td>\n",
       "      <td>G</td>\n",
       "      <td>C</td>\n",
       "      <td>C</td>\n",
       "      <td>0.141507</td>\n",
       "      <td>0.126367</td>\n",
       "      <td>0.153657</td>\n",
       "      <td>0.394357</td>\n",
       "      <td>0.233690</td>\n",
       "      <td>...</td>\n",
       "      <td>0.246409</td>\n",
       "      <td>0.394191</td>\n",
       "      <td>0.228602</td>\n",
       "      <td>0.277174</td>\n",
       "      <td>0.161305</td>\n",
       "      <td>0.575243</td>\n",
       "      <td>0.2</td>\n",
       "      <td>0.666667</td>\n",
       "      <td>0.50</td>\n",
       "      <td>0.00</td>\n",
       "    </tr>\n",
       "    <tr>\n",
       "      <th>1</th>\n",
       "      <td>A</td>\n",
       "      <td>T</td>\n",
       "      <td>G</td>\n",
       "      <td>T</td>\n",
       "      <td>A</td>\n",
       "      <td>0.062370</td>\n",
       "      <td>0.080194</td>\n",
       "      <td>0.209788</td>\n",
       "      <td>0.271982</td>\n",
       "      <td>0.261444</td>\n",
       "      <td>...</td>\n",
       "      <td>0.198276</td>\n",
       "      <td>0.567082</td>\n",
       "      <td>0.229686</td>\n",
       "      <td>0.486413</td>\n",
       "      <td>0.098550</td>\n",
       "      <td>0.987267</td>\n",
       "      <td>0.4</td>\n",
       "      <td>0.000000</td>\n",
       "      <td>0.25</td>\n",
       "      <td>0.50</td>\n",
       "    </tr>\n",
       "    <tr>\n",
       "      <th>2</th>\n",
       "      <td>T</td>\n",
       "      <td>G</td>\n",
       "      <td>G</td>\n",
       "      <td>A</td>\n",
       "      <td>A</td>\n",
       "      <td>0.143803</td>\n",
       "      <td>0.080194</td>\n",
       "      <td>0.099281</td>\n",
       "      <td>0.181102</td>\n",
       "      <td>0.141981</td>\n",
       "      <td>...</td>\n",
       "      <td>0.188066</td>\n",
       "      <td>0.442600</td>\n",
       "      <td>0.172264</td>\n",
       "      <td>0.362319</td>\n",
       "      <td>0.139315</td>\n",
       "      <td>0.907086</td>\n",
       "      <td>0.4</td>\n",
       "      <td>0.000000</td>\n",
       "      <td>0.50</td>\n",
       "      <td>0.25</td>\n",
       "    </tr>\n",
       "    <tr>\n",
       "      <th>3</th>\n",
       "      <td>A</td>\n",
       "      <td>A</td>\n",
       "      <td>A</td>\n",
       "      <td>T</td>\n",
       "      <td>C</td>\n",
       "      <td>0.089229</td>\n",
       "      <td>0.130012</td>\n",
       "      <td>0.052798</td>\n",
       "      <td>0.175525</td>\n",
       "      <td>0.078560</td>\n",
       "      <td>...</td>\n",
       "      <td>0.165828</td>\n",
       "      <td>0.756570</td>\n",
       "      <td>0.450704</td>\n",
       "      <td>0.756341</td>\n",
       "      <td>0.160166</td>\n",
       "      <td>0.210394</td>\n",
       "      <td>0.6</td>\n",
       "      <td>0.333333</td>\n",
       "      <td>0.00</td>\n",
       "      <td>0.25</td>\n",
       "    </tr>\n",
       "    <tr>\n",
       "      <th>4</th>\n",
       "      <td>A</td>\n",
       "      <td>T</td>\n",
       "      <td>G</td>\n",
       "      <td>C</td>\n",
       "      <td>T</td>\n",
       "      <td>0.092487</td>\n",
       "      <td>0.040097</td>\n",
       "      <td>0.093142</td>\n",
       "      <td>0.152231</td>\n",
       "      <td>0.134184</td>\n",
       "      <td>...</td>\n",
       "      <td>0.331370</td>\n",
       "      <td>0.363762</td>\n",
       "      <td>0.234020</td>\n",
       "      <td>0.323370</td>\n",
       "      <td>0.248865</td>\n",
       "      <td>0.756564</td>\n",
       "      <td>0.2</td>\n",
       "      <td>0.333333</td>\n",
       "      <td>0.25</td>\n",
       "      <td>0.50</td>\n",
       "    </tr>\n",
       "  </tbody>\n",
       "</table>\n",
       "<p>5 rows × 71 columns</p>\n",
       "</div>"
      ],
      "text/plain": [
       "  order_1 order_2 order_3 order_6 order_7  transcript_position  \\\n",
       "0       A       G       G       C       C             0.141507   \n",
       "1       A       T       G       T       A             0.062370   \n",
       "2       T       G       G       A       A             0.143803   \n",
       "3       A       A       A       T       C             0.089229   \n",
       "4       A       T       G       C       T             0.092487   \n",
       "\n",
       "   dwelling_time_1_min  dwelling_time_1_max  dwelling_time_1_median  \\\n",
       "0             0.126367             0.153657                0.394357   \n",
       "1             0.080194             0.209788                0.271982   \n",
       "2             0.080194             0.099281                0.181102   \n",
       "3             0.130012             0.052798                0.175525   \n",
       "4             0.040097             0.093142                0.152231   \n",
       "\n",
       "   dwelling_time_1_std  ...  diff_mean_current_1_std  diff_mean_current_2_min  \\\n",
       "0             0.233690  ...                 0.246409                 0.394191   \n",
       "1             0.261444  ...                 0.198276                 0.567082   \n",
       "2             0.141981  ...                 0.188066                 0.442600   \n",
       "3             0.078560  ...                 0.165828                 0.756570   \n",
       "4             0.134184  ...                 0.331370                 0.363762   \n",
       "\n",
       "   diff_mean_current_2_max  diff_mean_current_2_median  \\\n",
       "0                 0.228602                    0.277174   \n",
       "1                 0.229686                    0.486413   \n",
       "2                 0.172264                    0.362319   \n",
       "3                 0.450704                    0.756341   \n",
       "4                 0.234020                    0.323370   \n",
       "\n",
       "   diff_mean_current_2_std  relative_position  count_A   count_C  count_G  \\\n",
       "0                 0.161305           0.575243      0.2  0.666667     0.50   \n",
       "1                 0.098550           0.987267      0.4  0.000000     0.25   \n",
       "2                 0.139315           0.907086      0.4  0.000000     0.50   \n",
       "3                 0.160166           0.210394      0.6  0.333333     0.00   \n",
       "4                 0.248865           0.756564      0.2  0.333333     0.25   \n",
       "\n",
       "   count_T  \n",
       "0     0.00  \n",
       "1     0.50  \n",
       "2     0.25  \n",
       "3     0.25  \n",
       "4     0.50  \n",
       "\n",
       "[5 rows x 71 columns]"
      ]
     },
     "execution_count": 35,
     "metadata": {},
     "output_type": "execute_result"
    }
   ],
   "source": [
    "X_train_under.head(5)"
   ]
  },
  {
   "cell_type": "code",
   "execution_count": 36,
   "id": "9a6d567c",
   "metadata": {},
   "outputs": [
    {
     "data": {
      "text/plain": [
       "0    0.0\n",
       "1    0.0\n",
       "2    0.0\n",
       "3    0.0\n",
       "4    0.0\n",
       "Name: label, dtype: float64"
      ]
     },
     "execution_count": 36,
     "metadata": {},
     "output_type": "execute_result"
    }
   ],
   "source": [
    "y_train_under.head(5)"
   ]
  },
  {
   "cell_type": "code",
   "execution_count": 37,
   "id": "f031e634",
   "metadata": {},
   "outputs": [],
   "source": [
    "X_train_final = X_train_under.copy()\n",
    "y_train_final = y_train_under.copy()\n",
    "\n",
    "X_test_final = X_test_clean.copy()\n",
    "y_test_final = y_test.copy()"
   ]
  },
  {
   "cell_type": "code",
   "execution_count": 38,
   "id": "c02cba33",
   "metadata": {},
   "outputs": [],
   "source": [
    "X_train_final.to_csv('../data/X_train_final.csv', index=False)\n",
    "X_test_final.to_csv('../data/X_test_final.csv', index=False)\n",
    "\n",
    "y_train_final.to_csv('../data/y_train_final.csv', index=False)\n",
    "y_test_final.to_csv('../data/y_test_final.csv', index=False)"
   ]
  },
  {
   "cell_type": "markdown",
   "id": "ead5e974",
   "metadata": {},
   "source": [
    "# For Future Usage"
   ]
  },
  {
   "cell_type": "code",
   "execution_count": 40,
   "id": "4758da4f",
   "metadata": {},
   "outputs": [],
   "source": [
    "from sklearn.model_selection import GroupShuffleSplit \n",
    "from sklearn.preprocessing import StandardScaler\n",
    "from imblearn.over_sampling import RandomOverSampler\n",
    "from imblearn.under_sampling import RandomUnderSampler\n",
    "\n",
    "# split dataset into X y train test, based on gene_id\n",
    "# input: df, split_size\n",
    "# output: train df, test df\n",
    "def split(df, split_size=0.2):\n",
    "    splitter = GroupShuffleSplit(test_size=split_size, n_splits=1, random_state=42)\n",
    "    split = splitter.split(df, groups=df['gene_id'])\n",
    "    train_inds, test_inds = next(split)\n",
    "    train = df.iloc[train_inds]\n",
    "    test = df.iloc[test_inds]\n",
    "    \n",
    "    y_train = train['label']\n",
    "    X_train = train.drop(['label', 'sevenmers'], axis = 1)\n",
    "    y_test = test['label']\n",
    "    X_test = test.drop(['label', 'sevenmers'], axis = 1)\n",
    "    \n",
    "    return X_train, y_train, X_test, y_test\n",
    "\n",
    "# oversample and undersample such that ratio of minority to majority samples becomes 3:4\n",
    "# input: df, df (X_train, y_train)\n",
    "# output: df, df (resampled version)\n",
    "def resample(X_train, y_train):\n",
    "    # define oversampling strategy so that ratio of minority samples to majority samples is 1:2\n",
    "    oversample = RandomOverSampler(sampling_strategy=0.5, random_state=42)\n",
    "    X_train_over, y_train_over = oversample.fit_resample(X_train, y_train)\n",
    "    \n",
    "    # define undersampling strategy so that the ratio of minority to majority samples becomes 3:4\n",
    "    under = RandomUnderSampler(sampling_strategy=0.75)\n",
    "    X_train_under, y_train_under = under.fit_resample(X_train_over, y_train_over)\n",
    "    return X_train_under, y_train_under\n",
    "\n",
    "df = pd.read_csv('../data/grouped_data.csv')\n",
    "features_nominal = ['order_1', 'order_2', 'order_3', 'order_6', 'order_7']\n",
    "df[features_nominal] = df[features_nominal].astype('category')\n",
    "X_train, y_train, X_test, y_test = split(df)\n",
    "X_train, y_train = resample(X_train, y_train)\n",
    "X_train = X_train.drop(columns=['gene_id', 'transcript_id'])\n",
    "X_test = X_test.drop(columns=['gene_id', 'transcript_id'])\n",
    "\n",
    "# OR\n",
    "# X_train = pd.read_csv('../data/X_train_final.csv')\n",
    "# y_train = pd.read_csv('../data/y_train_final.csv')\n",
    "# X_test = pd.read_csv('../data/X_test_final.csv')\n",
    "# y_test = pd.read_csv('../data/y_test_final.csv')\n",
    "# features_nominal = ['order_1', 'order_2', 'order_3', 'order_6', 'order_7']\n",
    "# X_train[features_nominal] = X_train[features_nominal].astype('category')\n",
    "# X_test[features_nominal] = X_test[features_nominal].astype('category')"
   ]
  }
 ],
 "metadata": {
  "kernelspec": {
   "display_name": "Python 3 (ipykernel)",
   "language": "python",
   "name": "python3"
  },
  "language_info": {
   "codemirror_mode": {
    "name": "ipython",
    "version": 3
   },
   "file_extension": ".py",
   "mimetype": "text/x-python",
   "name": "python",
   "nbconvert_exporter": "python",
   "pygments_lexer": "ipython3",
   "version": "3.8.5"
  }
 },
 "nbformat": 4,
 "nbformat_minor": 5
}
