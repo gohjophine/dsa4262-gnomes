{
 "cells": [
  {
   "cell_type": "code",

   "execution_count": 1,

   "id": "e4415287",
   "metadata": {},
   "outputs": [],
   "source": [
    "import pandas as pd\n",
    "import numpy as np\n",
    "import matplotlib.pyplot as plt\n",
    "from sklearn.model_selection import GroupShuffleSplit \n",
    "from sklearn.preprocessing import StandardScaler\n",
    "from imblearn.over_sampling import RandomOverSampler\n",
    "from imblearn.under_sampling import RandomUnderSampler\n",
    "from collections import Counter"
   ]
  },
  {
   "cell_type": "code",

   "execution_count": 2,

   "id": "b70ee5e6",
   "metadata": {},
   "outputs": [],
   "source": [

    "df = pd.read_csv('../data/grouped_data.csv')"

   ]
  },
  {
   "cell_type": "code",

   "execution_count": 3,

   "id": "ff583222",
   "metadata": {},
   "outputs": [
    {
     "data": {
      "text/html": [
       "<div>\n",
       "<style scoped>\n",
       "    .dataframe tbody tr th:only-of-type {\n",
       "        vertical-align: middle;\n",
       "    }\n",
       "\n",
       "    .dataframe tbody tr th {\n",
       "        vertical-align: top;\n",
       "    }\n",
       "\n",
       "    .dataframe thead th {\n",
       "        text-align: right;\n",
       "    }\n",
       "</style>\n",
       "<table border=\"1\" class=\"dataframe\">\n",
       "  <thead>\n",
       "    <tr style=\"text-align: right;\">\n",
       "      <th></th>\n",
       "      <th>gene_id</th>\n",
       "      <th>transcript_id</th>\n",
       "      <th>transcript_position</th>\n",
       "      <th>sevenmers</th>\n",
       "      <th>label</th>\n",
       "      <th>dwelling_time_1_min</th>\n",
       "      <th>dwelling_time_1_max</th>\n",
       "      <th>dwelling_time_1_mean</th>\n",
       "      <th>dwelling_time_1_median</th>\n",
       "      <th>dwelling_time_1_std</th>\n",
       "      <th>...</th>\n",
       "      <th>order_2</th>\n",
       "      <th>order_3</th>\n",
       "      <th>order_4</th>\n",
       "      <th>order_5</th>\n",
       "      <th>order_6</th>\n",
       "      <th>order_7</th>\n",
       "      <th>count_A</th>\n",
       "      <th>count_C</th>\n",
       "      <th>count_G</th>\n",
       "      <th>count_T</th>\n",
       "    </tr>\n",
       "  </thead>\n",
       "  <tbody>\n",
       "    <tr>\n",
       "      <th>0</th>\n",
       "      <td>ENSG00000000003</td>\n",
       "      <td>ENST00000373020</td>\n",

       "      <td>512</td>\n",
       "      <td>ATAACTC</td>\n",

       "      <td>0</td>\n",
       "      <td>0.00266</td>\n",
       "      <td>0.0169</td>\n",
       "      <td>0.007247</td>\n",

       "      <td>0.00599</td>\n",
       "      <td>0.004404</td>\n",
       "      <td>...</td>\n",

       "      <td>T</td>\n",
       "      <td>A</td>\n",
       "      <td>A</td>\n",
       "      <td>C</td>\n",

       "      <td>T</td>\n",
       "      <td>C</td>\n",
       "      <td>3</td>\n",
       "      <td>2</td>\n",
       "      <td>0</td>\n",
       "      <td>2</td>\n",

       "    </tr>\n",
       "    <tr>\n",
       "      <th>1</th>\n",
       "      <td>ENSG00000000003</td>\n",
       "      <td>ENST00000373020</td>\n",
       "      <td>689</td>\n",
       "      <td>TAAACAA</td>\n",
       "      <td>0</td>\n",
       "      <td>0.00232</td>\n",
       "      <td>0.0279</td>\n",
       "      <td>0.009868</td>\n",
       "      <td>0.00764</td>\n",
       "      <td>0.006946</td>\n",
       "      <td>...</td>\n",
       "      <td>A</td>\n",
       "      <td>A</td>\n",
       "      <td>A</td>\n",
       "      <td>C</td>\n",
       "      <td>A</td>\n",
       "      <td>A</td>\n",
       "      <td>5</td>\n",
       "      <td>1</td>\n",
       "      <td>0</td>\n",
       "      <td>1</td>\n",
       "    </tr>\n",
       "    <tr>\n",
       "      <th>2</th>\n",
       "      <td>ENSG00000000003</td>\n",
       "      <td>ENST00000373020</td>\n",
       "      <td>823</td>\n",
       "      <td>ATAACAA</td>\n",
       "      <td>0</td>\n",
       "      <td>0.00299</td>\n",
       "      <td>0.0196</td>\n",
       "      <td>0.007456</td>\n",
       "      <td>0.00631</td>\n",
       "      <td>0.003799</td>\n",
       "      <td>...</td>\n",
       "      <td>T</td>\n",
       "      <td>A</td>\n",
       "      <td>A</td>\n",
       "      <td>C</td>\n",
       "      <td>A</td>\n",
       "      <td>A</td>\n",
       "      <td>5</td>\n",
       "      <td>1</td>\n",
       "      <td>0</td>\n",
       "      <td>1</td>\n",
       "    </tr>\n",
       "    <tr>\n",
       "      <th>3</th>\n",
       "      <td>ENSG00000000003</td>\n",
       "      <td>ENST00000373020</td>\n",
       "      <td>830</td>\n",
       "      <td>ATAACCA</td>\n",
       "      <td>0</td>\n",
       "      <td>0.00266</td>\n",
       "      <td>0.0226</td>\n",
       "      <td>0.007765</td>\n",
       "      <td>0.00641</td>\n",
       "      <td>0.004869</td>\n",
       "      <td>...</td>\n",
       "      <td>T</td>\n",
       "      <td>A</td>\n",
       "      <td>A</td>\n",
       "      <td>C</td>\n",
       "      <td>C</td>\n",
       "      <td>A</td>\n",
       "      <td>4</td>\n",
       "      <td>2</td>\n",
       "      <td>0</td>\n",
       "      <td>1</td>\n",
       "    </tr>\n",
       "    <tr>\n",
       "      <th>4</th>\n",
       "      <td>ENSG00000000003</td>\n",
       "      <td>ENST00000373020</td>\n",
       "      <td>849</td>\n",
       "      <td>GTAACCC</td>\n",
       "      <td>0</td>\n",
       "      <td>0.00332</td>\n",
       "      <td>0.0181</td>\n",
       "      <td>0.006785</td>\n",
       "      <td>0.00598</td>\n",
       "      <td>0.003115</td>\n",
       "      <td>...</td>\n",
       "      <td>T</td>\n",
       "      <td>A</td>\n",
       "      <td>A</td>\n",
       "      <td>C</td>\n",
       "      <td>C</td>\n",
       "      <td>C</td>\n",
       "      <td>2</td>\n",
       "      <td>3</td>\n",
       "      <td>1</td>\n",
       "      <td>1</td>\n",
       "    </tr>\n",
       "  </tbody>\n",
       "</table>\n",
       "<p>5 rows × 70 columns</p>\n",
       "</div>"
      ],
      "text/plain": [
       "           gene_id    transcript_id  transcript_position sevenmers  label  \\\n",
       "0  ENSG00000000003  ENST00000373020                  512   ATAACTC      0   \n",
       "1  ENSG00000000003  ENST00000373020                  689   TAAACAA      0   \n",
       "2  ENSG00000000003  ENST00000373020                  823   ATAACAA      0   \n",
       "3  ENSG00000000003  ENST00000373020                  830   ATAACCA      0   \n",
       "4  ENSG00000000003  ENST00000373020                  849   GTAACCC      0   \n",
       "\n",
       "   dwelling_time_1_min  dwelling_time_1_max  dwelling_time_1_mean  \\\n",
       "0              0.00266               0.0169              0.007247   \n",
       "1              0.00232               0.0279              0.009868   \n",
       "2              0.00299               0.0196              0.007456   \n",
       "3              0.00266               0.0226              0.007765   \n",
       "4              0.00332               0.0181              0.006785   \n",
       "\n",
       "   dwelling_time_1_median  dwelling_time_1_std  ...  order_2  order_3  \\\n",
       "0                 0.00599             0.004404  ...        T        A   \n",
       "1                 0.00764             0.006946  ...        A        A   \n",
       "2                 0.00631             0.003799  ...        T        A   \n",
       "3                 0.00641             0.004869  ...        T        A   \n",
       "4                 0.00598             0.003115  ...        T        A   \n",
       "\n",
       "   order_4  order_5  order_6  order_7  count_A  count_C  count_G  count_T  \n",
       "0        A        C        T        C        3        2        0        2  \n",
       "1        A        C        A        A        5        1        0        1  \n",
       "2        A        C        A        A        5        1        0        1  \n",
       "3        A        C        C        A        4        2        0        1  \n",
       "4        A        C        C        C        2        3        1        1  \n",
       "\n",
       "[5 rows x 70 columns]"
      ]
     },
     "execution_count": 3,
     "metadata": {},
     "output_type": "execute_result"
    }
   ],
   "source": [
    "df.head(5)"
   ]
  },
  {
   "cell_type": "code",
   "execution_count": 4,
   "id": "7fd1ab52",
   "metadata": {},
   "outputs": [
    {
     "data": {
      "text/plain": [
       "288"
      ]
     },
     "execution_count": 4,
     "metadata": {},
     "output_type": "execute_result"
    }
   ],
   "source": [
    "len(df['sevenmers'].unique())"
   ]
  },
  {
   "cell_type": "code",
   "execution_count": 5,
   "id": "20791632",
   "metadata": {},
   "outputs": [
    {
     "data": {
      "text/plain": [
       "(121838, 70)"
      ]
     },
     "execution_count": 5,
     "metadata": {},
     "output_type": "execute_result"
    }
   ],
   "source": [
    "df.shape"
   ]
  },
  {
   "cell_type": "code",
   "execution_count": 6,
   "id": "a3dce839",
   "metadata": {
    "scrolled": true
   },
   "outputs": [
    {
     "name": "stdout",
     "output_type": "stream",
     "text": [
      "<class 'pandas.core.frame.DataFrame'>\n",
      "RangeIndex: 121838 entries, 0 to 121837\n",
      "Data columns (total 70 columns):\n",
      " #   Column                  Non-Null Count   Dtype  \n",
      "---  ------                  --------------   -----  \n",
      " 0   gene_id                 121838 non-null  object \n",
      " 1   transcript_id           121838 non-null  object \n",
      " 2   transcript_position     121838 non-null  int64  \n",
      " 3   sevenmers               121838 non-null  object \n",
      " 4   label                   121838 non-null  int64  \n",
      " 5   dwelling_time_1_min     121838 non-null  float64\n",
      " 6   dwelling_time_1_max     121838 non-null  float64\n",
      " 7   dwelling_time_1_mean    121838 non-null  float64\n",
      " 8   dwelling_time_1_median  121838 non-null  float64\n",
      " 9   dwelling_time_1_std     121838 non-null  float64\n",
      " 10  dwelling_time_1_skew    121838 non-null  float64\n",
      " 11  sd_current_1_min        121838 non-null  float64\n",
      " 12  sd_current_1_max        121838 non-null  float64\n",
      " 13  sd_current_1_mean       121838 non-null  float64\n",
      " 14  sd_current_1_median     121838 non-null  float64\n",
      " 15  sd_current_1_std        121838 non-null  float64\n",
      " 16  sd_current_1_skew       121838 non-null  float64\n",
      " 17  mean_current_1_min      121838 non-null  float64\n",
      " 18  mean_current_1_max      121838 non-null  float64\n",
      " 19  mean_current_1_mean     121838 non-null  float64\n",
      " 20  mean_current_1_median   121838 non-null  float64\n",
      " 21  mean_current_1_std      121838 non-null  float64\n",
      " 22  mean_current_1_skew     121838 non-null  float64\n",
      " 23  dwelling_time_2_min     121838 non-null  float64\n",
      " 24  dwelling_time_2_max     121838 non-null  float64\n",
      " 25  dwelling_time_2_mean    121838 non-null  float64\n",
      " 26  dwelling_time_2_median  121838 non-null  float64\n",
      " 27  dwelling_time_2_std     121838 non-null  float64\n",
      " 28  dwelling_time_2_skew    121838 non-null  float64\n",
      " 29  sd_current_2_min        121838 non-null  float64\n",
      " 30  sd_current_2_max        121838 non-null  float64\n",
      " 31  sd_current_2_mean       121838 non-null  float64\n",
      " 32  sd_current_2_median     121838 non-null  float64\n",
      " 33  sd_current_2_std        121838 non-null  float64\n",
      " 34  sd_current_2_skew       121838 non-null  float64\n",
      " 35  mean_current_2_min      121838 non-null  float64\n",
      " 36  mean_current_2_max      121838 non-null  float64\n",
      " 37  mean_current_2_mean     121838 non-null  float64\n",
      " 38  mean_current_2_median   121838 non-null  float64\n",
      " 39  mean_current_2_std      121838 non-null  float64\n",
      " 40  mean_current_2_skew     121838 non-null  float64\n",
      " 41  dwelling_time_3_min     121838 non-null  float64\n",
      " 42  dwelling_time_3_max     121838 non-null  float64\n",
      " 43  dwelling_time_3_mean    121838 non-null  float64\n",
      " 44  dwelling_time_3_median  121838 non-null  float64\n",
      " 45  dwelling_time_3_std     121838 non-null  float64\n",
      " 46  dwelling_time_3_skew    121838 non-null  float64\n",
      " 47  sd_current_3_min        121838 non-null  float64\n",
      " 48  sd_current_3_max        121838 non-null  float64\n",
      " 49  sd_current_3_mean       121838 non-null  float64\n",
      " 50  sd_current_3_median     121838 non-null  float64\n",
      " 51  sd_current_3_std        121838 non-null  float64\n",
      " 52  sd_current_3_skew       121838 non-null  float64\n",
      " 53  mean_current_3_min      121838 non-null  float64\n",
      " 54  mean_current_3_max      121838 non-null  float64\n",
      " 55  mean_current_3_mean     121838 non-null  float64\n",
      " 56  mean_current_3_median   121838 non-null  float64\n",
      " 57  mean_current_3_std      121838 non-null  float64\n",
      " 58  mean_current_3_skew     121838 non-null  float64\n",
      " 59  order_1                 121838 non-null  object \n",
      " 60  order_2                 121838 non-null  object \n",
      " 61  order_3                 121838 non-null  object \n",
      " 62  order_4                 121838 non-null  object \n",
      " 63  order_5                 121838 non-null  object \n",
      " 64  order_6                 121838 non-null  object \n",
      " 65  order_7                 121838 non-null  object \n",
      " 66  count_A                 121838 non-null  int64  \n",
      " 67  count_C                 121838 non-null  int64  \n",
      " 68  count_G                 121838 non-null  int64  \n",
      " 69  count_T                 121838 non-null  int64  \n",
      "dtypes: float64(54), int64(6), object(10)\n",
      "memory usage: 65.1+ MB\n"
     ]
    }
   ],
   "source": [
    "df.info()"
   ]
  },
  {
   "cell_type": "code",
   "execution_count": 7,
   "id": "882126b2",
   "metadata": {},
   "outputs": [
    {
     "data": {
      "text/html": [
       "<div>\n",
       "<style scoped>\n",
       "    .dataframe tbody tr th:only-of-type {\n",
       "        vertical-align: middle;\n",
       "    }\n",
       "\n",
       "    .dataframe tbody tr th {\n",
       "        vertical-align: top;\n",
       "    }\n",
       "\n",
       "    .dataframe thead th {\n",
       "        text-align: right;\n",
       "    }\n",
       "</style>\n",
       "<table border=\"1\" class=\"dataframe\">\n",
       "  <thead>\n",
       "    <tr style=\"text-align: right;\">\n",
       "      <th></th>\n",
       "      <th>transcript_position</th>\n",
       "      <th>label</th>\n",
       "      <th>dwelling_time_1_min</th>\n",
       "      <th>dwelling_time_1_max</th>\n",
       "      <th>dwelling_time_1_mean</th>\n",
       "      <th>dwelling_time_1_median</th>\n",
       "      <th>dwelling_time_1_std</th>\n",
       "      <th>dwelling_time_1_skew</th>\n",
       "      <th>sd_current_1_min</th>\n",
       "      <th>sd_current_1_max</th>\n",
       "      <th>...</th>\n",
       "      <th>mean_current_3_min</th>\n",
       "      <th>mean_current_3_max</th>\n",
       "      <th>mean_current_3_mean</th>\n",
       "      <th>mean_current_3_median</th>\n",
       "      <th>mean_current_3_std</th>\n",
       "      <th>mean_current_3_skew</th>\n",
       "      <th>count_A</th>\n",
       "      <th>count_C</th>\n",
       "      <th>count_G</th>\n",
       "      <th>count_T</th>\n",
       "    </tr>\n",
       "  </thead>\n",
       "  <tbody>\n",
       "    <tr>\n",
       "      <th>count</th>\n",
       "      <td>121838.000000</td>\n",
       "      <td>121838.000000</td>\n",
       "      <td>121838.000000</td>\n",
       "      <td>121838.000000</td>\n",
       "      <td>121838.000000</td>\n",
       "      <td>121838.000000</td>\n",
       "      <td>121838.000000</td>\n",
       "      <td>121838.000000</td>\n",
       "      <td>121838.000000</td>\n",
       "      <td>121838.000000</td>\n",
       "      <td>...</td>\n",
       "      <td>121838.000000</td>\n",
       "      <td>121838.000000</td>\n",
       "      <td>121838.000000</td>\n",
       "      <td>121838.000000</td>\n",
       "      <td>121838.000000</td>\n",
       "      <td>121838.000000</td>\n",
       "      <td>121838.000000</td>\n",
       "      <td>121838.000000</td>\n",
       "      <td>121838.000000</td>\n",
       "      <td>121838.000000</td>\n",
       "    </tr>\n",
       "    <tr>\n",
       "      <th>mean</th>\n",
       "      <td>1615.868407</td>\n",
       "      <td>0.044937</td>\n",
       "      <td>0.002312</td>\n",
       "      <td>0.026324</td>\n",
       "      <td>0.008108</td>\n",
       "      <td>0.006864</td>\n",
       "      <td>0.004942</td>\n",
       "      <td>1.556378</td>\n",
       "      <td>1.757194</td>\n",
       "      <td>9.515576</td>\n",
       "      <td>...</td>\n",
       "      <td>80.228664</td>\n",
       "      <td>92.647447</td>\n",
       "      <td>86.203293</td>\n",
       "      <td>86.146489</td>\n",
       "      <td>2.476069</td>\n",
       "      <td>0.126036</td>\n",
       "      <td>2.805964</td>\n",
       "      <td>1.697008</td>\n",
       "      <td>1.370599</td>\n",
       "      <td>1.126430</td>\n",
       "    </tr>\n",
       "    <tr>\n",
       "      <th>std</th>\n",
       "      <td>1395.137528</td>\n",
       "      <td>0.207166</td>\n",
       "      <td>0.000476</td>\n",
       "      <td>0.009820</td>\n",
       "      <td>0.001787</td>\n",
       "      <td>0.001673</td>\n",
       "      <td>0.001523</td>\n",
       "      <td>0.688275</td>\n",
       "      <td>0.878632</td>\n",
       "      <td>4.981098</td>\n",
       "      <td>...</td>\n",
       "      <td>5.340230</td>\n",
       "      <td>5.111289</td>\n",
       "      <td>4.937330</td>\n",
       "      <td>5.035057</td>\n",
       "      <td>0.736107</td>\n",
       "      <td>0.858432</td>\n",
       "      <td>1.143660</td>\n",
       "      <td>0.763898</td>\n",
       "      <td>0.930549</td>\n",
       "      <td>0.931224</td>\n",
       "    </tr>\n",
       "    <tr>\n",
       "      <th>min</th>\n",
       "      <td>3.000000</td>\n",
       "      <td>0.000000</td>\n",
       "      <td>0.001660</td>\n",
       "      <td>0.005980</td>\n",
       "      <td>0.003616</td>\n",
       "      <td>0.002660</td>\n",
       "      <td>0.000977</td>\n",
       "      <td>-0.617264</td>\n",
       "      <td>0.094000</td>\n",
       "      <td>1.790000</td>\n",
       "      <td>...</td>\n",
       "      <td>61.000000</td>\n",
       "      <td>76.200000</td>\n",
       "      <td>72.231429</td>\n",
       "      <td>71.700000</td>\n",
       "      <td>0.531099</td>\n",
       "      <td>-4.455771</td>\n",
       "      <td>1.000000</td>\n",
       "      <td>1.000000</td>\n",
       "      <td>0.000000</td>\n",
       "      <td>0.000000</td>\n",
       "    </tr>\n",
       "    <tr>\n",
       "      <th>25%</th>\n",
       "      <td>673.000000</td>\n",
       "      <td>0.000000</td>\n",
       "      <td>0.001990</td>\n",
       "      <td>0.019300</td>\n",
       "      <td>0.006799</td>\n",
       "      <td>0.005640</td>\n",
       "      <td>0.003848</td>\n",
       "      <td>1.095084</td>\n",
       "      <td>1.130000</td>\n",
       "      <td>6.370000</td>\n",
       "      <td>...</td>\n",
       "      <td>76.000000</td>\n",
       "      <td>88.800000</td>\n",
       "      <td>82.050397</td>\n",
       "      <td>81.900000</td>\n",
       "      <td>1.960244</td>\n",
       "      <td>-0.363994</td>\n",
       "      <td>2.000000</td>\n",
       "      <td>1.000000</td>\n",
       "      <td>1.000000</td>\n",
       "      <td>0.000000</td>\n",
       "    </tr>\n",
       "    <tr>\n",
       "      <th>50%</th>\n",
       "      <td>1256.000000</td>\n",
       "      <td>0.000000</td>\n",
       "      <td>0.002320</td>\n",
       "      <td>0.024600</td>\n",
       "      <td>0.007760</td>\n",
       "      <td>0.006515</td>\n",
       "      <td>0.004710</td>\n",
       "      <td>1.474776</td>\n",
       "      <td>1.560000</td>\n",
       "      <td>9.360000</td>\n",
       "      <td>...</td>\n",
       "      <td>80.200000</td>\n",
       "      <td>92.800000</td>\n",
       "      <td>86.500000</td>\n",
       "      <td>86.500000</td>\n",
       "      <td>2.382496</td>\n",
       "      <td>0.143553</td>\n",
       "      <td>3.000000</td>\n",
       "      <td>2.000000</td>\n",
       "      <td>1.000000</td>\n",
       "      <td>1.000000</td>\n",
       "    </tr>\n",
       "    <tr>\n",
       "      <th>75%</th>\n",
       "      <td>2139.000000</td>\n",
       "      <td>0.000000</td>\n",
       "      <td>0.002320</td>\n",
       "      <td>0.031300</td>\n",
       "      <td>0.009101</td>\n",
       "      <td>0.007730</td>\n",
       "      <td>0.005791</td>\n",
       "      <td>1.910991</td>\n",
       "      <td>2.170000</td>\n",
       "      <td>12.100000</td>\n",
       "      <td>...</td>\n",
       "      <td>84.400000</td>\n",
       "      <td>96.500000</td>\n",
       "      <td>89.997368</td>\n",
       "      <td>90.000000</td>\n",
       "      <td>2.886672</td>\n",
       "      <td>0.632355</td>\n",
       "      <td>4.000000</td>\n",
       "      <td>2.000000</td>\n",
       "      <td>2.000000</td>\n",
       "      <td>2.000000</td>\n",
       "    </tr>\n",
       "    <tr>\n",
       "      <th>max</th>\n",
       "      <td>18730.000000</td>\n",
       "      <td>1.000000</td>\n",
       "      <td>0.009890</td>\n",
       "      <td>0.120000</td>\n",
       "      <td>0.019119</td>\n",
       "      <td>0.017900</td>\n",
       "      <td>0.018952</td>\n",
       "      <td>8.132003</td>\n",
       "      <td>8.230000</td>\n",
       "      <td>206.000000</td>\n",
       "      <td>...</td>\n",
       "      <td>95.500000</td>\n",
       "      <td>143.000000</td>\n",
       "      <td>105.773134</td>\n",
       "      <td>100.000000</td>\n",
       "      <td>19.888538</td>\n",
       "      <td>9.193026</td>\n",
       "      <td>6.000000</td>\n",
       "      <td>4.000000</td>\n",
       "      <td>4.000000</td>\n",
       "      <td>4.000000</td>\n",
       "    </tr>\n",
       "  </tbody>\n",
       "</table>\n",
       "<p>8 rows × 60 columns</p>\n",
       "</div>"
      ],
      "text/plain": [
       "       transcript_position          label  dwelling_time_1_min  \\\n",
       "count        121838.000000  121838.000000        121838.000000   \n",
       "mean           1615.868407       0.044937             0.002312   \n",
       "std            1395.137528       0.207166             0.000476   \n",
       "min               3.000000       0.000000             0.001660   \n",
       "25%             673.000000       0.000000             0.001990   \n",
       "50%            1256.000000       0.000000             0.002320   \n",
       "75%            2139.000000       0.000000             0.002320   \n",
       "max           18730.000000       1.000000             0.009890   \n",
       "\n",
       "       dwelling_time_1_max  dwelling_time_1_mean  dwelling_time_1_median  \\\n",
       "count        121838.000000         121838.000000           121838.000000   \n",
       "mean              0.026324              0.008108                0.006864   \n",
       "std               0.009820              0.001787                0.001673   \n",
       "min               0.005980              0.003616                0.002660   \n",
       "25%               0.019300              0.006799                0.005640   \n",
       "50%               0.024600              0.007760                0.006515   \n",
       "75%               0.031300              0.009101                0.007730   \n",
       "max               0.120000              0.019119                0.017900   \n",
       "\n",
       "       dwelling_time_1_std  dwelling_time_1_skew  sd_current_1_min  \\\n",
       "count        121838.000000         121838.000000     121838.000000   \n",
       "mean              0.004942              1.556378          1.757194   \n",
       "std               0.001523              0.688275          0.878632   \n",
       "min               0.000977             -0.617264          0.094000   \n",
       "25%               0.003848              1.095084          1.130000   \n",
       "50%               0.004710              1.474776          1.560000   \n",
       "75%               0.005791              1.910991          2.170000   \n",
       "max               0.018952              8.132003          8.230000   \n",
       "\n",
       "       sd_current_1_max  ...  mean_current_3_min  mean_current_3_max  \\\n",
       "count     121838.000000  ...       121838.000000       121838.000000   \n",
       "mean           9.515576  ...           80.228664           92.647447   \n",
       "std            4.981098  ...            5.340230            5.111289   \n",
       "min            1.790000  ...           61.000000           76.200000   \n",
       "25%            6.370000  ...           76.000000           88.800000   \n",
       "50%            9.360000  ...           80.200000           92.800000   \n",
       "75%           12.100000  ...           84.400000           96.500000   \n",
       "max          206.000000  ...           95.500000          143.000000   \n",
       "\n",
       "       mean_current_3_mean  mean_current_3_median  mean_current_3_std  \\\n",
       "count        121838.000000          121838.000000       121838.000000   \n",
       "mean             86.203293              86.146489            2.476069   \n",
       "std               4.937330               5.035057            0.736107   \n",
       "min              72.231429              71.700000            0.531099   \n",
       "25%              82.050397              81.900000            1.960244   \n",
       "50%              86.500000              86.500000            2.382496   \n",
       "75%              89.997368              90.000000            2.886672   \n",
       "max             105.773134             100.000000           19.888538   \n",
       "\n",
       "       mean_current_3_skew        count_A        count_C        count_G  \\\n",
       "count        121838.000000  121838.000000  121838.000000  121838.000000   \n",
       "mean              0.126036       2.805964       1.697008       1.370599   \n",
       "std               0.858432       1.143660       0.763898       0.930549   \n",
       "min              -4.455771       1.000000       1.000000       0.000000   \n",
       "25%              -0.363994       2.000000       1.000000       1.000000   \n",
       "50%               0.143553       3.000000       2.000000       1.000000   \n",
       "75%               0.632355       4.000000       2.000000       2.000000   \n",
       "max               9.193026       6.000000       4.000000       4.000000   \n",
       "\n",
       "             count_T  \n",
       "count  121838.000000  \n",
       "mean        1.126430  \n",
       "std         0.931224  \n",
       "min         0.000000  \n",
       "25%         0.000000  \n",
       "50%         1.000000  \n",
       "75%         2.000000  \n",
       "max         4.000000  \n",
       "\n",
       "[8 rows x 60 columns]"
      ]
     },
     "execution_count": 7,
     "metadata": {},
     "output_type": "execute_result"
    }
   ],
   "source": [
    "df.describe()"
   ]
  },
  {
   "cell_type": "code",
   "execution_count": 8,
   "id": "92f2bf0d",
   "metadata": {},
   "outputs": [
    {
     "name": "stdout",
     "output_type": "stream",
     "text": [
      "Non-numerical features:  ['order_4', 'gene_id', 'order_3', 'order_2', 'order_7', 'sevenmers', 'order_6', 'transcript_id', 'order_1', 'order_5']\n"
     ]
    }
   ],
   "source": [
    "# Get non-numerical features.\n",
    "non_num_cols = list(set(df.columns) - set(df.describe().columns))\n",
    "print('Non-numerical features: ', non_num_cols)"
   ]
  },
  {
   "cell_type": "code",
   "execution_count": 9,
   "id": "6b10f2e6",
   "metadata": {},
   "outputs": [],
   "source": [
    "#Assign appropriate data type to categorical variables.\n",
    "df[non_num_cols] = df[non_num_cols].astype('category')"
   ]
  },
  {
   "cell_type": "code",
   "execution_count": 10,
   "id": "74e4e50c",
   "metadata": {
    "scrolled": true
   },
   "outputs": [
    {
     "name": "stdout",
     "output_type": "stream",
     "text": [
      "<class 'pandas.core.frame.DataFrame'>\n",
      "RangeIndex: 121838 entries, 0 to 121837\n",
      "Data columns (total 70 columns):\n",
      " #   Column                  Non-Null Count   Dtype   \n",
      "---  ------                  --------------   -----   \n",
      " 0   gene_id                 121838 non-null  category\n",
      " 1   transcript_id           121838 non-null  category\n",
      " 2   transcript_position     121838 non-null  int64   \n",
      " 3   sevenmers               121838 non-null  category\n",
      " 4   label                   121838 non-null  int64   \n",
      " 5   dwelling_time_1_min     121838 non-null  float64 \n",
      " 6   dwelling_time_1_max     121838 non-null  float64 \n",
      " 7   dwelling_time_1_mean    121838 non-null  float64 \n",
      " 8   dwelling_time_1_median  121838 non-null  float64 \n",
      " 9   dwelling_time_1_std     121838 non-null  float64 \n",
      " 10  dwelling_time_1_skew    121838 non-null  float64 \n",
      " 11  sd_current_1_min        121838 non-null  float64 \n",
      " 12  sd_current_1_max        121838 non-null  float64 \n",
      " 13  sd_current_1_mean       121838 non-null  float64 \n",
      " 14  sd_current_1_median     121838 non-null  float64 \n",
      " 15  sd_current_1_std        121838 non-null  float64 \n",
      " 16  sd_current_1_skew       121838 non-null  float64 \n",
      " 17  mean_current_1_min      121838 non-null  float64 \n",
      " 18  mean_current_1_max      121838 non-null  float64 \n",
      " 19  mean_current_1_mean     121838 non-null  float64 \n",
      " 20  mean_current_1_median   121838 non-null  float64 \n",
      " 21  mean_current_1_std      121838 non-null  float64 \n",
      " 22  mean_current_1_skew     121838 non-null  float64 \n",
      " 23  dwelling_time_2_min     121838 non-null  float64 \n",
      " 24  dwelling_time_2_max     121838 non-null  float64 \n",
      " 25  dwelling_time_2_mean    121838 non-null  float64 \n",
      " 26  dwelling_time_2_median  121838 non-null  float64 \n",
      " 27  dwelling_time_2_std     121838 non-null  float64 \n",
      " 28  dwelling_time_2_skew    121838 non-null  float64 \n",
      " 29  sd_current_2_min        121838 non-null  float64 \n",
      " 30  sd_current_2_max        121838 non-null  float64 \n",
      " 31  sd_current_2_mean       121838 non-null  float64 \n",
      " 32  sd_current_2_median     121838 non-null  float64 \n",
      " 33  sd_current_2_std        121838 non-null  float64 \n",
      " 34  sd_current_2_skew       121838 non-null  float64 \n",
      " 35  mean_current_2_min      121838 non-null  float64 \n",
      " 36  mean_current_2_max      121838 non-null  float64 \n",
      " 37  mean_current_2_mean     121838 non-null  float64 \n",
      " 38  mean_current_2_median   121838 non-null  float64 \n",
      " 39  mean_current_2_std      121838 non-null  float64 \n",
      " 40  mean_current_2_skew     121838 non-null  float64 \n",
      " 41  dwelling_time_3_min     121838 non-null  float64 \n",
      " 42  dwelling_time_3_max     121838 non-null  float64 \n",
      " 43  dwelling_time_3_mean    121838 non-null  float64 \n",
      " 44  dwelling_time_3_median  121838 non-null  float64 \n",
      " 45  dwelling_time_3_std     121838 non-null  float64 \n",
      " 46  dwelling_time_3_skew    121838 non-null  float64 \n",
      " 47  sd_current_3_min        121838 non-null  float64 \n",
      " 48  sd_current_3_max        121838 non-null  float64 \n",
      " 49  sd_current_3_mean       121838 non-null  float64 \n",
      " 50  sd_current_3_median     121838 non-null  float64 \n",
      " 51  sd_current_3_std        121838 non-null  float64 \n",
      " 52  sd_current_3_skew       121838 non-null  float64 \n",
      " 53  mean_current_3_min      121838 non-null  float64 \n",
      " 54  mean_current_3_max      121838 non-null  float64 \n",
      " 55  mean_current_3_mean     121838 non-null  float64 \n",
      " 56  mean_current_3_median   121838 non-null  float64 \n",
      " 57  mean_current_3_std      121838 non-null  float64 \n",
      " 58  mean_current_3_skew     121838 non-null  float64 \n",
      " 59  order_1                 121838 non-null  category\n",
      " 60  order_2                 121838 non-null  category\n",
      " 61  order_3                 121838 non-null  category\n",
      " 62  order_4                 121838 non-null  category\n",
      " 63  order_5                 121838 non-null  category\n",
      " 64  order_6                 121838 non-null  category\n",
      " 65  order_7                 121838 non-null  category\n",
      " 66  count_A                 121838 non-null  int64   \n",
      " 67  count_C                 121838 non-null  int64   \n",
      " 68  count_G                 121838 non-null  int64   \n",
      " 69  count_T                 121838 non-null  int64   \n",
      "dtypes: category(10), float64(54), int64(6)\n",
      "memory usage: 57.6 MB\n"
     ]
    }
   ],
   "source": [
    "df.info()"
   ]
  },
  {
   "cell_type": "markdown",
   "id": "6a17d4c9",
   "metadata": {},
   "source": [
    "# Train-test split"
   ]
  },
  {
   "cell_type": "code",
   "execution_count": 11,
   "id": "2d5c0ece",
   "metadata": {},
   "outputs": [],
   "source": [
    "splitter = GroupShuffleSplit(test_size=.20, n_splits=1, random_state = 42)\n",
    "split = splitter.split(df, groups = df['gene_id'])\n",
    "train_inds, test_inds = next(split)\n",
    "\n",
    "train = df.iloc[train_inds]\n",
    "test = df.iloc[test_inds]"
   ]
  },
  {
   "cell_type": "code",
   "execution_count": 12,
   "id": "0ed3d056",
   "metadata": {},
   "outputs": [],
   "source": [
    "y_train = train['label']\n",
    "X_train = train.drop(['label', 'sevenmers'], axis = 1)\n",
    "\n",
    "y_test = test['label']\n",
    "X_test = test.drop(['label', 'sevenmers'], axis = 1)"
   ]
  },
  {
   "cell_type": "code",
   "execution_count": 13,
   "id": "6b71b215",
   "metadata": {},
   "outputs": [],
   "source": [
    "train_geneids = train['gene_id'].unique()\n",
    "test_geneids = test['gene_id'].unique()"
   ]
  },
  {
   "cell_type": "code",
   "execution_count": 14,
   "id": "5c8d943c",
   "metadata": {},
   "outputs": [
    {
     "data": {
      "text/plain": [
       "False"
      ]
     },
     "execution_count": 14,
     "metadata": {},
     "output_type": "execute_result"
    }
   ],
   "source": [
    "# check if any gene id in train set is present in test set\n",
    "np.in1d(train_geneids, test_geneids).any()"
   ]
  },
  {
   "cell_type": "markdown",
   "id": "d98397fd",
   "metadata": {},
   "source": [
    "# Drop gene_id and transcript_id columns"
   ]
  },
  {
   "cell_type": "code",
   "execution_count": 15,
   "id": "6a3440d7",
   "metadata": {},
   "outputs": [],
   "source": [
    "X_train_ids = X_train[['gene_id', 'transcript_id']]\n",
    "X_train_clean = X_train.drop(columns=['gene_id', 'transcript_id'])"
   ]
  },
  {
   "cell_type": "code",
   "execution_count": 16,
   "id": "4a0549f6",
   "metadata": {},
   "outputs": [
    {
     "data": {
      "text/plain": [
       "(98006, 2)"
      ]
     },
     "execution_count": 16,
     "metadata": {},
     "output_type": "execute_result"
    }
   ],
   "source": [
    "X_train_ids.shape"
   ]
  },
  {
   "cell_type": "code",
   "execution_count": 17,
   "id": "b80cb84c",
   "metadata": {},
   "outputs": [
    {
     "data": {
      "text/plain": [
       "(98006, 66)"
      ]
     },
     "execution_count": 17,
     "metadata": {},
     "output_type": "execute_result"
    }
   ],
   "source": [
    "X_train_clean.shape"
   ]
  },
  {
   "cell_type": "code",
   "execution_count": 18,
   "id": "24f27d33",
   "metadata": {},
   "outputs": [],
   "source": [
    "X_test_ids = X_test[['gene_id', 'transcript_id']]\n",
    "X_test_clean = X_test.drop(columns=['gene_id', 'transcript_id'])"
   ]
  },
  {
   "cell_type": "markdown",
   "id": "c092753f",
   "metadata": {},
   "source": [
    "# Oversampling on train data"
   ]
  },
  {
   "cell_type": "code",
   "execution_count": 19,
   "id": "6ce11a56",
   "metadata": {},
   "outputs": [
    {
     "name": "stdout",
     "output_type": "stream",
     "text": [
      "Original dataset shape Counter({0: 93715, 1: 4291})\n"
     ]
    }
   ],
   "source": [
    "print('Original dataset shape %s' % Counter(y_train))"
   ]
  },
  {
   "cell_type": "code",
   "execution_count": 20,
   "id": "86d316f5",
   "metadata": {},
   "outputs": [
    {
     "data": {
      "text/plain": [
       "<AxesSubplot:>"
      ]
     },
     "execution_count": 20,
     "metadata": {},
     "output_type": "execute_result"
    },
    {
     "data": {
      "image/png": "[encoded data removed]",
      "text/plain": [
       "<Figure size 432x288 with 1 Axes>"
      ]
     },
     "metadata": {
      "needs_background": "light"
     },
     "output_type": "display_data"
    }
   ],
   "source": [
    "y_train.value_counts().plot(kind=\"bar\")"
   ]
  },
  {
   "cell_type": "code",
   "execution_count": 21,
   "id": "07b1dd53",
   "metadata": {},
   "outputs": [
    {
     "data": {
      "text/plain": [
       "0    0.956217\n",
       "1    0.043783\n",
       "Name: label, dtype: float64"
      ]
     },
     "execution_count": 21,
     "metadata": {},
     "output_type": "execute_result"
    }
   ],
   "source": [
    "y_train.value_counts()/len(y_train)"
   ]
  },
  {
   "cell_type": "markdown",
   "id": "e8ce87f9",
   "metadata": {},
   "source": [
    "95.6% of training data consists of data with no m6a modification. Class imbalance!"
   ]
  },
  {
   "cell_type": "code",
   "execution_count": 22,
   "id": "55ff1265",
   "metadata": {},
   "outputs": [],
   "source": [
    "# create list with categorical features' names\n",
    "nonum_cols_names = ['order_1', 'order_2', 'order_3', 'order_4', 'order_5', 'order_6', 'order_7']\n",
    "\n",
    "# # create list with numerical features' names\n",
    "# num_cols_names = ['dwelling_time_min', 'dwelling_time_max', 'dwelling_time_mean', 'dwelling_time_median', 'dwelling_time_std', \n",
    "#                   'dwelling_time_skew', 'sd_current_min', 'sd_current_max', 'sd_current_mean', 'sd_current_median', 'sd_current_std',\n",
    "#                   'sd_current_skew', 'mean_current_min', 'mean_current_max', 'mean_current_mean', 'mean_current_median', 'mean_current_std',\n",
    "#                   'mean_current_skew', 'count_A', 'count_C', 'count_G', 'count_T']"
   ]
  },
  {
   "cell_type": "code",
   "execution_count": 23,
   "id": "5ba65c28",
   "metadata": {},
   "outputs": [],
   "source": [
    "cat_col_index = [df.columns.get_loc(c) for c in nonum_cols_names if c in df]"
   ]
  },
  {
   "cell_type": "code",
   "execution_count": 24,
   "id": "74340f46",
   "metadata": {},
   "outputs": [
    {
     "data": {
      "text/html": [
       "<div>\n",
       "<style scoped>\n",
       "    .dataframe tbody tr th:only-of-type {\n",
       "        vertical-align: middle;\n",
       "    }\n",
       "\n",
       "    .dataframe tbody tr th {\n",
       "        vertical-align: top;\n",
       "    }\n",
       "\n",
       "    .dataframe thead th {\n",
       "        text-align: right;\n",
       "    }\n",
       "</style>\n",
       "<table border=\"1\" class=\"dataframe\">\n",
       "  <thead>\n",
       "    <tr style=\"text-align: right;\">\n",
       "      <th></th>\n",
       "      <th>transcript_position</th>\n",
       "      <th>dwelling_time_1_min</th>\n",
       "      <th>dwelling_time_1_max</th>\n",
       "      <th>dwelling_time_1_mean</th>\n",
       "      <th>dwelling_time_1_median</th>\n",
       "      <th>dwelling_time_1_std</th>\n",
       "      <th>dwelling_time_1_skew</th>\n",
       "      <th>sd_current_1_min</th>\n",
       "      <th>sd_current_1_max</th>\n",
       "      <th>sd_current_1_mean</th>\n",
       "      <th>...</th>\n",
       "      <th>order_2</th>\n",
       "      <th>order_3</th>\n",
       "      <th>order_4</th>\n",
       "      <th>order_5</th>\n",
       "      <th>order_6</th>\n",
       "      <th>order_7</th>\n",
       "      <th>count_A</th>\n",
       "      <th>count_C</th>\n",
       "      <th>count_G</th>\n",
       "      <th>count_T</th>\n",
       "    </tr>\n",
       "  </thead>\n",
       "  <tbody>\n",
       "    <tr>\n",
       "      <th>13</th>\n",
       "      <td>105</td>\n",
       "      <td>0.00332</td>\n",
       "      <td>0.0288</td>\n",
       "      <td>0.012129</td>\n",
       "      <td>0.009860</td>\n",
       "      <td>0.006529</td>\n",
       "      <td>1.014144</td>\n",
       "      <td>4.86</td>\n",
       "      <td>13.90</td>\n",
       "      <td>8.571563</td>\n",
       "      <td>...</td>\n",
       "      <td>G</td>\n",
       "      <td>A</td>\n",
       "      <td>A</td>\n",
       "      <td>C</td>\n",
       "      <td>A</td>\n",
       "      <td>A</td>\n",
       "      <td>5</td>\n",
       "      <td>1</td>\n",
       "      <td>1</td>\n",
       "      <td>0</td>\n",
       "    </tr>\n",
       "    <tr>\n",
       "      <th>14</th>\n",
       "      <td>147</td>\n",
       "      <td>0.00217</td>\n",
       "      <td>0.0222</td>\n",
       "      <td>0.008839</td>\n",
       "      <td>0.007625</td>\n",
       "      <td>0.005117</td>\n",
       "      <td>0.941203</td>\n",
       "      <td>3.77</td>\n",
       "      <td>13.40</td>\n",
       "      <td>7.826765</td>\n",
       "      <td>...</td>\n",
       "      <td>G</td>\n",
       "      <td>A</td>\n",
       "      <td>A</td>\n",
       "      <td>C</td>\n",
       "      <td>C</td>\n",
       "      <td>T</td>\n",
       "      <td>3</td>\n",
       "      <td>2</td>\n",
       "      <td>1</td>\n",
       "      <td>1</td>\n",
       "    </tr>\n",
       "    <tr>\n",
       "      <th>15</th>\n",
       "      <td>242</td>\n",
       "      <td>0.00291</td>\n",
       "      <td>0.0214</td>\n",
       "      <td>0.006908</td>\n",
       "      <td>0.005460</td>\n",
       "      <td>0.004029</td>\n",
       "      <td>1.967847</td>\n",
       "      <td>2.62</td>\n",
       "      <td>12.40</td>\n",
       "      <td>7.989333</td>\n",
       "      <td>...</td>\n",
       "      <td>G</td>\n",
       "      <td>A</td>\n",
       "      <td>A</td>\n",
       "      <td>C</td>\n",
       "      <td>A</td>\n",
       "      <td>A</td>\n",
       "      <td>4</td>\n",
       "      <td>1</td>\n",
       "      <td>2</td>\n",
       "      <td>0</td>\n",
       "    </tr>\n",
       "    <tr>\n",
       "      <th>16</th>\n",
       "      <td>259</td>\n",
       "      <td>0.00427</td>\n",
       "      <td>0.0218</td>\n",
       "      <td>0.010699</td>\n",
       "      <td>0.008300</td>\n",
       "      <td>0.005605</td>\n",
       "      <td>0.763647</td>\n",
       "      <td>4.97</td>\n",
       "      <td>11.40</td>\n",
       "      <td>8.548000</td>\n",
       "      <td>...</td>\n",
       "      <td>G</td>\n",
       "      <td>A</td>\n",
       "      <td>A</td>\n",
       "      <td>C</td>\n",
       "      <td>A</td>\n",
       "      <td>G</td>\n",
       "      <td>3</td>\n",
       "      <td>1</td>\n",
       "      <td>2</td>\n",
       "      <td>1</td>\n",
       "    </tr>\n",
       "    <tr>\n",
       "      <th>17</th>\n",
       "      <td>285</td>\n",
       "      <td>0.00232</td>\n",
       "      <td>0.0159</td>\n",
       "      <td>0.005876</td>\n",
       "      <td>0.004980</td>\n",
       "      <td>0.003735</td>\n",
       "      <td>1.609819</td>\n",
       "      <td>2.19</td>\n",
       "      <td>6.72</td>\n",
       "      <td>4.641600</td>\n",
       "      <td>...</td>\n",
       "      <td>A</td>\n",
       "      <td>G</td>\n",
       "      <td>A</td>\n",
       "      <td>C</td>\n",
       "      <td>A</td>\n",
       "      <td>G</td>\n",
       "      <td>3</td>\n",
       "      <td>2</td>\n",
       "      <td>2</td>\n",
       "      <td>0</td>\n",
       "    </tr>\n",
       "  </tbody>\n",
       "</table>\n",
       "<p>5 rows × 66 columns</p>\n",
       "</div>"
      ],
      "text/plain": [
       "    transcript_position  dwelling_time_1_min  dwelling_time_1_max  \\\n",
       "13                  105              0.00332               0.0288   \n",
       "14                  147              0.00217               0.0222   \n",
       "15                  242              0.00291               0.0214   \n",
       "16                  259              0.00427               0.0218   \n",
       "17                  285              0.00232               0.0159   \n",
       "\n",
       "    dwelling_time_1_mean  dwelling_time_1_median  dwelling_time_1_std  \\\n",
       "13              0.012129                0.009860             0.006529   \n",
       "14              0.008839                0.007625             0.005117   \n",
       "15              0.006908                0.005460             0.004029   \n",
       "16              0.010699                0.008300             0.005605   \n",
       "17              0.005876                0.004980             0.003735   \n",
       "\n",
       "    dwelling_time_1_skew  sd_current_1_min  sd_current_1_max  \\\n",
       "13              1.014144              4.86             13.90   \n",
       "14              0.941203              3.77             13.40   \n",
       "15              1.967847              2.62             12.40   \n",
       "16              0.763647              4.97             11.40   \n",
       "17              1.609819              2.19              6.72   \n",
       "\n",
       "    sd_current_1_mean  ...  order_2  order_3  order_4  order_5  order_6  \\\n",
       "13           8.571563  ...        G        A        A        C        A   \n",
       "14           7.826765  ...        G        A        A        C        C   \n",
       "15           7.989333  ...        G        A        A        C        A   \n",
       "16           8.548000  ...        G        A        A        C        A   \n",
       "17           4.641600  ...        A        G        A        C        A   \n",
       "\n",
       "    order_7  count_A  count_C  count_G  count_T  \n",
       "13        A        5        1        1        0  \n",
       "14        T        3        2        1        1  \n",
       "15        A        4        1        2        0  \n",
       "16        G        3        1        2        1  \n",
       "17        G        3        2        2        0  \n",
       "\n",
       "[5 rows x 66 columns]"
      ]
     },
     "execution_count": 24,
     "metadata": {},
     "output_type": "execute_result"
    }
   ],
   "source": [
    "X_train_clean.head(5)"
   ]
  },
  {
   "cell_type": "code",
   "execution_count": 25,
   "id": "5fb926f5",
   "metadata": {},
   "outputs": [
    {
     "data": {
      "text/plain": [
       "[59, 60, 61, 62, 63, 64, 65]"
      ]
     },
     "execution_count": 25,
     "metadata": {},
     "output_type": "execute_result"
    }
   ],
   "source": [
    "cat_col_index"
   ]
  },
  {
   "cell_type": "code",
   "execution_count": 26,
   "id": "4ff661c2",
   "metadata": {},
   "outputs": [],
   "source": [
    "# define oversampling strategy so that ratio of minority samples to majority samples is 1:2\n",
    "oversample = RandomOverSampler(sampling_strategy=0.5, random_state=42)"
   ]
  },
  {
   "cell_type": "code",
   "execution_count": 27,
   "id": "1b595ad0",
   "metadata": {},
   "outputs": [],
   "source": [
    "X_train_over, y_train_over = oversample.fit_resample(X_train_clean, y_train)"
   ]
  },
  {
   "cell_type": "code",
   "execution_count": 28,
   "id": "c4d9f38d",
   "metadata": {},
   "outputs": [
    {
     "name": "stdout",
     "output_type": "stream",
     "text": [
      "Resampled dataset shape Counter({0: 93715, 1: 46857})\n"
     ]
    }
   ],
   "source": [
    "print('Resampled dataset shape %s' % Counter(y_train_over))"
   ]
  },
  {
   "cell_type": "code",
   "execution_count": 29,
   "id": "a0f0fe68",
   "metadata": {},
   "outputs": [
    {
     "data": {
      "text/plain": [
       "0    0.666669\n",
       "1    0.333331\n",
       "Name: label, dtype: float64"
      ]
     },
     "execution_count": 29,
     "metadata": {},
     "output_type": "execute_result"
    }
   ],
   "source": [
    "y_train_over.value_counts()/len(y_train_over)"
   ]
  },
  {
   "cell_type": "code",
   "execution_count": 30,
   "id": "f25972cb",
   "metadata": {},
   "outputs": [
    {
     "data": {
      "text/plain": [
       "<AxesSubplot:>"
      ]
     },
     "execution_count": 30,
     "metadata": {},
     "output_type": "execute_result"
    },
    {
     "data": {
      "image/png": "[encoded data removed]",
      "text/plain": [
       "<Figure size 432x288 with 1 Axes>"
      ]
     },
     "metadata": {
      "needs_background": "light"
     },
     "output_type": "display_data"
    }
   ],
   "source": [
    "y_train_over.value_counts().plot(kind=\"bar\")"
   ]
  },
  {
   "cell_type": "code",
   "execution_count": 31,
   "id": "145ad5de",
   "metadata": {},
   "outputs": [],
   "source": [
    "# define undersampling strategy so that the ratio of minority to majority samples becomes 3:4\n",
    "under = RandomUnderSampler(sampling_strategy=0.75)\n",
    "# fit and apply the transform\n",
    "X_train_under, y_train_under = under.fit_resample(X_train_over, y_train_over)"
   ]
  },
  {
   "cell_type": "code",
   "execution_count": 32,
   "id": "e8c01023",
   "metadata": {},
   "outputs": [
    {
     "name": "stdout",
     "output_type": "stream",
     "text": [
      "Resampled dataset shape Counter({0: 62476, 1: 46857})\n"
     ]
    }
   ],
   "source": [
    "print('Resampled dataset shape %s' % Counter(y_train_under))"
   ]
  },
  {
   "cell_type": "code",
   "execution_count": 33,
   "id": "80e77668",
   "metadata": {},
   "outputs": [
    {
     "data": {
      "text/plain": [
       "0    0.571429\n",
       "1    0.428571\n",
       "Name: label, dtype: float64"
      ]
     },
     "execution_count": 33,
     "metadata": {},
     "output_type": "execute_result"
    }
   ],
   "source": [
    "y_train_under.value_counts()/len(y_train_under)"
   ]
  },
  {
   "cell_type": "code",
   "execution_count": 34,
   "id": "65dbe54a",
   "metadata": {},
   "outputs": [
    {
     "data": {
      "text/plain": [
       "<AxesSubplot:>"
      ]
     },
     "execution_count": 34,
     "metadata": {},
     "output_type": "execute_result"
    },
    {
     "data": {
      "image/png": "[encoded data removed]",
      "text/plain": [
       "<Figure size 432x288 with 1 Axes>"
      ]
     },
     "metadata": {
      "needs_background": "light"
     },
     "output_type": "display_data"
    }
   ],
   "source": [
    "y_train_under.value_counts().plot(kind=\"bar\")"
   ]
  },
  {
   "cell_type": "code",
   "execution_count": 35,
   "id": "70286766",
   "metadata": {},
   "outputs": [
    {
     "data": {
      "text/html": [
       "<div>\n",
       "<style scoped>\n",
       "    .dataframe tbody tr th:only-of-type {\n",
       "        vertical-align: middle;\n",
       "    }\n",
       "\n",
       "    .dataframe tbody tr th {\n",
       "        vertical-align: top;\n",
       "    }\n",
       "\n",
       "    .dataframe thead th {\n",
       "        text-align: right;\n",
       "    }\n",
       "</style>\n",
       "<table border=\"1\" class=\"dataframe\">\n",
       "  <thead>\n",
       "    <tr style=\"text-align: right;\">\n",
       "      <th></th>\n",
       "      <th>transcript_position</th>\n",
       "      <th>dwelling_time_1_min</th>\n",
       "      <th>dwelling_time_1_max</th>\n",
       "      <th>dwelling_time_1_mean</th>\n",
       "      <th>dwelling_time_1_median</th>\n",
       "      <th>dwelling_time_1_std</th>\n",
       "      <th>dwelling_time_1_skew</th>\n",
       "      <th>sd_current_1_min</th>\n",
       "      <th>sd_current_1_max</th>\n",
       "      <th>sd_current_1_mean</th>\n",
       "      <th>...</th>\n",

       "      <th>order_2</th>\n",
       "      <th>order_3</th>\n",
       "      <th>order_4</th>\n",
       "      <th>order_5</th>\n",

       "      <th>order_6</th>\n",
       "      <th>order_7</th>\n",

       "      <th>count_A</th>\n",
       "      <th>count_C</th>\n",
       "      <th>count_G</th>\n",
       "      <th>count_T</th>\n",
       "    </tr>\n",
       "  </thead>\n",
       "  <tbody>\n",
       "    <tr>\n",
       "      <th>0</th>\n",

       "      <td>758</td>\n",
       "      <td>0.00232</td>\n",
       "      <td>0.0249</td>\n",
       "      <td>0.006768</td>\n",
       "      <td>0.00488</td>\n",
       "      <td>0.004793</td>\n",
       "      <td>1.945592</td>\n",
       "      <td>2.59</td>\n",
       "      <td>13.0</td>\n",
       "      <td>5.121897</td>\n",
       "      <td>...</td>\n",
       "      <td>A</td>\n",
       "      <td>G</td>\n",
       "      <td>A</td>\n",
       "      <td>C</td>\n",
       "      <td>A</td>\n",
       "      <td>G</td>\n",
       "      <td>3</td>\n",
       "      <td>2</td>\n",
       "      <td>2</td>\n",
       "      <td>0</td>\n",
       "    </tr>\n",
       "    <tr>\n",
       "      <th>1</th>\n",
       "      <td>1019</td>\n",
       "      <td>0.00270</td>\n",
       "      <td>0.0329</td>\n",
       "      <td>0.007921</td>\n",
       "      <td>0.00671</td>\n",
       "      <td>0.005329</td>\n",
       "      <td>2.685181</td>\n",
       "      <td>3.02</td>\n",
       "      <td>10.6</td>\n",
       "      <td>7.060638</td>\n",
       "      <td>...</td>\n",
       "      <td>G</td>\n",

       "      <td>A</td>\n",
       "      <td>A</td>\n",
       "      <td>C</td>\n",
       "      <td>T</td>\n",

       "      <td>C</td>\n",
       "      <td>2</td>\n",
       "      <td>3</td>\n",
       "      <td>1</td>\n",
       "      <td>1</td>\n",
       "    </tr>\n",
       "    <tr>\n",
       "      <th>2</th>\n",
       "      <td>781</td>\n",
       "      <td>0.00199</td>\n",
       "      <td>0.0205</td>\n",
       "      <td>0.006974</td>\n",
       "      <td>0.00564</td>\n",
       "      <td>0.004159</td>\n",
       "      <td>1.372405</td>\n",
       "      <td>2.15</td>\n",
       "      <td>12.2</td>\n",
       "      <td>6.462059</td>\n",
       "      <td>...</td>\n",
       "      <td>A</td>\n",
       "      <td>G</td>\n",
       "      <td>A</td>\n",
       "      <td>C</td>\n",
       "      <td>A</td>\n",
       "      <td>G</td>\n",
       "      <td>3</td>\n",
       "      <td>2</td>\n",
       "      <td>2</td>\n",
       "      <td>0</td>\n",
       "    </tr>\n",
       "    <tr>\n",
       "      <th>3</th>\n",
       "      <td>1853</td>\n",
       "      <td>0.00232</td>\n",
       "      <td>0.0309</td>\n",
       "      <td>0.010024</td>\n",
       "      <td>0.00889</td>\n",
       "      <td>0.005466</td>\n",
       "      <td>1.170006</td>\n",
       "      <td>2.11</td>\n",
       "      <td>15.4</td>\n",
       "      <td>4.907430</td>\n",
       "      <td>...</td>\n",
       "      <td>T</td>\n",
       "      <td>G</td>\n",
       "      <td>A</td>\n",
       "      <td>C</td>\n",
       "      <td>T</td>\n",
       "      <td>G</td>\n",
       "      <td>1</td>\n",
       "      <td>1</td>\n",
       "      <td>3</td>\n",
       "      <td>2</td>\n",
       "    </tr>\n",
       "    <tr>\n",
       "      <th>4</th>\n",
       "      <td>764</td>\n",
       "      <td>0.00166</td>\n",
       "      <td>0.0357</td>\n",
       "      <td>0.012731</td>\n",
       "      <td>0.01180</td>\n",
       "      <td>0.006453</td>\n",
       "      <td>0.922937</td>\n",
       "      <td>1.11</td>\n",
       "      <td>14.1</td>\n",
       "      <td>4.886586</td>\n",
       "      <td>...</td>\n",
       "      <td>G</td>\n",
       "      <td>G</td>\n",
       "      <td>A</td>\n",
       "      <td>C</td>\n",
       "      <td>T</td>\n",
       "      <td>A</td>\n",
       "      <td>2</td>\n",
       "      <td>1</td>\n",
       "      <td>3</td>\n",
       "      <td>1</td>\n",
       "    </tr>\n",
       "  </tbody>\n",
       "</table>\n",
       "<p>5 rows × 66 columns</p>\n",
       "</div>"
      ],
      "text/plain": [
       "   transcript_position  dwelling_time_1_min  dwelling_time_1_max  \\\n",
       "0                  758              0.00232               0.0249   \n",
       "1                 1019              0.00270               0.0329   \n",
       "2                  781              0.00199               0.0205   \n",
       "3                 1853              0.00232               0.0309   \n",
       "4                  764              0.00166               0.0357   \n",
       "\n",
       "   dwelling_time_1_mean  dwelling_time_1_median  dwelling_time_1_std  \\\n",
       "0              0.006768                 0.00488             0.004793   \n",
       "1              0.007921                 0.00671             0.005329   \n",
       "2              0.006974                 0.00564             0.004159   \n",
       "3              0.010024                 0.00889             0.005466   \n",
       "4              0.012731                 0.01180             0.006453   \n",
       "\n",
       "   dwelling_time_1_skew  sd_current_1_min  sd_current_1_max  \\\n",
       "0              1.945592              2.59              13.0   \n",
       "1              2.685181              3.02              10.6   \n",
       "2              1.372405              2.15              12.2   \n",
       "3              1.170006              2.11              15.4   \n",
       "4              0.922937              1.11              14.1   \n",
       "\n",
       "   sd_current_1_mean  ...  order_2  order_3  order_4  order_5  order_6  \\\n",
       "0           5.121897  ...        A        G        A        C        A   \n",
       "1           7.060638  ...        G        A        A        C        T   \n",
       "2           6.462059  ...        A        G        A        C        A   \n",
       "3           4.907430  ...        T        G        A        C        T   \n",
       "4           4.886586  ...        G        G        A        C        T   \n",
       "\n",
       "   order_7  count_A  count_C  count_G  count_T  \n",
       "0        G        3        2        2        0  \n",
       "1        C        2        3        1        1  \n",
       "2        G        3        2        2        0  \n",
       "3        G        1        1        3        2  \n",
       "4        A        2        1        3        1  \n",
       "\n",
       "[5 rows x 66 columns]"
      ]
     },
     "execution_count": 35,
     "metadata": {},
     "output_type": "execute_result"
    }
   ],
   "source": [
    "X_train_under.head(5)"
   ]
  },
  {
   "cell_type": "code",

   "execution_count": 36,

   "id": "9a6d567c",
   "metadata": {},
   "outputs": [
    {
     "data": {
      "text/plain": [
       "0    0\n",
       "1    0\n",
       "2    0\n",
       "3    0\n",
       "4    0\n",
       "Name: label, dtype: int64"
      ]
     },

     "execution_count": 36,

     "metadata": {},
     "output_type": "execute_result"
    }
   ],
   "source": [
    "y_train_under.head(5)"
   ]
  },
  {
   "cell_type": "code",

   "execution_count": 37,

   "id": "f031e634",
   "metadata": {},
   "outputs": [],
   "source": [
    "X_train_final = X_train_under.copy()\n",
    "y_train_final = y_train_under.copy()\n",
    "\n",
    "X_test_final = X_test_clean.copy()\n",
    "y_test_final = y_test.copy()"
   ]
  },
  {
   "cell_type": "code",

   "execution_count": 38,

   "id": "c02cba33",
   "metadata": {},
   "outputs": [],
   "source": [
    "X_train_final.to_csv('X_train_final.csv')\n",
    "X_test_final.to_csv('X_test_final.csv')\n",
    "\n",
    "y_train_final.to_csv('y_train_final.csv')\n",
    "y_test_final.to_csv('y_test_final.csv')"
   ]

  },
  {
   "cell_type": "markdown",
   "id": "ead5e974",
   "metadata": {},
   "source": [
    "# For Future Usage"
   ]
  },
  {
   "cell_type": "code",
   "execution_count": 39,
   "id": "4758da4f",
   "metadata": {},
   "outputs": [],
   "source": [
    "from sklearn.model_selection import GroupShuffleSplit \n",
    "from sklearn.preprocessing import StandardScaler\n",
    "from imblearn.over_sampling import RandomOverSampler\n",
    "from imblearn.under_sampling import RandomUnderSampler\n",
    "\n",
    "# split dataset into X y train test, based on gene_id\n",
    "# input: df, split_size\n",
    "# output: train df, test df\n",
    "def split(df, split_size=0.2):\n",
    "    splitter = GroupShuffleSplit(test_size=split_size, n_splits=1, random_state=42)\n",
    "    split = splitter.split(df, groups=df['gene_id'])\n",
    "    train_inds, test_inds = next(split)\n",
    "    train = df.iloc[train_inds]\n",
    "    test = df.iloc[test_inds]\n",
    "    \n",
    "    y_train = train['label']\n",
    "    X_train = train.drop(['label', 'sevenmers'], axis = 1)\n",
    "    y_test = test['label']\n",
    "    X_test = test.drop(['label', 'sevenmers'], axis = 1)\n",
    "    \n",
    "    return X_train, y_train, X_test, y_test\n",
    "\n",
    "# oversample and undersample such that ratio of minority to majority samples becomes 3:4\n",
    "# input: df, df (X_train, y_train)\n",
    "# output: df, df (resampled version)\n",
    "def resample(X_train, y_train):\n",
    "    # define oversampling strategy so that ratio of minority samples to majority samples is 1:2\n",
    "    oversample = RandomOverSampler(sampling_strategy=0.5, random_state=42)\n",
    "    X_train_over, y_train_over = oversample.fit_resample(X_train, y_train)\n",
    "    \n",
    "    # define undersampling strategy so that the ratio of minority to majority samples becomes 3:4\n",
    "    under = RandomUnderSampler(sampling_strategy=0.75)\n",
    "    X_train_under, y_train_under = under.fit_resample(X_train_over, y_train_over)\n",
    "    return X_train_under, y_train_under\n",
    "\n",
    "df = pd.read_csv('../data/grouped_data.csv')\n",
    "X_train, y_train, X_test, y_test = split(df)\n",
    "X_train, y_train = resample(X_train, y_train)\n",
    "\n",
    "# OR\n",
    "# X_train = pd.read_csv('../data/X_train_final.csv')\n",
    "# y_train = pd.read_csv('../data/y_train_final.csv')\n",
    "# X_test = pd.read_csv('../data/X_test_final.csv')\n",
    "# y_test = pd.read_csv('../data/y_test_final.csv')"
   ]

  }
 ],
 "metadata": {
  "kernelspec": {
   "display_name": "Python 3 (ipykernel)",
   "language": "python",
   "name": "python3"
  },
  "language_info": {
   "codemirror_mode": {
    "name": "ipython",
    "version": 3
   },
   "file_extension": ".py",
   "mimetype": "text/x-python",
   "name": "python",
   "nbconvert_exporter": "python",
   "pygments_lexer": "ipython3",

   "version": "3.8.5"

  }
 },
 "nbformat": 4,
 "nbformat_minor": 5
}
