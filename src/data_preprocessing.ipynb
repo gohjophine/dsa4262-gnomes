{
 "cells": [
  {
   "cell_type": "code",
   "execution_count": 166,
   "id": "e4415287",
   "metadata": {},
   "outputs": [],
   "source": [
    "import pandas as pd\n",
    "import numpy as np\n",
    "import matplotlib.pyplot as plt\n",
    "from sklearn.model_selection import GroupShuffleSplit \n",
    "from sklearn.preprocessing import StandardScaler\n",
    "from imblearn.over_sampling import RandomOverSampler\n",
    "from imblearn.under_sampling import RandomUnderSampler\n",
    "from collections import Counter"
   ]
  },
  {
   "cell_type": "code",
   "execution_count": 80,
   "id": "b70ee5e6",
   "metadata": {},
   "outputs": [],
   "source": [
    "df = pd.read_csv('data/grouped_data.csv')"
   ]
  },
  {
   "cell_type": "code",
   "execution_count": 81,
   "id": "ff583222",
   "metadata": {},
   "outputs": [
    {
     "data": {
      "text/html": [
       "<div>\n",
       "<style scoped>\n",
       "    .dataframe tbody tr th:only-of-type {\n",
       "        vertical-align: middle;\n",
       "    }\n",
       "\n",
       "    .dataframe tbody tr th {\n",
       "        vertical-align: top;\n",
       "    }\n",
       "\n",
       "    .dataframe thead th {\n",
       "        text-align: right;\n",
       "    }\n",
       "</style>\n",
       "<table border=\"1\" class=\"dataframe\">\n",
       "  <thead>\n",
       "    <tr style=\"text-align: right;\">\n",
       "      <th></th>\n",
       "      <th>gene_id</th>\n",
       "      <th>transcript_id</th>\n",
       "      <th>transcript_position</th>\n",
       "      <th>relative_position</th>\n",
       "      <th>fivemers</th>\n",
       "      <th>label</th>\n",
       "      <th>dwelling_time_min</th>\n",
       "      <th>dwelling_time_max</th>\n",
       "      <th>dwelling_time_mean</th>\n",
       "      <th>dwelling_time_median</th>\n",
       "      <th>...</th>\n",
       "      <th>mean_current_skew</th>\n",
       "      <th>order_1</th>\n",
       "      <th>order_2</th>\n",
       "      <th>order_3</th>\n",
       "      <th>order_4</th>\n",
       "      <th>order_5</th>\n",
       "      <th>count_A</th>\n",
       "      <th>count_C</th>\n",
       "      <th>count_G</th>\n",
       "      <th>count_T</th>\n",
       "    </tr>\n",
       "  </thead>\n",
       "  <tbody>\n",
       "    <tr>\n",
       "      <th>0</th>\n",
       "      <td>ENSG00000000003</td>\n",
       "      <td>ENST00000373020</td>\n",
       "      <td>511</td>\n",
       "      <td>1</td>\n",
       "      <td>ATAAC</td>\n",
       "      <td>0</td>\n",
       "      <td>0.00266</td>\n",
       "      <td>0.0169</td>\n",
       "      <td>0.007247</td>\n",
       "      <td>0.005990</td>\n",
       "      <td>...</td>\n",
       "      <td>0.591063</td>\n",
       "      <td>A</td>\n",
       "      <td>T</td>\n",
       "      <td>A</td>\n",
       "      <td>A</td>\n",
       "      <td>C</td>\n",
       "      <td>3</td>\n",
       "      <td>1</td>\n",
       "      <td>0</td>\n",
       "      <td>1</td>\n",
       "    </tr>\n",
       "    <tr>\n",
       "      <th>1</th>\n",
       "      <td>ENSG00000000003</td>\n",
       "      <td>ENST00000373020</td>\n",
       "      <td>512</td>\n",
       "      <td>2</td>\n",
       "      <td>TAACT</td>\n",
       "      <td>0</td>\n",
       "      <td>0.00232</td>\n",
       "      <td>0.0461</td>\n",
       "      <td>0.011177</td>\n",
       "      <td>0.007735</td>\n",
       "      <td>...</td>\n",
       "      <td>-0.177996</td>\n",
       "      <td>T</td>\n",
       "      <td>A</td>\n",
       "      <td>A</td>\n",
       "      <td>C</td>\n",
       "      <td>T</td>\n",
       "      <td>2</td>\n",
       "      <td>1</td>\n",
       "      <td>0</td>\n",
       "      <td>2</td>\n",
       "    </tr>\n",
       "    <tr>\n",
       "      <th>2</th>\n",
       "      <td>ENSG00000000003</td>\n",
       "      <td>ENST00000373020</td>\n",
       "      <td>513</td>\n",
       "      <td>3</td>\n",
       "      <td>AACTC</td>\n",
       "      <td>0</td>\n",
       "      <td>0.00266</td>\n",
       "      <td>0.0219</td>\n",
       "      <td>0.008500</td>\n",
       "      <td>0.006870</td>\n",
       "      <td>...</td>\n",
       "      <td>-3.353925</td>\n",
       "      <td>A</td>\n",
       "      <td>A</td>\n",
       "      <td>C</td>\n",
       "      <td>T</td>\n",
       "      <td>C</td>\n",
       "      <td>2</td>\n",
       "      <td>2</td>\n",
       "      <td>0</td>\n",
       "      <td>1</td>\n",
       "    </tr>\n",
       "    <tr>\n",
       "      <th>3</th>\n",
       "      <td>ENSG00000000003</td>\n",
       "      <td>ENST00000373020</td>\n",
       "      <td>688</td>\n",
       "      <td>1</td>\n",
       "      <td>TAAAC</td>\n",
       "      <td>0</td>\n",
       "      <td>0.00232</td>\n",
       "      <td>0.0279</td>\n",
       "      <td>0.009868</td>\n",
       "      <td>0.007640</td>\n",
       "      <td>...</td>\n",
       "      <td>-1.322034</td>\n",
       "      <td>T</td>\n",
       "      <td>A</td>\n",
       "      <td>A</td>\n",
       "      <td>A</td>\n",
       "      <td>C</td>\n",
       "      <td>3</td>\n",
       "      <td>1</td>\n",
       "      <td>0</td>\n",
       "      <td>1</td>\n",
       "    </tr>\n",
       "    <tr>\n",
       "      <th>4</th>\n",
       "      <td>ENSG00000000003</td>\n",
       "      <td>ENST00000373020</td>\n",
       "      <td>689</td>\n",
       "      <td>2</td>\n",
       "      <td>AAACA</td>\n",
       "      <td>0</td>\n",
       "      <td>0.00232</td>\n",
       "      <td>0.0179</td>\n",
       "      <td>0.007332</td>\n",
       "      <td>0.006420</td>\n",
       "      <td>...</td>\n",
       "      <td>-0.931646</td>\n",
       "      <td>A</td>\n",
       "      <td>A</td>\n",
       "      <td>A</td>\n",
       "      <td>C</td>\n",
       "      <td>A</td>\n",
       "      <td>4</td>\n",
       "      <td>1</td>\n",
       "      <td>0</td>\n",
       "      <td>0</td>\n",
       "    </tr>\n",
       "  </tbody>\n",
       "</table>\n",
       "<p>5 rows × 33 columns</p>\n",
       "</div>"
      ],
      "text/plain": [
       "           gene_id    transcript_id  transcript_position  relative_position  \\\n",
       "0  ENSG00000000003  ENST00000373020                  511                  1   \n",
       "1  ENSG00000000003  ENST00000373020                  512                  2   \n",
       "2  ENSG00000000003  ENST00000373020                  513                  3   \n",
       "3  ENSG00000000003  ENST00000373020                  688                  1   \n",
       "4  ENSG00000000003  ENST00000373020                  689                  2   \n",
       "\n",
       "  fivemers  label  dwelling_time_min  dwelling_time_max  dwelling_time_mean  \\\n",
       "0    ATAAC      0            0.00266             0.0169            0.007247   \n",
       "1    TAACT      0            0.00232             0.0461            0.011177   \n",
       "2    AACTC      0            0.00266             0.0219            0.008500   \n",
       "3    TAAAC      0            0.00232             0.0279            0.009868   \n",
       "4    AAACA      0            0.00232             0.0179            0.007332   \n",
       "\n",
       "   dwelling_time_median  ...  mean_current_skew  order_1  order_2  order_3  \\\n",
       "0              0.005990  ...           0.591063        A        T        A   \n",
       "1              0.007735  ...          -0.177996        T        A        A   \n",
       "2              0.006870  ...          -3.353925        A        A        C   \n",
       "3              0.007640  ...          -1.322034        T        A        A   \n",
       "4              0.006420  ...          -0.931646        A        A        A   \n",
       "\n",
       "   order_4  order_5  count_A  count_C  count_G  count_T  \n",
       "0        A        C        3        1        0        1  \n",
       "1        C        T        2        1        0        2  \n",
       "2        T        C        2        2        0        1  \n",
       "3        A        C        3        1        0        1  \n",
       "4        C        A        4        1        0        0  \n",
       "\n",
       "[5 rows x 33 columns]"
      ]
     },
     "execution_count": 81,
     "metadata": {},
     "output_type": "execute_result"
    }
   ],
   "source": [
    "df.head(5)"
   ]
  },
  {
   "cell_type": "code",
   "execution_count": 82,
   "id": "7fd1ab52",
   "metadata": {},
   "outputs": [
    {
     "data": {
      "text/plain": [
       "66"
      ]
     },
     "execution_count": 82,
     "metadata": {},
     "output_type": "execute_result"
    }
   ],
   "source": [
    "len(df['fivemers'].unique())"
   ]
  },
  {
   "cell_type": "code",
   "execution_count": 83,
   "id": "20791632",
   "metadata": {},
   "outputs": [
    {
     "data": {
      "text/plain": [
       "(365514, 33)"
      ]
     },
     "execution_count": 83,
     "metadata": {},
     "output_type": "execute_result"
    }
   ],
   "source": [
    "df.shape"
   ]
  },
  {
   "cell_type": "code",
   "execution_count": 84,
   "id": "a3dce839",
   "metadata": {},
   "outputs": [
    {
     "name": "stdout",
     "output_type": "stream",
     "text": [
      "<class 'pandas.core.frame.DataFrame'>\n",
      "RangeIndex: 365514 entries, 0 to 365513\n",
      "Data columns (total 33 columns):\n",
      " #   Column                Non-Null Count   Dtype  \n",
      "---  ------                --------------   -----  \n",
      " 0   gene_id               365514 non-null  object \n",
      " 1   transcript_id         365514 non-null  object \n",
      " 2   transcript_position   365514 non-null  int64  \n",
      " 3   relative_position     365514 non-null  int64  \n",
      " 4   fivemers              365514 non-null  object \n",
      " 5   label                 365514 non-null  int64  \n",
      " 6   dwelling_time_min     365514 non-null  float64\n",
      " 7   dwelling_time_max     365514 non-null  float64\n",
      " 8   dwelling_time_mean    365514 non-null  float64\n",
      " 9   dwelling_time_median  365514 non-null  float64\n",
      " 10  dwelling_time_std     365514 non-null  float64\n",
      " 11  dwelling_time_skew    365514 non-null  float64\n",
      " 12  sd_current_min        365514 non-null  float64\n",
      " 13  sd_current_max        365514 non-null  float64\n",
      " 14  sd_current_mean       365514 non-null  float64\n",
      " 15  sd_current_median     365514 non-null  float64\n",
      " 16  sd_current_std        365514 non-null  float64\n",
      " 17  sd_current_skew       365514 non-null  float64\n",
      " 18  mean_current_min      365514 non-null  float64\n",
      " 19  mean_current_max      365514 non-null  float64\n",
      " 20  mean_current_mean     365514 non-null  float64\n",
      " 21  mean_current_median   365514 non-null  float64\n",
      " 22  mean_current_std      365514 non-null  float64\n",
      " 23  mean_current_skew     365514 non-null  float64\n",
      " 24  order_1               365514 non-null  object \n",
      " 25  order_2               365514 non-null  object \n",
      " 26  order_3               365514 non-null  object \n",
      " 27  order_4               365514 non-null  object \n",
      " 28  order_5               365514 non-null  object \n",
      " 29  count_A               365514 non-null  int64  \n",
      " 30  count_C               365514 non-null  int64  \n",
      " 31  count_G               365514 non-null  int64  \n",
      " 32  count_T               365514 non-null  int64  \n",
      "dtypes: float64(18), int64(7), object(8)\n",
      "memory usage: 92.0+ MB\n"
     ]
    }
   ],
   "source": [
    "df.info()"
   ]
  },
  {
   "cell_type": "code",
   "execution_count": 85,
   "id": "882126b2",
   "metadata": {},
   "outputs": [
    {
     "data": {
      "text/html": [
       "<div>\n",
       "<style scoped>\n",
       "    .dataframe tbody tr th:only-of-type {\n",
       "        vertical-align: middle;\n",
       "    }\n",
       "\n",
       "    .dataframe tbody tr th {\n",
       "        vertical-align: top;\n",
       "    }\n",
       "\n",
       "    .dataframe thead th {\n",
       "        text-align: right;\n",
       "    }\n",
       "</style>\n",
       "<table border=\"1\" class=\"dataframe\">\n",
       "  <thead>\n",
       "    <tr style=\"text-align: right;\">\n",
       "      <th></th>\n",
       "      <th>transcript_position</th>\n",
       "      <th>relative_position</th>\n",
       "      <th>label</th>\n",
       "      <th>dwelling_time_min</th>\n",
       "      <th>dwelling_time_max</th>\n",
       "      <th>dwelling_time_mean</th>\n",
       "      <th>dwelling_time_median</th>\n",
       "      <th>dwelling_time_std</th>\n",
       "      <th>dwelling_time_skew</th>\n",
       "      <th>sd_current_min</th>\n",
       "      <th>...</th>\n",
       "      <th>mean_current_min</th>\n",
       "      <th>mean_current_max</th>\n",
       "      <th>mean_current_mean</th>\n",
       "      <th>mean_current_median</th>\n",
       "      <th>mean_current_std</th>\n",
       "      <th>mean_current_skew</th>\n",
       "      <th>count_A</th>\n",
       "      <th>count_C</th>\n",
       "      <th>count_G</th>\n",
       "      <th>count_T</th>\n",
       "    </tr>\n",
       "  </thead>\n",
       "  <tbody>\n",
       "    <tr>\n",
       "      <th>count</th>\n",
       "      <td>365514.000000</td>\n",
       "      <td>365514.000000</td>\n",
       "      <td>365514.000000</td>\n",
       "      <td>365514.000000</td>\n",
       "      <td>365514.000000</td>\n",
       "      <td>365514.000000</td>\n",
       "      <td>365514.000000</td>\n",
       "      <td>365514.000000</td>\n",
       "      <td>365514.000000</td>\n",
       "      <td>365514.000000</td>\n",
       "      <td>...</td>\n",
       "      <td>365514.000000</td>\n",
       "      <td>365514.000000</td>\n",
       "      <td>365514.000000</td>\n",
       "      <td>365514.000000</td>\n",
       "      <td>365514.000000</td>\n",
       "      <td>365514.000000</td>\n",
       "      <td>365514.000000</td>\n",
       "      <td>365514.000000</td>\n",
       "      <td>365514.000000</td>\n",
       "      <td>365514.000000</td>\n",
       "    </tr>\n",
       "    <tr>\n",
       "      <th>mean</th>\n",
       "      <td>1615.868407</td>\n",
       "      <td>2.000000</td>\n",
       "      <td>0.014979</td>\n",
       "      <td>0.002345</td>\n",
       "      <td>0.024947</td>\n",
       "      <td>0.007764</td>\n",
       "      <td>0.006592</td>\n",
       "      <td>0.004625</td>\n",
       "      <td>1.579478</td>\n",
       "      <td>1.611517</td>\n",
       "      <td>...</td>\n",
       "      <td>94.580259</td>\n",
       "      <td>109.671788</td>\n",
       "      <td>102.646318</td>\n",
       "      <td>102.752992</td>\n",
       "      <td>3.026898</td>\n",
       "      <td>-0.210321</td>\n",
       "      <td>2.169569</td>\n",
       "      <td>1.332548</td>\n",
       "      <td>0.921341</td>\n",
       "      <td>0.576542</td>\n",
       "    </tr>\n",
       "    <tr>\n",
       "      <th>std</th>\n",
       "      <td>1395.133950</td>\n",
       "      <td>0.816498</td>\n",
       "      <td>0.121468</td>\n",
       "      <td>0.000478</td>\n",
       "      <td>0.009412</td>\n",
       "      <td>0.001682</td>\n",
       "      <td>0.001541</td>\n",
       "      <td>0.001442</td>\n",
       "      <td>0.697225</td>\n",
       "      <td>0.805870</td>\n",
       "      <td>...</td>\n",
       "      <td>14.007864</td>\n",
       "      <td>16.032900</td>\n",
       "      <td>15.412760</td>\n",
       "      <td>15.577274</td>\n",
       "      <td>1.184796</td>\n",
       "      <td>0.907801</td>\n",
       "      <td>0.880328</td>\n",
       "      <td>0.524325</td>\n",
       "      <td>0.736789</td>\n",
       "      <td>0.648432</td>\n",
       "    </tr>\n",
       "    <tr>\n",
       "      <th>min</th>\n",
       "      <td>2.000000</td>\n",
       "      <td>1.000000</td>\n",
       "      <td>0.000000</td>\n",
       "      <td>0.001660</td>\n",
       "      <td>0.005980</td>\n",
       "      <td>0.003537</td>\n",
       "      <td>0.002660</td>\n",
       "      <td>0.000922</td>\n",
       "      <td>-0.617264</td>\n",
       "      <td>0.044000</td>\n",
       "      <td>...</td>\n",
       "      <td>61.000000</td>\n",
       "      <td>76.200000</td>\n",
       "      <td>72.231429</td>\n",
       "      <td>71.700000</td>\n",
       "      <td>0.531099</td>\n",
       "      <td>-5.269245</td>\n",
       "      <td>1.000000</td>\n",
       "      <td>1.000000</td>\n",
       "      <td>0.000000</td>\n",
       "      <td>0.000000</td>\n",
       "    </tr>\n",
       "    <tr>\n",
       "      <th>25%</th>\n",
       "      <td>673.000000</td>\n",
       "      <td>1.000000</td>\n",
       "      <td>0.000000</td>\n",
       "      <td>0.001990</td>\n",
       "      <td>0.018300</td>\n",
       "      <td>0.006555</td>\n",
       "      <td>0.005520</td>\n",
       "      <td>0.003600</td>\n",
       "      <td>1.111282</td>\n",
       "      <td>1.070000</td>\n",
       "      <td>...</td>\n",
       "      <td>83.100000</td>\n",
       "      <td>95.600000</td>\n",
       "      <td>89.258106</td>\n",
       "      <td>89.250000</td>\n",
       "      <td>2.173622</td>\n",
       "      <td>-0.774930</td>\n",
       "      <td>2.000000</td>\n",
       "      <td>1.000000</td>\n",
       "      <td>0.000000</td>\n",
       "      <td>0.000000</td>\n",
       "    </tr>\n",
       "    <tr>\n",
       "      <th>50%</th>\n",
       "      <td>1256.000000</td>\n",
       "      <td>2.000000</td>\n",
       "      <td>0.000000</td>\n",
       "      <td>0.002320</td>\n",
       "      <td>0.023200</td>\n",
       "      <td>0.007435</td>\n",
       "      <td>0.006310</td>\n",
       "      <td>0.004399</td>\n",
       "      <td>1.495026</td>\n",
       "      <td>1.400000</td>\n",
       "      <td>...</td>\n",
       "      <td>92.500000</td>\n",
       "      <td>108.000000</td>\n",
       "      <td>100.339898</td>\n",
       "      <td>100.000000</td>\n",
       "      <td>2.790958</td>\n",
       "      <td>-0.193065</td>\n",
       "      <td>2.000000</td>\n",
       "      <td>1.000000</td>\n",
       "      <td>1.000000</td>\n",
       "      <td>0.000000</td>\n",
       "    </tr>\n",
       "    <tr>\n",
       "      <th>75%</th>\n",
       "      <td>2139.000000</td>\n",
       "      <td>3.000000</td>\n",
       "      <td>0.000000</td>\n",
       "      <td>0.002480</td>\n",
       "      <td>0.029600</td>\n",
       "      <td>0.008651</td>\n",
       "      <td>0.007310</td>\n",
       "      <td>0.005412</td>\n",
       "      <td>1.939889</td>\n",
       "      <td>1.930000</td>\n",
       "      <td>...</td>\n",
       "      <td>106.000000</td>\n",
       "      <td>125.000000</td>\n",
       "      <td>117.654371</td>\n",
       "      <td>118.000000</td>\n",
       "      <td>3.648482</td>\n",
       "      <td>0.356033</td>\n",
       "      <td>3.000000</td>\n",
       "      <td>2.000000</td>\n",
       "      <td>1.000000</td>\n",
       "      <td>1.000000</td>\n",
       "    </tr>\n",
       "    <tr>\n",
       "      <th>max</th>\n",
       "      <td>18731.000000</td>\n",
       "      <td>3.000000</td>\n",
       "      <td>1.000000</td>\n",
       "      <td>0.009890</td>\n",
       "      <td>0.138000</td>\n",
       "      <td>0.021581</td>\n",
       "      <td>0.017900</td>\n",
       "      <td>0.020858</td>\n",
       "      <td>8.180598</td>\n",
       "      <td>8.230000</td>\n",
       "      <td>...</td>\n",
       "      <td>132.000000</td>\n",
       "      <td>156.000000</td>\n",
       "      <td>137.120000</td>\n",
       "      <td>137.000000</td>\n",
       "      <td>19.888538</td>\n",
       "      <td>9.193026</td>\n",
       "      <td>4.000000</td>\n",
       "      <td>3.000000</td>\n",
       "      <td>3.000000</td>\n",
       "      <td>2.000000</td>\n",
       "    </tr>\n",
       "  </tbody>\n",
       "</table>\n",
       "<p>8 rows × 25 columns</p>\n",
       "</div>"
      ],
      "text/plain": [
       "       transcript_position  relative_position          label  \\\n",
       "count        365514.000000      365514.000000  365514.000000   \n",
       "mean           1615.868407           2.000000       0.014979   \n",
       "std            1395.133950           0.816498       0.121468   \n",
       "min               2.000000           1.000000       0.000000   \n",
       "25%             673.000000           1.000000       0.000000   \n",
       "50%            1256.000000           2.000000       0.000000   \n",
       "75%            2139.000000           3.000000       0.000000   \n",
       "max           18731.000000           3.000000       1.000000   \n",
       "\n",
       "       dwelling_time_min  dwelling_time_max  dwelling_time_mean  \\\n",
       "count      365514.000000      365514.000000       365514.000000   \n",
       "mean            0.002345           0.024947            0.007764   \n",
       "std             0.000478           0.009412            0.001682   \n",
       "min             0.001660           0.005980            0.003537   \n",
       "25%             0.001990           0.018300            0.006555   \n",
       "50%             0.002320           0.023200            0.007435   \n",
       "75%             0.002480           0.029600            0.008651   \n",
       "max             0.009890           0.138000            0.021581   \n",
       "\n",
       "       dwelling_time_median  dwelling_time_std  dwelling_time_skew  \\\n",
       "count         365514.000000      365514.000000       365514.000000   \n",
       "mean               0.006592           0.004625            1.579478   \n",
       "std                0.001541           0.001442            0.697225   \n",
       "min                0.002660           0.000922           -0.617264   \n",
       "25%                0.005520           0.003600            1.111282   \n",
       "50%                0.006310           0.004399            1.495026   \n",
       "75%                0.007310           0.005412            1.939889   \n",
       "max                0.017900           0.020858            8.180598   \n",
       "\n",
       "       sd_current_min  ...  mean_current_min  mean_current_max  \\\n",
       "count   365514.000000  ...     365514.000000     365514.000000   \n",
       "mean         1.611517  ...         94.580259        109.671788   \n",
       "std          0.805870  ...         14.007864         16.032900   \n",
       "min          0.044000  ...         61.000000         76.200000   \n",
       "25%          1.070000  ...         83.100000         95.600000   \n",
       "50%          1.400000  ...         92.500000        108.000000   \n",
       "75%          1.930000  ...        106.000000        125.000000   \n",
       "max          8.230000  ...        132.000000        156.000000   \n",
       "\n",
       "       mean_current_mean  mean_current_median  mean_current_std  \\\n",
       "count      365514.000000        365514.000000     365514.000000   \n",
       "mean          102.646318           102.752992          3.026898   \n",
       "std            15.412760            15.577274          1.184796   \n",
       "min            72.231429            71.700000          0.531099   \n",
       "25%            89.258106            89.250000          2.173622   \n",
       "50%           100.339898           100.000000          2.790958   \n",
       "75%           117.654371           118.000000          3.648482   \n",
       "max           137.120000           137.000000         19.888538   \n",
       "\n",
       "       mean_current_skew        count_A        count_C        count_G  \\\n",
       "count      365514.000000  365514.000000  365514.000000  365514.000000   \n",
       "mean           -0.210321       2.169569       1.332548       0.921341   \n",
       "std             0.907801       0.880328       0.524325       0.736789   \n",
       "min            -5.269245       1.000000       1.000000       0.000000   \n",
       "25%            -0.774930       2.000000       1.000000       0.000000   \n",
       "50%            -0.193065       2.000000       1.000000       1.000000   \n",
       "75%             0.356033       3.000000       2.000000       1.000000   \n",
       "max             9.193026       4.000000       3.000000       3.000000   \n",
       "\n",
       "             count_T  \n",
       "count  365514.000000  \n",
       "mean        0.576542  \n",
       "std         0.648432  \n",
       "min         0.000000  \n",
       "25%         0.000000  \n",
       "50%         0.000000  \n",
       "75%         1.000000  \n",
       "max         2.000000  \n",
       "\n",
       "[8 rows x 25 columns]"
      ]
     },
     "execution_count": 85,
     "metadata": {},
     "output_type": "execute_result"
    }
   ],
   "source": [
    "df.describe()"
   ]
  },
  {
   "cell_type": "code",
   "execution_count": 86,
   "id": "92f2bf0d",
   "metadata": {},
   "outputs": [
    {
     "name": "stdout",
     "output_type": "stream",
     "text": [
      "Non-numerical features:  ['fivemers', 'order_1', 'order_4', 'transcript_id', 'gene_id', 'order_2', 'order_3', 'order_5']\n"
     ]
    }
   ],
   "source": [
    "#Get non-numerical features.\n",
    "non_num_cols = list(set(df.columns) - set(df.describe().columns))\n",
    "print('Non-numerical features: ',non_num_cols)"
   ]
  },
  {
   "cell_type": "code",
   "execution_count": 109,
   "id": "51c81a16",
   "metadata": {},
   "outputs": [],
   "source": [
    "# create list with categorical features' names\n",
    "nonum_cols_names = ['order_4', 'order_2', 'order_1', 'fivemers', 'order_3', 'order_5', 'relative_position', 'transcript_position']\n",
    "\n",
    "# create list with numerical features' names\n",
    "num_cols_names = ['dwelling_time_min', 'dwelling_time_max', 'dwelling_time_mean', 'dwelling_time_median', 'dwelling_time_std', \n",
    "                  'dwelling_time_skew', 'sd_current_min', 'sd_current_max', 'sd_current_mean', 'sd_current_median', 'sd_current_std',\n",
    "                  'sd_current_skew', 'mean_current_min', 'mean_current_max', 'mean_current_mean', 'mean_current_median', 'mean_current_std',\n",
    "                  'mean_current_skew', 'count_A', 'count_C', 'count_G', 'count_T']"
   ]
  },
  {
   "cell_type": "code",
   "execution_count": 110,
   "id": "6b10f2e6",
   "metadata": {},
   "outputs": [],
   "source": [
    "#Assign appropriate data type to categorical variables.\n",
    "df[nonum_cols_names] = df[nonum_cols_names].astype('category')"
   ]
  },
  {
   "cell_type": "code",
   "execution_count": 111,
   "id": "74e4e50c",
   "metadata": {},
   "outputs": [
    {
     "name": "stdout",
     "output_type": "stream",
     "text": [
      "<class 'pandas.core.frame.DataFrame'>\n",
      "RangeIndex: 365514 entries, 0 to 365513\n",
      "Data columns (total 33 columns):\n",
      " #   Column                Non-Null Count   Dtype   \n",
      "---  ------                --------------   -----   \n",
      " 0   gene_id               365514 non-null  object  \n",
      " 1   transcript_id         365514 non-null  object  \n",
      " 2   transcript_position   365514 non-null  category\n",
      " 3   relative_position     365514 non-null  category\n",
      " 4   fivemers              365514 non-null  category\n",
      " 5   label                 365514 non-null  int64   \n",
      " 6   dwelling_time_min     365514 non-null  float64 \n",
      " 7   dwelling_time_max     365514 non-null  float64 \n",
      " 8   dwelling_time_mean    365514 non-null  float64 \n",
      " 9   dwelling_time_median  365514 non-null  float64 \n",
      " 10  dwelling_time_std     365514 non-null  float64 \n",
      " 11  dwelling_time_skew    365514 non-null  float64 \n",
      " 12  sd_current_min        365514 non-null  float64 \n",
      " 13  sd_current_max        365514 non-null  float64 \n",
      " 14  sd_current_mean       365514 non-null  float64 \n",
      " 15  sd_current_median     365514 non-null  float64 \n",
      " 16  sd_current_std        365514 non-null  float64 \n",
      " 17  sd_current_skew       365514 non-null  float64 \n",
      " 18  mean_current_min      365514 non-null  float64 \n",
      " 19  mean_current_max      365514 non-null  float64 \n",
      " 20  mean_current_mean     365514 non-null  float64 \n",
      " 21  mean_current_median   365514 non-null  float64 \n",
      " 22  mean_current_std      365514 non-null  float64 \n",
      " 23  mean_current_skew     365514 non-null  float64 \n",
      " 24  order_1               365514 non-null  category\n",
      " 25  order_2               365514 non-null  category\n",
      " 26  order_3               365514 non-null  category\n",
      " 27  order_4               365514 non-null  category\n",
      " 28  order_5               365514 non-null  category\n",
      " 29  count_A               365514 non-null  int64   \n",
      " 30  count_C               365514 non-null  int64   \n",
      " 31  count_G               365514 non-null  int64   \n",
      " 32  count_T               365514 non-null  int64   \n",
      "dtypes: category(8), float64(18), int64(5), object(2)\n",
      "memory usage: 73.2+ MB\n"
     ]
    }
   ],
   "source": [
    "df.info()"
   ]
  },
  {
   "cell_type": "code",
   "execution_count": 209,
   "id": "7c363343",
   "metadata": {},
   "outputs": [
    {
     "data": {
      "text/plain": [
       "[2]\n",
       "Categories (3, int64): [1, 2, 3]"
      ]
     },
     "execution_count": 209,
     "metadata": {},
     "output_type": "execute_result"
    }
   ],
   "source": [
    "df[df['label'] == 1].relative_position.unique()"
   ]
  },
  {
   "cell_type": "markdown",
   "id": "6a17d4c9",
   "metadata": {},
   "source": [
    "## Train-test split"
   ]
  },
  {
   "cell_type": "code",
   "execution_count": 112,
   "id": "2d5c0ece",
   "metadata": {},
   "outputs": [],
   "source": [
    "splitter = GroupShuffleSplit(test_size=.20, n_splits=2, random_state = 7)\n",
    "split = splitter.split(df, groups = df['gene_id'])\n",
    "train_inds, test_inds = next(split)\n",
    "\n",
    "train = df.iloc[train_inds]\n",
    "test = df.iloc[test_inds]"
   ]
  },
  {
   "cell_type": "code",
   "execution_count": 113,
   "id": "0ed3d056",
   "metadata": {},
   "outputs": [],
   "source": [
    "y_train = train['label']\n",
    "X_train = train.drop(['label'], axis = 1)\n",
    "\n",
    "y_test = test['label']\n",
    "X_test = test.drop(['label'], axis = 1)"
   ]
  },
  {
   "cell_type": "code",
   "execution_count": 114,
   "id": "6b71b215",
   "metadata": {},
   "outputs": [],
   "source": [
    "train_geneids = train['gene_id'].unique()\n",
    "test_geneids = test['gene_id'].unique()"
   ]
  },
  {
   "cell_type": "code",
   "execution_count": 115,
   "id": "5c8d943c",
   "metadata": {},
   "outputs": [
    {
     "data": {
      "text/plain": [
       "False"
      ]
     },
     "execution_count": 115,
     "metadata": {},
     "output_type": "execute_result"
    }
   ],
   "source": [
    "# check if any gene id in train set is present in test set\n",
    "np.in1d(train_geneids, test_geneids).any()"
   ]
  },
  {
   "cell_type": "markdown",
   "id": "d98397fd",
   "metadata": {},
   "source": [
    "# Drop gene_id and transcript_id columns"
   ]
  },
  {
   "cell_type": "code",
   "execution_count": 116,
   "id": "6a3440d7",
   "metadata": {},
   "outputs": [],
   "source": [
    "X_train_ids = X_train[['gene_id', 'transcript_id']]\n",
    "X_train_clean = X_train.drop(columns=['gene_id', 'transcript_id'])"
   ]
  },
  {
   "cell_type": "code",
   "execution_count": 117,
   "id": "4a0549f6",
   "metadata": {},
   "outputs": [
    {
     "data": {
      "text/plain": [
       "(294987, 2)"
      ]
     },
     "execution_count": 117,
     "metadata": {},
     "output_type": "execute_result"
    }
   ],
   "source": [
    "X_train_ids.shape"
   ]
  },
  {
   "cell_type": "code",
   "execution_count": 118,
   "id": "b80cb84c",
   "metadata": {},
   "outputs": [
    {
     "data": {
      "text/plain": [
       "(294987, 30)"
      ]
     },
     "execution_count": 118,
     "metadata": {},
     "output_type": "execute_result"
    }
   ],
   "source": [
    "X_train_clean.shape"
   ]
  },
  {
   "cell_type": "code",
   "execution_count": 119,
   "id": "24f27d33",
   "metadata": {},
   "outputs": [],
   "source": [
    "X_test_ids = X_test[['gene_id', 'transcript_id']]\n",
    "X_test_clean = X_test.drop(columns=['gene_id', 'transcript_id'])"
   ]
  },
  {
   "cell_type": "markdown",
   "id": "c092753f",
   "metadata": {},
   "source": [
    "# Oversampling on train data"
   ]
  },
  {
   "cell_type": "code",
   "execution_count": 140,
   "id": "6ce11a56",
   "metadata": {},
   "outputs": [
    {
     "name": "stdout",
     "output_type": "stream",
     "text": [
      "Original dataset shape Counter({0: 290578, 1: 4409})\n"
     ]
    }
   ],
   "source": [
    "print('Original dataset shape %s' % Counter(y_train))"
   ]
  },
  {
   "cell_type": "code",
   "execution_count": 149,
   "id": "86d316f5",
   "metadata": {},
   "outputs": [
    {
     "data": {
      "text/plain": [
       "<AxesSubplot:>"
      ]
     },
     "execution_count": 149,
     "metadata": {},
     "output_type": "execute_result"
    },
    {
     "data": {
      "image/png": "[encoded data removed]",
      "text/plain": [
       "<Figure size 640x480 with 1 Axes>"
      ]
     },
     "metadata": {},
     "output_type": "display_data"
    }
   ],
   "source": [
    "y_train.value_counts().plot(kind=\"bar\")"
   ]
  },
  {
   "cell_type": "code",
   "execution_count": 150,
   "id": "07b1dd53",
   "metadata": {},
   "outputs": [
    {
     "data": {
      "text/plain": [
       "0    0.985054\n",
       "1    0.014946\n",
       "Name: label, dtype: float64"
      ]
     },
     "execution_count": 150,
     "metadata": {},
     "output_type": "execute_result"
    }
   ],
   "source": [
    "y_train.value_counts()/len(y_train)"
   ]
  },
  {
   "cell_type": "markdown",
   "id": "e8ce87f9",
   "metadata": {},
   "source": [
    "98.5% of training data consists of data with no m6a modification. Class imbalance!"
   ]
  },
  {
   "cell_type": "code",
   "execution_count": 124,
   "id": "5ba65c28",
   "metadata": {},
   "outputs": [],
   "source": [
    "cat_col_index = [df.columns.get_loc(c) for c in nonum_cols_names if c in df]"
   ]
  },
  {
   "cell_type": "code",
   "execution_count": 127,
   "id": "74340f46",
   "metadata": {},
   "outputs": [
    {
     "data": {
      "text/html": [
       "<div>\n",
       "<style scoped>\n",
       "    .dataframe tbody tr th:only-of-type {\n",
       "        vertical-align: middle;\n",
       "    }\n",
       "\n",
       "    .dataframe tbody tr th {\n",
       "        vertical-align: top;\n",
       "    }\n",
       "\n",
       "    .dataframe thead th {\n",
       "        text-align: right;\n",
       "    }\n",
       "</style>\n",
       "<table border=\"1\" class=\"dataframe\">\n",
       "  <thead>\n",
       "    <tr style=\"text-align: right;\">\n",
       "      <th></th>\n",
       "      <th>transcript_position</th>\n",
       "      <th>relative_position</th>\n",
       "      <th>fivemers</th>\n",
       "      <th>dwelling_time_min</th>\n",
       "      <th>dwelling_time_max</th>\n",
       "      <th>dwelling_time_mean</th>\n",
       "      <th>dwelling_time_median</th>\n",
       "      <th>dwelling_time_std</th>\n",
       "      <th>dwelling_time_skew</th>\n",
       "      <th>sd_current_min</th>\n",
       "      <th>...</th>\n",
       "      <th>mean_current_skew</th>\n",
       "      <th>order_1</th>\n",
       "      <th>order_2</th>\n",
       "      <th>order_3</th>\n",
       "      <th>order_4</th>\n",
       "      <th>order_5</th>\n",
       "      <th>count_A</th>\n",
       "      <th>count_C</th>\n",
       "      <th>count_G</th>\n",
       "      <th>count_T</th>\n",
       "    </tr>\n",
       "  </thead>\n",
       "  <tbody>\n",
       "    <tr>\n",
       "      <th>0</th>\n",
       "      <td>511</td>\n",
       "      <td>1</td>\n",
       "      <td>ATAAC</td>\n",
       "      <td>0.00266</td>\n",
       "      <td>0.0169</td>\n",
       "      <td>0.007247</td>\n",
       "      <td>0.005990</td>\n",
       "      <td>0.004404</td>\n",
       "      <td>1.084484</td>\n",
       "      <td>1.280</td>\n",
       "      <td>...</td>\n",
       "      <td>0.591063</td>\n",
       "      <td>A</td>\n",
       "      <td>T</td>\n",
       "      <td>A</td>\n",
       "      <td>A</td>\n",
       "      <td>C</td>\n",
       "      <td>3</td>\n",
       "      <td>1</td>\n",
       "      <td>0</td>\n",
       "      <td>1</td>\n",
       "    </tr>\n",
       "    <tr>\n",
       "      <th>1</th>\n",
       "      <td>512</td>\n",
       "      <td>2</td>\n",
       "      <td>TAACT</td>\n",
       "      <td>0.00232</td>\n",
       "      <td>0.0461</td>\n",
       "      <td>0.011177</td>\n",
       "      <td>0.007735</td>\n",
       "      <td>0.010835</td>\n",
       "      <td>2.080787</td>\n",
       "      <td>1.480</td>\n",
       "      <td>...</td>\n",
       "      <td>-0.177996</td>\n",
       "      <td>T</td>\n",
       "      <td>A</td>\n",
       "      <td>A</td>\n",
       "      <td>C</td>\n",
       "      <td>T</td>\n",
       "      <td>2</td>\n",
       "      <td>1</td>\n",
       "      <td>0</td>\n",
       "      <td>2</td>\n",
       "    </tr>\n",
       "    <tr>\n",
       "      <th>2</th>\n",
       "      <td>513</td>\n",
       "      <td>3</td>\n",
       "      <td>AACTC</td>\n",
       "      <td>0.00266</td>\n",
       "      <td>0.0219</td>\n",
       "      <td>0.008500</td>\n",
       "      <td>0.006870</td>\n",
       "      <td>0.005272</td>\n",
       "      <td>1.370120</td>\n",
       "      <td>0.917</td>\n",
       "      <td>...</td>\n",
       "      <td>-3.353925</td>\n",
       "      <td>A</td>\n",
       "      <td>A</td>\n",
       "      <td>C</td>\n",
       "      <td>T</td>\n",
       "      <td>C</td>\n",
       "      <td>2</td>\n",
       "      <td>2</td>\n",
       "      <td>0</td>\n",
       "      <td>1</td>\n",
       "    </tr>\n",
       "    <tr>\n",
       "      <th>3</th>\n",
       "      <td>688</td>\n",
       "      <td>1</td>\n",
       "      <td>TAAAC</td>\n",
       "      <td>0.00232</td>\n",
       "      <td>0.0279</td>\n",
       "      <td>0.009868</td>\n",
       "      <td>0.007640</td>\n",
       "      <td>0.006946</td>\n",
       "      <td>1.311306</td>\n",
       "      <td>1.160</td>\n",
       "      <td>...</td>\n",
       "      <td>-1.322034</td>\n",
       "      <td>T</td>\n",
       "      <td>A</td>\n",
       "      <td>A</td>\n",
       "      <td>A</td>\n",
       "      <td>C</td>\n",
       "      <td>3</td>\n",
       "      <td>1</td>\n",
       "      <td>0</td>\n",
       "      <td>1</td>\n",
       "    </tr>\n",
       "    <tr>\n",
       "      <th>4</th>\n",
       "      <td>689</td>\n",
       "      <td>2</td>\n",
       "      <td>AAACA</td>\n",
       "      <td>0.00232</td>\n",
       "      <td>0.0179</td>\n",
       "      <td>0.007332</td>\n",
       "      <td>0.006420</td>\n",
       "      <td>0.004067</td>\n",
       "      <td>0.880893</td>\n",
       "      <td>1.420</td>\n",
       "      <td>...</td>\n",
       "      <td>-0.931646</td>\n",
       "      <td>A</td>\n",
       "      <td>A</td>\n",
       "      <td>A</td>\n",
       "      <td>C</td>\n",
       "      <td>A</td>\n",
       "      <td>4</td>\n",
       "      <td>1</td>\n",
       "      <td>0</td>\n",
       "      <td>0</td>\n",
       "    </tr>\n",
       "  </tbody>\n",
       "</table>\n",
       "<p>5 rows × 30 columns</p>\n",
       "</div>"
      ],
      "text/plain": [
       "  transcript_position relative_position fivemers  dwelling_time_min  \\\n",
       "0                 511                 1    ATAAC            0.00266   \n",
       "1                 512                 2    TAACT            0.00232   \n",
       "2                 513                 3    AACTC            0.00266   \n",
       "3                 688                 1    TAAAC            0.00232   \n",
       "4                 689                 2    AAACA            0.00232   \n",
       "\n",
       "   dwelling_time_max  dwelling_time_mean  dwelling_time_median  \\\n",
       "0             0.0169            0.007247              0.005990   \n",
       "1             0.0461            0.011177              0.007735   \n",
       "2             0.0219            0.008500              0.006870   \n",
       "3             0.0279            0.009868              0.007640   \n",
       "4             0.0179            0.007332              0.006420   \n",
       "\n",
       "   dwelling_time_std  dwelling_time_skew  sd_current_min  ...  \\\n",
       "0           0.004404            1.084484           1.280  ...   \n",
       "1           0.010835            2.080787           1.480  ...   \n",
       "2           0.005272            1.370120           0.917  ...   \n",
       "3           0.006946            1.311306           1.160  ...   \n",
       "4           0.004067            0.880893           1.420  ...   \n",
       "\n",
       "   mean_current_skew  order_1  order_2  order_3  order_4  order_5  count_A  \\\n",
       "0           0.591063        A        T        A        A        C        3   \n",
       "1          -0.177996        T        A        A        C        T        2   \n",
       "2          -3.353925        A        A        C        T        C        2   \n",
       "3          -1.322034        T        A        A        A        C        3   \n",
       "4          -0.931646        A        A        A        C        A        4   \n",
       "\n",
       "   count_C  count_G  count_T  \n",
       "0        1        0        1  \n",
       "1        1        0        2  \n",
       "2        2        0        1  \n",
       "3        1        0        1  \n",
       "4        1        0        0  \n",
       "\n",
       "[5 rows x 30 columns]"
      ]
     },
     "execution_count": 127,
     "metadata": {},
     "output_type": "execute_result"
    }
   ],
   "source": [
    "X_train_clean.head(5)"
   ]
  },
  {
   "cell_type": "code",
   "execution_count": 73,
   "id": "5fb926f5",
   "metadata": {},
   "outputs": [
    {
     "data": {
      "text/plain": [
       "[27, 25, 24, 4, 26, 28, 3]"
      ]
     },
     "execution_count": 73,
     "metadata": {},
     "output_type": "execute_result"
    }
   ],
   "source": [
    "cat_col_index"
   ]
  },
  {
   "cell_type": "code",
   "execution_count": 181,
   "id": "4ff661c2",
   "metadata": {},
   "outputs": [],
   "source": [
    "# define oversampling strategy so that ratio of minority samples to majority samples is 1:2\n",
    "oversample = RandomOverSampler(sampling_strategy=0.5, random_state=42)"
   ]
  },
  {
   "cell_type": "code",
   "execution_count": 182,
   "id": "1b595ad0",
   "metadata": {},
   "outputs": [],
   "source": [
    "X_train_over, y_train_over = oversample.fit_resample(X_train_clean, y_train)"
   ]
  },
  {
   "cell_type": "code",
   "execution_count": 183,
   "id": "c4d9f38d",
   "metadata": {},
   "outputs": [
    {
     "name": "stdout",
     "output_type": "stream",
     "text": [
      "Resampled dataset shape Counter({0: 290578, 1: 145289})\n"
     ]
    }
   ],
   "source": [
    "print('Resampled dataset shape %s' % Counter(y_train_over))"
   ]
  },
  {
   "cell_type": "code",
   "execution_count": 184,
   "id": "a0f0fe68",
   "metadata": {},
   "outputs": [
    {
     "data": {
      "text/plain": [
       "0    0.666667\n",
       "1    0.333333\n",
       "Name: label, dtype: float64"
      ]
     },
     "execution_count": 184,
     "metadata": {},
     "output_type": "execute_result"
    }
   ],
   "source": [
    "y_train_over.value_counts()/len(y_train_over)"
   ]
  },
  {
   "cell_type": "code",
   "execution_count": 185,
   "id": "f25972cb",
   "metadata": {},
   "outputs": [
    {
     "data": {
      "text/plain": [
       "<AxesSubplot:>"
      ]
     },
     "execution_count": 185,
     "metadata": {},
     "output_type": "execute_result"
    },
    {
     "data": {
      "image/png": "[encoded data removed]",
      "text/plain": [
       "<Figure size 640x480 with 1 Axes>"
      ]
     },
     "metadata": {},
     "output_type": "display_data"
    }
   ],
   "source": [
    "y_train_over.value_counts().plot(kind=\"bar\")"
   ]
  },
  {
   "cell_type": "code",
   "execution_count": 186,
   "id": "145ad5de",
   "metadata": {},
   "outputs": [],
   "source": [
    "# define undersampling strategy so that the ratio of minority to majority samples becomes 3:4\n",
    "under = RandomUnderSampler(sampling_strategy=0.75)\n",
    "# fit and apply the transform\n",
    "X_train_under, y_train_under = under.fit_resample(X_train_over, y_train_over)"
   ]
  },
  {
   "cell_type": "code",
   "execution_count": 188,
   "id": "e8c01023",
   "metadata": {},
   "outputs": [
    {
     "name": "stdout",
     "output_type": "stream",
     "text": [
      "Resampled dataset shape Counter({0: 193718, 1: 145289})\n"
     ]
    }
   ],
   "source": [
    "print('Resampled dataset shape %s' % Counter(y_train_under))"
   ]
  },
  {
   "cell_type": "code",
   "execution_count": 189,
   "id": "80e77668",
   "metadata": {},
   "outputs": [
    {
     "data": {
      "text/plain": [
       "0    0.571428\n",
       "1    0.428572\n",
       "Name: label, dtype: float64"
      ]
     },
     "execution_count": 189,
     "metadata": {},
     "output_type": "execute_result"
    }
   ],
   "source": [
    "y_train_under.value_counts()/len(y_train_under)"
   ]
  },
  {
   "cell_type": "code",
   "execution_count": 190,
   "id": "65dbe54a",
   "metadata": {},
   "outputs": [
    {
     "data": {
      "text/plain": [
       "<AxesSubplot:>"
      ]
     },
     "execution_count": 190,
     "metadata": {},
     "output_type": "execute_result"
    },
    {
     "data": {
      "image/png": "[encoded data removed]",
      "text/plain": [
       "<Figure size 640x480 with 1 Axes>"
      ]
     },
     "metadata": {},
     "output_type": "display_data"
    }
   ],
   "source": [
    "y_train_under.value_counts().plot(kind=\"bar\")"
   ]
  },
  {
   "cell_type": "code",
   "execution_count": 191,
   "id": "70286766",
   "metadata": {},
   "outputs": [
    {
     "data": {
      "text/html": [
       "<div>\n",
       "<style scoped>\n",
       "    .dataframe tbody tr th:only-of-type {\n",
       "        vertical-align: middle;\n",
       "    }\n",
       "\n",
       "    .dataframe tbody tr th {\n",
       "        vertical-align: top;\n",
       "    }\n",
       "\n",
       "    .dataframe thead th {\n",
       "        text-align: right;\n",
       "    }\n",
       "</style>\n",
       "<table border=\"1\" class=\"dataframe\">\n",
       "  <thead>\n",
       "    <tr style=\"text-align: right;\">\n",
       "      <th></th>\n",
       "      <th>transcript_position</th>\n",
       "      <th>relative_position</th>\n",
       "      <th>fivemers</th>\n",
       "      <th>dwelling_time_min</th>\n",
       "      <th>dwelling_time_max</th>\n",
       "      <th>dwelling_time_mean</th>\n",
       "      <th>dwelling_time_median</th>\n",
       "      <th>dwelling_time_std</th>\n",
       "      <th>dwelling_time_skew</th>\n",
       "      <th>sd_current_min</th>\n",
       "      <th>...</th>\n",
       "      <th>mean_current_skew</th>\n",
       "      <th>order_1</th>\n",
       "      <th>order_2</th>\n",
       "      <th>order_3</th>\n",
       "      <th>order_4</th>\n",
       "      <th>order_5</th>\n",
       "      <th>count_A</th>\n",
       "      <th>count_C</th>\n",
       "      <th>count_G</th>\n",
       "      <th>count_T</th>\n",
       "    </tr>\n",
       "  </thead>\n",
       "  <tbody>\n",
       "    <tr>\n",
       "      <th>0</th>\n",
       "      <td>1317</td>\n",
       "      <td>2</td>\n",
       "      <td>GAACT</td>\n",
       "      <td>0.00309</td>\n",
       "      <td>0.0211</td>\n",
       "      <td>0.010658</td>\n",
       "      <td>0.011000</td>\n",
       "      <td>0.005176</td>\n",
       "      <td>0.306495</td>\n",
       "      <td>1.530</td>\n",
       "      <td>...</td>\n",
       "      <td>0.405568</td>\n",
       "      <td>G</td>\n",
       "      <td>A</td>\n",
       "      <td>A</td>\n",
       "      <td>C</td>\n",
       "      <td>T</td>\n",
       "      <td>2</td>\n",
       "      <td>1</td>\n",
       "      <td>1</td>\n",
       "      <td>1</td>\n",
       "    </tr>\n",
       "    <tr>\n",
       "      <th>1</th>\n",
       "      <td>613</td>\n",
       "      <td>2</td>\n",
       "      <td>TAACT</td>\n",
       "      <td>0.00199</td>\n",
       "      <td>0.0315</td>\n",
       "      <td>0.006189</td>\n",
       "      <td>0.005280</td>\n",
       "      <td>0.004016</td>\n",
       "      <td>3.009988</td>\n",
       "      <td>0.793</td>\n",
       "      <td>...</td>\n",
       "      <td>-0.810159</td>\n",
       "      <td>T</td>\n",
       "      <td>A</td>\n",
       "      <td>A</td>\n",
       "      <td>C</td>\n",
       "      <td>T</td>\n",
       "      <td>2</td>\n",
       "      <td>1</td>\n",
       "      <td>0</td>\n",
       "      <td>2</td>\n",
       "    </tr>\n",
       "    <tr>\n",
       "      <th>2</th>\n",
       "      <td>2898</td>\n",
       "      <td>1</td>\n",
       "      <td>GTAAC</td>\n",
       "      <td>0.00232</td>\n",
       "      <td>0.0236</td>\n",
       "      <td>0.006733</td>\n",
       "      <td>0.005310</td>\n",
       "      <td>0.005009</td>\n",
       "      <td>2.100542</td>\n",
       "      <td>1.310</td>\n",
       "      <td>...</td>\n",
       "      <td>0.102947</td>\n",
       "      <td>G</td>\n",
       "      <td>T</td>\n",
       "      <td>A</td>\n",
       "      <td>A</td>\n",
       "      <td>C</td>\n",
       "      <td>2</td>\n",
       "      <td>1</td>\n",
       "      <td>1</td>\n",
       "      <td>1</td>\n",
       "    </tr>\n",
       "    <tr>\n",
       "      <th>3</th>\n",
       "      <td>1322</td>\n",
       "      <td>2</td>\n",
       "      <td>AGACC</td>\n",
       "      <td>0.00232</td>\n",
       "      <td>0.0296</td>\n",
       "      <td>0.010026</td>\n",
       "      <td>0.008465</td>\n",
       "      <td>0.005871</td>\n",
       "      <td>1.133246</td>\n",
       "      <td>1.100</td>\n",
       "      <td>...</td>\n",
       "      <td>-0.070441</td>\n",
       "      <td>A</td>\n",
       "      <td>G</td>\n",
       "      <td>A</td>\n",
       "      <td>C</td>\n",
       "      <td>C</td>\n",
       "      <td>2</td>\n",
       "      <td>2</td>\n",
       "      <td>1</td>\n",
       "      <td>0</td>\n",
       "    </tr>\n",
       "    <tr>\n",
       "      <th>4</th>\n",
       "      <td>1999</td>\n",
       "      <td>3</td>\n",
       "      <td>GACCC</td>\n",
       "      <td>0.00232</td>\n",
       "      <td>0.0199</td>\n",
       "      <td>0.005859</td>\n",
       "      <td>0.004740</td>\n",
       "      <td>0.003567</td>\n",
       "      <td>2.373471</td>\n",
       "      <td>2.180</td>\n",
       "      <td>...</td>\n",
       "      <td>0.841011</td>\n",
       "      <td>G</td>\n",
       "      <td>A</td>\n",
       "      <td>C</td>\n",
       "      <td>C</td>\n",
       "      <td>C</td>\n",
       "      <td>1</td>\n",
       "      <td>3</td>\n",
       "      <td>1</td>\n",
       "      <td>0</td>\n",
       "    </tr>\n",
       "  </tbody>\n",
       "</table>\n",
       "<p>5 rows × 30 columns</p>\n",
       "</div>"
      ],
      "text/plain": [
       "  transcript_position relative_position fivemers  dwelling_time_min  \\\n",
       "0                1317                 2    GAACT            0.00309   \n",
       "1                 613                 2    TAACT            0.00199   \n",
       "2                2898                 1    GTAAC            0.00232   \n",
       "3                1322                 2    AGACC            0.00232   \n",
       "4                1999                 3    GACCC            0.00232   \n",
       "\n",
       "   dwelling_time_max  dwelling_time_mean  dwelling_time_median  \\\n",
       "0             0.0211            0.010658              0.011000   \n",
       "1             0.0315            0.006189              0.005280   \n",
       "2             0.0236            0.006733              0.005310   \n",
       "3             0.0296            0.010026              0.008465   \n",
       "4             0.0199            0.005859              0.004740   \n",
       "\n",
       "   dwelling_time_std  dwelling_time_skew  sd_current_min  ...  \\\n",
       "0           0.005176            0.306495           1.530  ...   \n",
       "1           0.004016            3.009988           0.793  ...   \n",
       "2           0.005009            2.100542           1.310  ...   \n",
       "3           0.005871            1.133246           1.100  ...   \n",
       "4           0.003567            2.373471           2.180  ...   \n",
       "\n",
       "   mean_current_skew  order_1  order_2  order_3  order_4  order_5  count_A  \\\n",
       "0           0.405568        G        A        A        C        T        2   \n",
       "1          -0.810159        T        A        A        C        T        2   \n",
       "2           0.102947        G        T        A        A        C        2   \n",
       "3          -0.070441        A        G        A        C        C        2   \n",
       "4           0.841011        G        A        C        C        C        1   \n",
       "\n",
       "   count_C  count_G  count_T  \n",
       "0        1        1        1  \n",
       "1        1        0        2  \n",
       "2        1        1        1  \n",
       "3        2        1        0  \n",
       "4        3        1        0  \n",
       "\n",
       "[5 rows x 30 columns]"
      ]
     },
     "execution_count": 191,
     "metadata": {},
     "output_type": "execute_result"
    }
   ],
   "source": [
    "X_train_under.head(5)"
   ]
  },
  {
   "cell_type": "code",
   "execution_count": 195,
   "id": "9a6d567c",
   "metadata": {},
   "outputs": [
    {
     "data": {
      "text/plain": [
       "0    0\n",
       "1    0\n",
       "2    0\n",
       "3    0\n",
       "4    0\n",
       "Name: label, dtype: int64"
      ]
     },
     "execution_count": 195,
     "metadata": {},
     "output_type": "execute_result"
    }
   ],
   "source": [
    "y_train_under.head(5)"
   ]
  },
  {
   "cell_type": "code",
   "execution_count": 200,
   "id": "f031e634",
   "metadata": {},
   "outputs": [],
   "source": [
    "X_train_final = X_train_under.copy()\n",
    "y_train_final = y_train_under.copy()\n",
    "\n",
    "X_test_final = X_test_clean.copy()\n",
    "y_test_final = y_test.copy()"
   ]
  },
  {
   "cell_type": "code",
   "execution_count": 206,
   "id": "c02cba33",
   "metadata": {},
   "outputs": [],
   "source": [
    "X_train_final.to_csv('X_train_final.csv')\n",
    "X_test_final.to_csv('X_test_final.csv')\n",
    "\n",
    "y_train_final.to_csv('y_train_final.csv')\n",
    "y_test_final.to_csv('y_test_final.csv')"
   ]
  }
 ],
 "metadata": {
  "kernelspec": {
   "display_name": "Python 3 (ipykernel)",
   "language": "python",
   "name": "python3"
  },
  "language_info": {
   "codemirror_mode": {
    "name": "ipython",
    "version": 3
   },
   "file_extension": ".py",
   "mimetype": "text/x-python",
   "name": "python",
   "nbconvert_exporter": "python",
   "pygments_lexer": "ipython3",
   "version": "3.8.13"
  }
 },
 "nbformat": 4,
 "nbformat_minor": 5
}
