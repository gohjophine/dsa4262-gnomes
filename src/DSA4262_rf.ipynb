{
 "cells": [
  {
   "cell_type": "code",
   "execution_count": 2,
   "id": "e47a3e66",
   "metadata": {},
   "outputs": [],
   "source": [
    "import pandas as pd\n",
    "import numpy as np\n",
    "import matplotlib.pyplot as plt\n",
    "from sklearn.model_selection import GroupShuffleSplit \n",
    "from sklearn.preprocessing import StandardScaler\n",
    "from imblearn.over_sampling import RandomOverSampler\n",
    "from imblearn.under_sampling import RandomUnderSampler\n",
    "from collections import Counter"
   ]
  },
  {
   "cell_type": "code",
   "execution_count": 3,
   "id": "956fc407",
   "metadata": {},
   "outputs": [],
   "source": [
    "df = pd.read_csv('small_grouped_data.csv')"
   ]
  },
  {
   "cell_type": "code",
   "execution_count": 4,
   "id": "e1114ebf",
   "metadata": {},
   "outputs": [
    {
     "data": {
      "text/html": [
       "<div>\n",
       "<style scoped>\n",
       "    .dataframe tbody tr th:only-of-type {\n",
       "        vertical-align: middle;\n",
       "    }\n",
       "\n",
       "    .dataframe tbody tr th {\n",
       "        vertical-align: top;\n",
       "    }\n",
       "\n",
       "    .dataframe thead th {\n",
       "        text-align: right;\n",
       "    }\n",
       "</style>\n",
       "<table border=\"1\" class=\"dataframe\">\n",
       "  <thead>\n",
       "    <tr style=\"text-align: right;\">\n",
       "      <th></th>\n",
       "      <th>gene_id</th>\n",
       "      <th>transcript_id</th>\n",
       "      <th>transcript_position</th>\n",
       "      <th>sevenmers</th>\n",
       "      <th>label</th>\n",
       "      <th>dwelling_time_1_min</th>\n",
       "      <th>dwelling_time_1_max</th>\n",
       "      <th>dwelling_time_1_mean</th>\n",
       "      <th>dwelling_time_1_median</th>\n",
       "      <th>dwelling_time_1_std</th>\n",
       "      <th>...</th>\n",
       "      <th>order_2</th>\n",
       "      <th>order_3</th>\n",
       "      <th>order_4</th>\n",
       "      <th>order_5</th>\n",
       "      <th>order_6</th>\n",
       "      <th>order_7</th>\n",
       "      <th>count_A</th>\n",
       "      <th>count_C</th>\n",
       "      <th>count_G</th>\n",
       "      <th>count_T</th>\n",
       "    </tr>\n",
       "  </thead>\n",
       "  <tbody>\n",
       "    <tr>\n",
       "      <th>0</th>\n",
       "      <td>ENSG00000000003</td>\n",
       "      <td>ENST00000373020</td>\n",
       "      <td>512</td>\n",
       "      <td>ATAACTC</td>\n",
       "      <td>0</td>\n",
       "      <td>0.00266</td>\n",
       "      <td>0.0169</td>\n",
       "      <td>0.007247</td>\n",
       "      <td>0.00599</td>\n",
       "      <td>0.004404</td>\n",
       "      <td>...</td>\n",
       "      <td>T</td>\n",
       "      <td>A</td>\n",
       "      <td>A</td>\n",
       "      <td>C</td>\n",
       "      <td>T</td>\n",
       "      <td>C</td>\n",
       "      <td>3</td>\n",
       "      <td>2</td>\n",
       "      <td>0</td>\n",
       "      <td>2</td>\n",
       "    </tr>\n",
       "    <tr>\n",
       "      <th>1</th>\n",
       "      <td>ENSG00000000003</td>\n",
       "      <td>ENST00000373020</td>\n",
       "      <td>689</td>\n",
       "      <td>TAAACAA</td>\n",
       "      <td>0</td>\n",
       "      <td>0.00232</td>\n",
       "      <td>0.0279</td>\n",
       "      <td>0.009868</td>\n",
       "      <td>0.00764</td>\n",
       "      <td>0.006946</td>\n",
       "      <td>...</td>\n",
       "      <td>A</td>\n",
       "      <td>A</td>\n",
       "      <td>A</td>\n",
       "      <td>C</td>\n",
       "      <td>A</td>\n",
       "      <td>A</td>\n",
       "      <td>5</td>\n",
       "      <td>1</td>\n",
       "      <td>0</td>\n",
       "      <td>1</td>\n",
       "    </tr>\n",
       "    <tr>\n",
       "      <th>2</th>\n",
       "      <td>ENSG00000000003</td>\n",
       "      <td>ENST00000373020</td>\n",
       "      <td>823</td>\n",
       "      <td>ATAACAA</td>\n",
       "      <td>0</td>\n",
       "      <td>0.00299</td>\n",
       "      <td>0.0196</td>\n",
       "      <td>0.007456</td>\n",
       "      <td>0.00631</td>\n",
       "      <td>0.003799</td>\n",
       "      <td>...</td>\n",
       "      <td>T</td>\n",
       "      <td>A</td>\n",
       "      <td>A</td>\n",
       "      <td>C</td>\n",
       "      <td>A</td>\n",
       "      <td>A</td>\n",
       "      <td>5</td>\n",
       "      <td>1</td>\n",
       "      <td>0</td>\n",
       "      <td>1</td>\n",
       "    </tr>\n",
       "    <tr>\n",
       "      <th>3</th>\n",
       "      <td>ENSG00000000003</td>\n",
       "      <td>ENST00000373020</td>\n",
       "      <td>830</td>\n",
       "      <td>ATAACCA</td>\n",
       "      <td>0</td>\n",
       "      <td>0.00266</td>\n",
       "      <td>0.0226</td>\n",
       "      <td>0.007765</td>\n",
       "      <td>0.00641</td>\n",
       "      <td>0.004869</td>\n",
       "      <td>...</td>\n",
       "      <td>T</td>\n",
       "      <td>A</td>\n",
       "      <td>A</td>\n",
       "      <td>C</td>\n",
       "      <td>C</td>\n",
       "      <td>A</td>\n",
       "      <td>4</td>\n",
       "      <td>2</td>\n",
       "      <td>0</td>\n",
       "      <td>1</td>\n",
       "    </tr>\n",
       "    <tr>\n",
       "      <th>4</th>\n",
       "      <td>ENSG00000000003</td>\n",
       "      <td>ENST00000373020</td>\n",
       "      <td>849</td>\n",
       "      <td>GTAACCC</td>\n",
       "      <td>0</td>\n",
       "      <td>0.00332</td>\n",
       "      <td>0.0181</td>\n",
       "      <td>0.006785</td>\n",
       "      <td>0.00598</td>\n",
       "      <td>0.003115</td>\n",
       "      <td>...</td>\n",
       "      <td>T</td>\n",
       "      <td>A</td>\n",
       "      <td>A</td>\n",
       "      <td>C</td>\n",
       "      <td>C</td>\n",
       "      <td>C</td>\n",
       "      <td>2</td>\n",
       "      <td>3</td>\n",
       "      <td>1</td>\n",
       "      <td>1</td>\n",
       "    </tr>\n",
       "  </tbody>\n",
       "</table>\n",
       "<p>5 rows × 70 columns</p>\n",
       "</div>"
      ],
      "text/plain": [
       "           gene_id    transcript_id  transcript_position sevenmers  label  \\\n",
       "0  ENSG00000000003  ENST00000373020                  512   ATAACTC      0   \n",
       "1  ENSG00000000003  ENST00000373020                  689   TAAACAA      0   \n",
       "2  ENSG00000000003  ENST00000373020                  823   ATAACAA      0   \n",
       "3  ENSG00000000003  ENST00000373020                  830   ATAACCA      0   \n",
       "4  ENSG00000000003  ENST00000373020                  849   GTAACCC      0   \n",
       "\n",
       "   dwelling_time_1_min  dwelling_time_1_max  dwelling_time_1_mean  \\\n",
       "0              0.00266               0.0169              0.007247   \n",
       "1              0.00232               0.0279              0.009868   \n",
       "2              0.00299               0.0196              0.007456   \n",
       "3              0.00266               0.0226              0.007765   \n",
       "4              0.00332               0.0181              0.006785   \n",
       "\n",
       "   dwelling_time_1_median  dwelling_time_1_std  ...  order_2  order_3  \\\n",
       "0                 0.00599             0.004404  ...        T        A   \n",
       "1                 0.00764             0.006946  ...        A        A   \n",
       "2                 0.00631             0.003799  ...        T        A   \n",
       "3                 0.00641             0.004869  ...        T        A   \n",
       "4                 0.00598             0.003115  ...        T        A   \n",
       "\n",
       "   order_4  order_5  order_6  order_7  count_A  count_C  count_G  count_T  \n",
       "0        A        C        T        C        3        2        0        2  \n",
       "1        A        C        A        A        5        1        0        1  \n",
       "2        A        C        A        A        5        1        0        1  \n",
       "3        A        C        C        A        4        2        0        1  \n",
       "4        A        C        C        C        2        3        1        1  \n",
       "\n",
       "[5 rows x 70 columns]"
      ]
     },
     "execution_count": 4,
     "metadata": {},
     "output_type": "execute_result"
    }
   ],
   "source": [
    "df.head(5)"
   ]
  },
  {
   "cell_type": "code",
   "execution_count": 5,
   "id": "9567079e",
   "metadata": {},
   "outputs": [
    {
     "data": {
      "text/plain": [
       "288"
      ]
     },
     "execution_count": 5,
     "metadata": {},
     "output_type": "execute_result"
    }
   ],
   "source": [
    "len(df['sevenmers'].unique())"
   ]
  },
  {
   "cell_type": "code",
   "execution_count": 6,
   "id": "444a5b59",
   "metadata": {},
   "outputs": [
    {
     "data": {
      "text/plain": [
       "(30459, 70)"
      ]
     },
     "execution_count": 6,
     "metadata": {},
     "output_type": "execute_result"
    }
   ],
   "source": [
    "df.shape"
   ]
  },
  {
   "cell_type": "code",
   "execution_count": 7,
   "id": "ba194850",
   "metadata": {},
   "outputs": [
    {
     "name": "stdout",
     "output_type": "stream",
     "text": [
      "<class 'pandas.core.frame.DataFrame'>\n",
      "RangeIndex: 30459 entries, 0 to 30458\n",
      "Data columns (total 70 columns):\n",
      " #   Column                  Non-Null Count  Dtype  \n",
      "---  ------                  --------------  -----  \n",
      " 0   gene_id                 30459 non-null  object \n",
      " 1   transcript_id           30459 non-null  object \n",
      " 2   transcript_position     30459 non-null  int64  \n",
      " 3   sevenmers               30459 non-null  object \n",
      " 4   label                   30459 non-null  int64  \n",
      " 5   dwelling_time_1_min     30459 non-null  float64\n",
      " 6   dwelling_time_1_max     30459 non-null  float64\n",
      " 7   dwelling_time_1_mean    30459 non-null  float64\n",
      " 8   dwelling_time_1_median  30459 non-null  float64\n",
      " 9   dwelling_time_1_std     30459 non-null  float64\n",
      " 10  dwelling_time_1_skew    30459 non-null  float64\n",
      " 11  sd_current_1_min        30459 non-null  float64\n",
      " 12  sd_current_1_max        30459 non-null  float64\n",
      " 13  sd_current_1_mean       30459 non-null  float64\n",
      " 14  sd_current_1_median     30459 non-null  float64\n",
      " 15  sd_current_1_std        30459 non-null  float64\n",
      " 16  sd_current_1_skew       30459 non-null  float64\n",
      " 17  mean_current_1_min      30459 non-null  float64\n",
      " 18  mean_current_1_max      30459 non-null  float64\n",
      " 19  mean_current_1_mean     30459 non-null  float64\n",
      " 20  mean_current_1_median   30459 non-null  float64\n",
      " 21  mean_current_1_std      30459 non-null  float64\n",
      " 22  mean_current_1_skew     30459 non-null  float64\n",
      " 23  dwelling_time_2_min     30459 non-null  float64\n",
      " 24  dwelling_time_2_max     30459 non-null  float64\n",
      " 25  dwelling_time_2_mean    30459 non-null  float64\n",
      " 26  dwelling_time_2_median  30459 non-null  float64\n",
      " 27  dwelling_time_2_std     30459 non-null  float64\n",
      " 28  dwelling_time_2_skew    30459 non-null  float64\n",
      " 29  sd_current_2_min        30459 non-null  float64\n",
      " 30  sd_current_2_max        30459 non-null  float64\n",
      " 31  sd_current_2_mean       30459 non-null  float64\n",
      " 32  sd_current_2_median     30459 non-null  float64\n",
      " 33  sd_current_2_std        30459 non-null  float64\n",
      " 34  sd_current_2_skew       30459 non-null  float64\n",
      " 35  mean_current_2_min      30459 non-null  float64\n",
      " 36  mean_current_2_max      30459 non-null  float64\n",
      " 37  mean_current_2_mean     30459 non-null  float64\n",
      " 38  mean_current_2_median   30459 non-null  float64\n",
      " 39  mean_current_2_std      30459 non-null  float64\n",
      " 40  mean_current_2_skew     30459 non-null  float64\n",
      " 41  dwelling_time_3_min     30459 non-null  float64\n",
      " 42  dwelling_time_3_max     30459 non-null  float64\n",
      " 43  dwelling_time_3_mean    30459 non-null  float64\n",
      " 44  dwelling_time_3_median  30459 non-null  float64\n",
      " 45  dwelling_time_3_std     30459 non-null  float64\n",
      " 46  dwelling_time_3_skew    30459 non-null  float64\n",
      " 47  sd_current_3_min        30459 non-null  float64\n",
      " 48  sd_current_3_max        30459 non-null  float64\n",
      " 49  sd_current_3_mean       30459 non-null  float64\n",
      " 50  sd_current_3_median     30459 non-null  float64\n",
      " 51  sd_current_3_std        30459 non-null  float64\n",
      " 52  sd_current_3_skew       30459 non-null  float64\n",
      " 53  mean_current_3_min      30459 non-null  float64\n",
      " 54  mean_current_3_max      30459 non-null  float64\n",
      " 55  mean_current_3_mean     30459 non-null  float64\n",
      " 56  mean_current_3_median   30459 non-null  float64\n",
      " 57  mean_current_3_std      30459 non-null  float64\n",
      " 58  mean_current_3_skew     30459 non-null  float64\n",
      " 59  order_1                 30459 non-null  object \n",
      " 60  order_2                 30459 non-null  object \n",
      " 61  order_3                 30459 non-null  object \n",
      " 62  order_4                 30459 non-null  object \n",
      " 63  order_5                 30459 non-null  object \n",
      " 64  order_6                 30459 non-null  object \n",
      " 65  order_7                 30459 non-null  object \n",
      " 66  count_A                 30459 non-null  int64  \n",
      " 67  count_C                 30459 non-null  int64  \n",
      " 68  count_G                 30459 non-null  int64  \n",
      " 69  count_T                 30459 non-null  int64  \n",
      "dtypes: float64(54), int64(6), object(10)\n",
      "memory usage: 16.3+ MB\n"
     ]
    }
   ],
   "source": [
    "df.info()"
   ]
  },
  {
   "cell_type": "code",
   "execution_count": 8,
   "id": "308cc0dc",
   "metadata": {},
   "outputs": [
    {
     "data": {
      "text/html": [
       "<div>\n",
       "<style scoped>\n",
       "    .dataframe tbody tr th:only-of-type {\n",
       "        vertical-align: middle;\n",
       "    }\n",
       "\n",
       "    .dataframe tbody tr th {\n",
       "        vertical-align: top;\n",
       "    }\n",
       "\n",
       "    .dataframe thead th {\n",
       "        text-align: right;\n",
       "    }\n",
       "</style>\n",
       "<table border=\"1\" class=\"dataframe\">\n",
       "  <thead>\n",
       "    <tr style=\"text-align: right;\">\n",
       "      <th></th>\n",
       "      <th>transcript_position</th>\n",
       "      <th>label</th>\n",
       "      <th>dwelling_time_1_min</th>\n",
       "      <th>dwelling_time_1_max</th>\n",
       "      <th>dwelling_time_1_mean</th>\n",
       "      <th>dwelling_time_1_median</th>\n",
       "      <th>dwelling_time_1_std</th>\n",
       "      <th>dwelling_time_1_skew</th>\n",
       "      <th>sd_current_1_min</th>\n",
       "      <th>sd_current_1_max</th>\n",
       "      <th>...</th>\n",
       "      <th>mean_current_3_min</th>\n",
       "      <th>mean_current_3_max</th>\n",
       "      <th>mean_current_3_mean</th>\n",
       "      <th>mean_current_3_median</th>\n",
       "      <th>mean_current_3_std</th>\n",
       "      <th>mean_current_3_skew</th>\n",
       "      <th>count_A</th>\n",
       "      <th>count_C</th>\n",
       "      <th>count_G</th>\n",
       "      <th>count_T</th>\n",
       "    </tr>\n",
       "  </thead>\n",
       "  <tbody>\n",
       "    <tr>\n",
       "      <th>count</th>\n",
       "      <td>30459.000000</td>\n",
       "      <td>30459.000000</td>\n",
       "      <td>30459.000000</td>\n",
       "      <td>30459.000000</td>\n",
       "      <td>30459.000000</td>\n",
       "      <td>30459.000000</td>\n",
       "      <td>30459.000000</td>\n",
       "      <td>30459.000000</td>\n",
       "      <td>30459.000000</td>\n",
       "      <td>30459.000000</td>\n",
       "      <td>...</td>\n",
       "      <td>30459.000000</td>\n",
       "      <td>30459.000000</td>\n",
       "      <td>30459.000000</td>\n",
       "      <td>30459.000000</td>\n",
       "      <td>30459.000000</td>\n",
       "      <td>30459.000000</td>\n",
       "      <td>30459.000000</td>\n",
       "      <td>30459.000000</td>\n",
       "      <td>30459.000000</td>\n",
       "      <td>30459.000000</td>\n",
       "    </tr>\n",
       "    <tr>\n",
       "      <th>mean</th>\n",
       "      <td>1700.874323</td>\n",
       "      <td>0.040481</td>\n",
       "      <td>0.002319</td>\n",
       "      <td>0.026230</td>\n",
       "      <td>0.008121</td>\n",
       "      <td>0.006879</td>\n",
       "      <td>0.004947</td>\n",
       "      <td>1.550913</td>\n",
       "      <td>1.768504</td>\n",
       "      <td>9.545891</td>\n",
       "      <td>...</td>\n",
       "      <td>80.142313</td>\n",
       "      <td>92.442992</td>\n",
       "      <td>86.048639</td>\n",
       "      <td>85.989593</td>\n",
       "      <td>2.468677</td>\n",
       "      <td>0.133116</td>\n",
       "      <td>2.785548</td>\n",
       "      <td>1.714797</td>\n",
       "      <td>1.392987</td>\n",
       "      <td>1.106668</td>\n",
       "    </tr>\n",
       "    <tr>\n",
       "      <th>std</th>\n",
       "      <td>1431.818693</td>\n",
       "      <td>0.197087</td>\n",
       "      <td>0.000478</td>\n",
       "      <td>0.009725</td>\n",
       "      <td>0.001793</td>\n",
       "      <td>0.001685</td>\n",
       "      <td>0.001524</td>\n",
       "      <td>0.687593</td>\n",
       "      <td>0.878965</td>\n",
       "      <td>4.856746</td>\n",
       "      <td>...</td>\n",
       "      <td>5.312242</td>\n",
       "      <td>5.040732</td>\n",
       "      <td>4.914948</td>\n",
       "      <td>5.012815</td>\n",
       "      <td>0.730569</td>\n",
       "      <td>0.853226</td>\n",
       "      <td>1.140777</td>\n",
       "      <td>0.768397</td>\n",
       "      <td>0.933081</td>\n",
       "      <td>0.928539</td>\n",
       "    </tr>\n",
       "    <tr>\n",
       "      <th>min</th>\n",
       "      <td>6.000000</td>\n",
       "      <td>0.000000</td>\n",
       "      <td>0.001660</td>\n",
       "      <td>0.007260</td>\n",
       "      <td>0.003627</td>\n",
       "      <td>0.002990</td>\n",
       "      <td>0.001532</td>\n",
       "      <td>-0.547992</td>\n",
       "      <td>0.123000</td>\n",
       "      <td>1.890000</td>\n",
       "      <td>...</td>\n",
       "      <td>65.200000</td>\n",
       "      <td>77.100000</td>\n",
       "      <td>72.743333</td>\n",
       "      <td>72.200000</td>\n",
       "      <td>0.584538</td>\n",
       "      <td>-4.451237</td>\n",
       "      <td>1.000000</td>\n",
       "      <td>1.000000</td>\n",
       "      <td>0.000000</td>\n",
       "      <td>0.000000</td>\n",
       "    </tr>\n",
       "    <tr>\n",
       "      <th>25%</th>\n",
       "      <td>745.000000</td>\n",
       "      <td>0.000000</td>\n",
       "      <td>0.001990</td>\n",
       "      <td>0.019300</td>\n",
       "      <td>0.006798</td>\n",
       "      <td>0.005640</td>\n",
       "      <td>0.003851</td>\n",
       "      <td>1.089496</td>\n",
       "      <td>1.140000</td>\n",
       "      <td>6.460000</td>\n",
       "      <td>...</td>\n",
       "      <td>76.000000</td>\n",
       "      <td>88.700000</td>\n",
       "      <td>81.894762</td>\n",
       "      <td>81.700000</td>\n",
       "      <td>1.959436</td>\n",
       "      <td>-0.355290</td>\n",
       "      <td>2.000000</td>\n",
       "      <td>1.000000</td>\n",
       "      <td>1.000000</td>\n",
       "      <td>0.000000</td>\n",
       "    </tr>\n",
       "    <tr>\n",
       "      <th>50%</th>\n",
       "      <td>1358.000000</td>\n",
       "      <td>0.000000</td>\n",
       "      <td>0.002320</td>\n",
       "      <td>0.024400</td>\n",
       "      <td>0.007768</td>\n",
       "      <td>0.006540</td>\n",
       "      <td>0.004719</td>\n",
       "      <td>1.471476</td>\n",
       "      <td>1.580000</td>\n",
       "      <td>9.420000</td>\n",
       "      <td>...</td>\n",
       "      <td>80.000000</td>\n",
       "      <td>92.500000</td>\n",
       "      <td>86.270000</td>\n",
       "      <td>86.200000</td>\n",
       "      <td>2.376661</td>\n",
       "      <td>0.153340</td>\n",
       "      <td>3.000000</td>\n",
       "      <td>2.000000</td>\n",
       "      <td>1.000000</td>\n",
       "      <td>1.000000</td>\n",
       "    </tr>\n",
       "    <tr>\n",
       "      <th>75%</th>\n",
       "      <td>2264.000000</td>\n",
       "      <td>0.000000</td>\n",
       "      <td>0.002320</td>\n",
       "      <td>0.031200</td>\n",
       "      <td>0.009126</td>\n",
       "      <td>0.007770</td>\n",
       "      <td>0.005797</td>\n",
       "      <td>1.908566</td>\n",
       "      <td>2.170000</td>\n",
       "      <td>12.100000</td>\n",
       "      <td>...</td>\n",
       "      <td>84.300000</td>\n",
       "      <td>96.200000</td>\n",
       "      <td>89.822475</td>\n",
       "      <td>89.800000</td>\n",
       "      <td>2.872674</td>\n",
       "      <td>0.641169</td>\n",
       "      <td>4.000000</td>\n",
       "      <td>2.000000</td>\n",
       "      <td>2.000000</td>\n",
       "      <td>2.000000</td>\n",
       "    </tr>\n",
       "    <tr>\n",
       "      <th>max</th>\n",
       "      <td>14753.000000</td>\n",
       "      <td>1.000000</td>\n",
       "      <td>0.008560</td>\n",
       "      <td>0.101000</td>\n",
       "      <td>0.019119</td>\n",
       "      <td>0.017900</td>\n",
       "      <td>0.016120</td>\n",
       "      <td>8.132003</td>\n",
       "      <td>7.040000</td>\n",
       "      <td>159.000000</td>\n",
       "      <td>...</td>\n",
       "      <td>94.600000</td>\n",
       "      <td>143.000000</td>\n",
       "      <td>103.530645</td>\n",
       "      <td>99.050000</td>\n",
       "      <td>19.888538</td>\n",
       "      <td>7.103885</td>\n",
       "      <td>6.000000</td>\n",
       "      <td>4.000000</td>\n",
       "      <td>4.000000</td>\n",
       "      <td>4.000000</td>\n",
       "    </tr>\n",
       "  </tbody>\n",
       "</table>\n",
       "<p>8 rows × 60 columns</p>\n",
       "</div>"
      ],
      "text/plain": [
       "       transcript_position         label  dwelling_time_1_min  \\\n",
       "count         30459.000000  30459.000000         30459.000000   \n",
       "mean           1700.874323      0.040481             0.002319   \n",
       "std            1431.818693      0.197087             0.000478   \n",
       "min               6.000000      0.000000             0.001660   \n",
       "25%             745.000000      0.000000             0.001990   \n",
       "50%            1358.000000      0.000000             0.002320   \n",
       "75%            2264.000000      0.000000             0.002320   \n",
       "max           14753.000000      1.000000             0.008560   \n",
       "\n",
       "       dwelling_time_1_max  dwelling_time_1_mean  dwelling_time_1_median  \\\n",
       "count         30459.000000          30459.000000            30459.000000   \n",
       "mean              0.026230              0.008121                0.006879   \n",
       "std               0.009725              0.001793                0.001685   \n",
       "min               0.007260              0.003627                0.002990   \n",
       "25%               0.019300              0.006798                0.005640   \n",
       "50%               0.024400              0.007768                0.006540   \n",
       "75%               0.031200              0.009126                0.007770   \n",
       "max               0.101000              0.019119                0.017900   \n",
       "\n",
       "       dwelling_time_1_std  dwelling_time_1_skew  sd_current_1_min  \\\n",
       "count         30459.000000          30459.000000      30459.000000   \n",
       "mean              0.004947              1.550913          1.768504   \n",
       "std               0.001524              0.687593          0.878965   \n",
       "min               0.001532             -0.547992          0.123000   \n",
       "25%               0.003851              1.089496          1.140000   \n",
       "50%               0.004719              1.471476          1.580000   \n",
       "75%               0.005797              1.908566          2.170000   \n",
       "max               0.016120              8.132003          7.040000   \n",
       "\n",
       "       sd_current_1_max  ...  mean_current_3_min  mean_current_3_max  \\\n",
       "count      30459.000000  ...        30459.000000        30459.000000   \n",
       "mean           9.545891  ...           80.142313           92.442992   \n",
       "std            4.856746  ...            5.312242            5.040732   \n",
       "min            1.890000  ...           65.200000           77.100000   \n",
       "25%            6.460000  ...           76.000000           88.700000   \n",
       "50%            9.420000  ...           80.000000           92.500000   \n",
       "75%           12.100000  ...           84.300000           96.200000   \n",
       "max          159.000000  ...           94.600000          143.000000   \n",
       "\n",
       "       mean_current_3_mean  mean_current_3_median  mean_current_3_std  \\\n",
       "count         30459.000000           30459.000000        30459.000000   \n",
       "mean             86.048639              85.989593            2.468677   \n",
       "std               4.914948               5.012815            0.730569   \n",
       "min              72.743333              72.200000            0.584538   \n",
       "25%              81.894762              81.700000            1.959436   \n",
       "50%              86.270000              86.200000            2.376661   \n",
       "75%              89.822475              89.800000            2.872674   \n",
       "max             103.530645              99.050000           19.888538   \n",
       "\n",
       "       mean_current_3_skew       count_A       count_C       count_G  \\\n",
       "count         30459.000000  30459.000000  30459.000000  30459.000000   \n",
       "mean              0.133116      2.785548      1.714797      1.392987   \n",
       "std               0.853226      1.140777      0.768397      0.933081   \n",
       "min              -4.451237      1.000000      1.000000      0.000000   \n",
       "25%              -0.355290      2.000000      1.000000      1.000000   \n",
       "50%               0.153340      3.000000      2.000000      1.000000   \n",
       "75%               0.641169      4.000000      2.000000      2.000000   \n",
       "max               7.103885      6.000000      4.000000      4.000000   \n",
       "\n",
       "            count_T  \n",
       "count  30459.000000  \n",
       "mean       1.106668  \n",
       "std        0.928539  \n",
       "min        0.000000  \n",
       "25%        0.000000  \n",
       "50%        1.000000  \n",
       "75%        2.000000  \n",
       "max        4.000000  \n",
       "\n",
       "[8 rows x 60 columns]"
      ]
     },
     "execution_count": 8,
     "metadata": {},
     "output_type": "execute_result"
    }
   ],
   "source": [
    "df.describe()"
   ]
  },
  {
   "cell_type": "code",
   "execution_count": 9,
   "id": "591f70d6",
   "metadata": {},
   "outputs": [
    {
     "name": "stdout",
     "output_type": "stream",
     "text": [
      "Non-numerical features:  ['order_2', 'order_6', 'gene_id', 'order_3', 'order_1', 'order_4', 'sevenmers', 'order_7', 'transcript_id', 'order_5']\n"
     ]
    }
   ],
   "source": [
    "# Get non-numerical features.\n",
    "non_num_cols = list(set(df.columns) - set(df.describe().columns))\n",
    "print('Non-numerical features: ',non_num_cols)"
   ]
  },
  {
   "cell_type": "code",
   "execution_count": 10,
   "id": "957e3ec3",
   "metadata": {},
   "outputs": [],
   "source": [
    "# create list with categorical features' names\n",
    "nonum_cols_names = ['order_2', 'order_3', 'order_6', 'gene_id', 'order_4', 'order_5', 'transcript_position', 'sevenmers', 'order_7', 'order_1']\n",
    "\n",
    "# create list with numerical features' names\n",
    "num_cols_names = ['dwelling_time_min', 'dwelling_time_max', 'dwelling_time_mean', 'dwelling_time_median', 'dwelling_time_std', \n",
    "                  'dwelling_time_skew', 'sd_current_min', 'sd_current_max', 'sd_current_mean', 'sd_current_median', 'sd_current_std',\n",
    "                  'sd_current_skew', 'mean_current_min', 'mean_current_max', 'mean_current_mean', 'mean_current_median', 'mean_current_std',\n",
    "                  'mean_current_skew', 'count_A', 'count_C', 'count_G', 'count_T']"
   ]
  },
  {
   "cell_type": "code",
   "execution_count": 11,
   "id": "2ba0060b",
   "metadata": {},
   "outputs": [],
   "source": [
    "#Assign appropriate data type to categorical variables.\n",
    "df[nonum_cols_names] = df[nonum_cols_names].astype('category')"
   ]
  },
  {
   "cell_type": "code",
   "execution_count": 12,
   "id": "d36dfbd9",
   "metadata": {},
   "outputs": [
    {
     "name": "stdout",
     "output_type": "stream",
     "text": [
      "<class 'pandas.core.frame.DataFrame'>\n",
      "RangeIndex: 30459 entries, 0 to 30458\n",
      "Data columns (total 70 columns):\n",
      " #   Column                  Non-Null Count  Dtype   \n",
      "---  ------                  --------------  -----   \n",
      " 0   gene_id                 30459 non-null  category\n",
      " 1   transcript_id           30459 non-null  object  \n",
      " 2   transcript_position     30459 non-null  category\n",
      " 3   sevenmers               30459 non-null  category\n",
      " 4   label                   30459 non-null  int64   \n",
      " 5   dwelling_time_1_min     30459 non-null  float64 \n",
      " 6   dwelling_time_1_max     30459 non-null  float64 \n",
      " 7   dwelling_time_1_mean    30459 non-null  float64 \n",
      " 8   dwelling_time_1_median  30459 non-null  float64 \n",
      " 9   dwelling_time_1_std     30459 non-null  float64 \n",
      " 10  dwelling_time_1_skew    30459 non-null  float64 \n",
      " 11  sd_current_1_min        30459 non-null  float64 \n",
      " 12  sd_current_1_max        30459 non-null  float64 \n",
      " 13  sd_current_1_mean       30459 non-null  float64 \n",
      " 14  sd_current_1_median     30459 non-null  float64 \n",
      " 15  sd_current_1_std        30459 non-null  float64 \n",
      " 16  sd_current_1_skew       30459 non-null  float64 \n",
      " 17  mean_current_1_min      30459 non-null  float64 \n",
      " 18  mean_current_1_max      30459 non-null  float64 \n",
      " 19  mean_current_1_mean     30459 non-null  float64 \n",
      " 20  mean_current_1_median   30459 non-null  float64 \n",
      " 21  mean_current_1_std      30459 non-null  float64 \n",
      " 22  mean_current_1_skew     30459 non-null  float64 \n",
      " 23  dwelling_time_2_min     30459 non-null  float64 \n",
      " 24  dwelling_time_2_max     30459 non-null  float64 \n",
      " 25  dwelling_time_2_mean    30459 non-null  float64 \n",
      " 26  dwelling_time_2_median  30459 non-null  float64 \n",
      " 27  dwelling_time_2_std     30459 non-null  float64 \n",
      " 28  dwelling_time_2_skew    30459 non-null  float64 \n",
      " 29  sd_current_2_min        30459 non-null  float64 \n",
      " 30  sd_current_2_max        30459 non-null  float64 \n",
      " 31  sd_current_2_mean       30459 non-null  float64 \n",
      " 32  sd_current_2_median     30459 non-null  float64 \n",
      " 33  sd_current_2_std        30459 non-null  float64 \n",
      " 34  sd_current_2_skew       30459 non-null  float64 \n",
      " 35  mean_current_2_min      30459 non-null  float64 \n",
      " 36  mean_current_2_max      30459 non-null  float64 \n",
      " 37  mean_current_2_mean     30459 non-null  float64 \n",
      " 38  mean_current_2_median   30459 non-null  float64 \n",
      " 39  mean_current_2_std      30459 non-null  float64 \n",
      " 40  mean_current_2_skew     30459 non-null  float64 \n",
      " 41  dwelling_time_3_min     30459 non-null  float64 \n",
      " 42  dwelling_time_3_max     30459 non-null  float64 \n",
      " 43  dwelling_time_3_mean    30459 non-null  float64 \n",
      " 44  dwelling_time_3_median  30459 non-null  float64 \n",
      " 45  dwelling_time_3_std     30459 non-null  float64 \n",
      " 46  dwelling_time_3_skew    30459 non-null  float64 \n",
      " 47  sd_current_3_min        30459 non-null  float64 \n",
      " 48  sd_current_3_max        30459 non-null  float64 \n",
      " 49  sd_current_3_mean       30459 non-null  float64 \n",
      " 50  sd_current_3_median     30459 non-null  float64 \n",
      " 51  sd_current_3_std        30459 non-null  float64 \n",
      " 52  sd_current_3_skew       30459 non-null  float64 \n",
      " 53  mean_current_3_min      30459 non-null  float64 \n",
      " 54  mean_current_3_max      30459 non-null  float64 \n",
      " 55  mean_current_3_mean     30459 non-null  float64 \n",
      " 56  mean_current_3_median   30459 non-null  float64 \n",
      " 57  mean_current_3_std      30459 non-null  float64 \n",
      " 58  mean_current_3_skew     30459 non-null  float64 \n",
      " 59  order_1                 30459 non-null  category\n",
      " 60  order_2                 30459 non-null  category\n",
      " 61  order_3                 30459 non-null  category\n",
      " 62  order_4                 30459 non-null  category\n",
      " 63  order_5                 30459 non-null  category\n",
      " 64  order_6                 30459 non-null  category\n",
      " 65  order_7                 30459 non-null  category\n",
      " 66  count_A                 30459 non-null  int64   \n",
      " 67  count_C                 30459 non-null  int64   \n",
      " 68  count_G                 30459 non-null  int64   \n",
      " 69  count_T                 30459 non-null  int64   \n",
      "dtypes: category(10), float64(54), int64(5), object(1)\n",
      "memory usage: 14.5+ MB\n"
     ]
    }
   ],
   "source": [
    "df.info()"
   ]
  },
  {
   "cell_type": "code",
   "execution_count": 13,
   "id": "66d3e69a",
   "metadata": {},
   "outputs": [],
   "source": [
    "# train test split\n",
    "splitter = GroupShuffleSplit(test_size=.20, n_splits=2, random_state = 7)\n",
    "split = splitter.split(df, groups = df['gene_id'])\n",
    "train_inds, test_inds = next(split)\n",
    "\n",
    "train = df.iloc[train_inds]\n",
    "test = df.iloc[test_inds]"
   ]
  },
  {
   "cell_type": "code",
   "execution_count": 14,
   "id": "5fcab378",
   "metadata": {},
   "outputs": [],
   "source": [
    "y_train = train['label']\n",
    "X_train = train.drop(['label'], axis = 1)\n",
    "\n",
    "y_test = test['label']\n",
    "X_test = test.drop(['label'], axis = 1)"
   ]
  },
  {
   "cell_type": "code",
   "execution_count": 15,
   "id": "c6d3f2f3",
   "metadata": {},
   "outputs": [],
   "source": [
    "train_geneids = train['gene_id'].unique()\n",
    "test_geneids = test['gene_id'].unique()"
   ]
  },
  {
   "cell_type": "code",
   "execution_count": 16,
   "id": "58d6cd31",
   "metadata": {},
   "outputs": [
    {
     "data": {
      "text/plain": [
       "False"
      ]
     },
     "execution_count": 16,
     "metadata": {},
     "output_type": "execute_result"
    }
   ],
   "source": [
    "# check if any gene id in train set is present in test set\n",
    "np.in1d(train_geneids, test_geneids).any()"
   ]
  },
  {
   "cell_type": "code",
   "execution_count": 17,
   "id": "16f8620d",
   "metadata": {},
   "outputs": [],
   "source": [
    "# drop gene id and transcript id\n",
    "X_train_ids = X_train[['gene_id', 'transcript_id']]\n",
    "X_train_clean = X_train.drop(columns=['gene_id', 'transcript_id'])"
   ]
  },
  {
   "cell_type": "code",
   "execution_count": 18,
   "id": "566288ee",
   "metadata": {},
   "outputs": [
    {
     "name": "stdout",
     "output_type": "stream",
     "text": [
      "(24157, 2) (24157, 67)\n"
     ]
    }
   ],
   "source": [
    "print(X_train_ids.shape, X_train_clean.shape)"
   ]
  },
  {
   "cell_type": "code",
   "execution_count": 19,
   "id": "86b4eee1",
   "metadata": {},
   "outputs": [],
   "source": [
    "X_test_ids = X_test[['gene_id', 'transcript_id']]\n",
    "X_test_clean = X_test.drop(columns=['gene_id', 'transcript_id'])"
   ]
  },
  {
   "cell_type": "code",
   "execution_count": 20,
   "id": "62d6e598",
   "metadata": {},
   "outputs": [
    {
     "name": "stdout",
     "output_type": "stream",
     "text": [
      "Original dataset shape Counter({0: 23188, 1: 969})\n"
     ]
    }
   ],
   "source": [
    "# Oversampling on minority class for training set\n",
    "print('Original dataset shape %s' % Counter(y_train))"
   ]
  },
  {
   "cell_type": "code",
   "execution_count": 21,
   "id": "c89221ef",
   "metadata": {},
   "outputs": [
    {
     "data": {
      "text/plain": [
       "<AxesSubplot:>"
      ]
     },
     "execution_count": 21,
     "metadata": {},
     "output_type": "execute_result"
    },
    {
     "data": {
      "image/png": "[encoded data removed]",
      "text/plain": [
       "<Figure size 432x288 with 1 Axes>"
      ]
     },
     "metadata": {
      "needs_background": "light"
     },
     "output_type": "display_data"
    }
   ],
   "source": [
    "y_train.value_counts().plot(kind=\"bar\")"
   ]
  },
  {
   "cell_type": "code",
   "execution_count": 22,
   "id": "a44899ca",
   "metadata": {},
   "outputs": [
    {
     "data": {
      "text/plain": [
       "0    0.959887\n",
       "1    0.040113\n",
       "Name: label, dtype: float64"
      ]
     },
     "execution_count": 22,
     "metadata": {},
     "output_type": "execute_result"
    }
   ],
   "source": [
    "y_train.value_counts()/len(y_train)"
   ]
  },
  {
   "cell_type": "code",
   "execution_count": 23,
   "id": "ee6a2a51",
   "metadata": {},
   "outputs": [],
   "source": [
    "cat_col_index = [df.columns.get_loc(c) for c in nonum_cols_names if c in df]"
   ]
  },
  {
   "cell_type": "code",
   "execution_count": 24,
   "id": "8420c808",
   "metadata": {},
   "outputs": [
    {
     "data": {
      "text/html": [
       "<div>\n",
       "<style scoped>\n",
       "    .dataframe tbody tr th:only-of-type {\n",
       "        vertical-align: middle;\n",
       "    }\n",
       "\n",
       "    .dataframe tbody tr th {\n",
       "        vertical-align: top;\n",
       "    }\n",
       "\n",
       "    .dataframe thead th {\n",
       "        text-align: right;\n",
       "    }\n",
       "</style>\n",
       "<table border=\"1\" class=\"dataframe\">\n",
       "  <thead>\n",
       "    <tr style=\"text-align: right;\">\n",
       "      <th></th>\n",
       "      <th>transcript_position</th>\n",
       "      <th>sevenmers</th>\n",
       "      <th>dwelling_time_1_min</th>\n",
       "      <th>dwelling_time_1_max</th>\n",
       "      <th>dwelling_time_1_mean</th>\n",
       "      <th>dwelling_time_1_median</th>\n",
       "      <th>dwelling_time_1_std</th>\n",
       "      <th>dwelling_time_1_skew</th>\n",
       "      <th>sd_current_1_min</th>\n",
       "      <th>sd_current_1_max</th>\n",
       "      <th>...</th>\n",
       "      <th>order_2</th>\n",
       "      <th>order_3</th>\n",
       "      <th>order_4</th>\n",
       "      <th>order_5</th>\n",
       "      <th>order_6</th>\n",
       "      <th>order_7</th>\n",
       "      <th>count_A</th>\n",
       "      <th>count_C</th>\n",
       "      <th>count_G</th>\n",
       "      <th>count_T</th>\n",
       "    </tr>\n",
       "  </thead>\n",
       "  <tbody>\n",
       "    <tr>\n",
       "      <th>0</th>\n",
       "      <td>512</td>\n",
       "      <td>ATAACTC</td>\n",
       "      <td>0.00266</td>\n",
       "      <td>0.0169</td>\n",
       "      <td>0.007247</td>\n",
       "      <td>0.00599</td>\n",
       "      <td>0.004404</td>\n",
       "      <td>1.084484</td>\n",
       "      <td>1.28</td>\n",
       "      <td>3.91</td>\n",
       "      <td>...</td>\n",
       "      <td>T</td>\n",
       "      <td>A</td>\n",
       "      <td>A</td>\n",
       "      <td>C</td>\n",
       "      <td>T</td>\n",
       "      <td>C</td>\n",
       "      <td>3</td>\n",
       "      <td>2</td>\n",
       "      <td>0</td>\n",
       "      <td>2</td>\n",
       "    </tr>\n",
       "    <tr>\n",
       "      <th>1</th>\n",
       "      <td>689</td>\n",
       "      <td>TAAACAA</td>\n",
       "      <td>0.00232</td>\n",
       "      <td>0.0279</td>\n",
       "      <td>0.009868</td>\n",
       "      <td>0.00764</td>\n",
       "      <td>0.006946</td>\n",
       "      <td>1.311306</td>\n",
       "      <td>1.16</td>\n",
       "      <td>2.78</td>\n",
       "      <td>...</td>\n",
       "      <td>A</td>\n",
       "      <td>A</td>\n",
       "      <td>A</td>\n",
       "      <td>C</td>\n",
       "      <td>A</td>\n",
       "      <td>A</td>\n",
       "      <td>5</td>\n",
       "      <td>1</td>\n",
       "      <td>0</td>\n",
       "      <td>1</td>\n",
       "    </tr>\n",
       "    <tr>\n",
       "      <th>2</th>\n",
       "      <td>823</td>\n",
       "      <td>ATAACAA</td>\n",
       "      <td>0.00299</td>\n",
       "      <td>0.0196</td>\n",
       "      <td>0.007456</td>\n",
       "      <td>0.00631</td>\n",
       "      <td>0.003799</td>\n",
       "      <td>1.907891</td>\n",
       "      <td>1.17</td>\n",
       "      <td>3.45</td>\n",
       "      <td>...</td>\n",
       "      <td>T</td>\n",
       "      <td>A</td>\n",
       "      <td>A</td>\n",
       "      <td>C</td>\n",
       "      <td>A</td>\n",
       "      <td>A</td>\n",
       "      <td>5</td>\n",
       "      <td>1</td>\n",
       "      <td>0</td>\n",
       "      <td>1</td>\n",
       "    </tr>\n",
       "    <tr>\n",
       "      <th>3</th>\n",
       "      <td>830</td>\n",
       "      <td>ATAACCA</td>\n",
       "      <td>0.00266</td>\n",
       "      <td>0.0226</td>\n",
       "      <td>0.007765</td>\n",
       "      <td>0.00641</td>\n",
       "      <td>0.004869</td>\n",
       "      <td>1.781124</td>\n",
       "      <td>1.56</td>\n",
       "      <td>5.86</td>\n",
       "      <td>...</td>\n",
       "      <td>T</td>\n",
       "      <td>A</td>\n",
       "      <td>A</td>\n",
       "      <td>C</td>\n",
       "      <td>C</td>\n",
       "      <td>A</td>\n",
       "      <td>4</td>\n",
       "      <td>2</td>\n",
       "      <td>0</td>\n",
       "      <td>1</td>\n",
       "    </tr>\n",
       "    <tr>\n",
       "      <th>4</th>\n",
       "      <td>849</td>\n",
       "      <td>GTAACCC</td>\n",
       "      <td>0.00332</td>\n",
       "      <td>0.0181</td>\n",
       "      <td>0.006785</td>\n",
       "      <td>0.00598</td>\n",
       "      <td>0.003115</td>\n",
       "      <td>2.533371</td>\n",
       "      <td>1.35</td>\n",
       "      <td>10.50</td>\n",
       "      <td>...</td>\n",
       "      <td>T</td>\n",
       "      <td>A</td>\n",
       "      <td>A</td>\n",
       "      <td>C</td>\n",
       "      <td>C</td>\n",
       "      <td>C</td>\n",
       "      <td>2</td>\n",
       "      <td>3</td>\n",
       "      <td>1</td>\n",
       "      <td>1</td>\n",
       "    </tr>\n",
       "  </tbody>\n",
       "</table>\n",
       "<p>5 rows × 67 columns</p>\n",
       "</div>"
      ],
      "text/plain": [
       "  transcript_position sevenmers  dwelling_time_1_min  dwelling_time_1_max  \\\n",
       "0                 512   ATAACTC              0.00266               0.0169   \n",
       "1                 689   TAAACAA              0.00232               0.0279   \n",
       "2                 823   ATAACAA              0.00299               0.0196   \n",
       "3                 830   ATAACCA              0.00266               0.0226   \n",
       "4                 849   GTAACCC              0.00332               0.0181   \n",
       "\n",
       "   dwelling_time_1_mean  dwelling_time_1_median  dwelling_time_1_std  \\\n",
       "0              0.007247                 0.00599             0.004404   \n",
       "1              0.009868                 0.00764             0.006946   \n",
       "2              0.007456                 0.00631             0.003799   \n",
       "3              0.007765                 0.00641             0.004869   \n",
       "4              0.006785                 0.00598             0.003115   \n",
       "\n",
       "   dwelling_time_1_skew  sd_current_1_min  sd_current_1_max  ...  order_2  \\\n",
       "0              1.084484              1.28              3.91  ...        T   \n",
       "1              1.311306              1.16              2.78  ...        A   \n",
       "2              1.907891              1.17              3.45  ...        T   \n",
       "3              1.781124              1.56              5.86  ...        T   \n",
       "4              2.533371              1.35             10.50  ...        T   \n",
       "\n",
       "   order_3  order_4  order_5  order_6  order_7  count_A  count_C  count_G  \\\n",
       "0        A        A        C        T        C        3        2        0   \n",
       "1        A        A        C        A        A        5        1        0   \n",
       "2        A        A        C        A        A        5        1        0   \n",
       "3        A        A        C        C        A        4        2        0   \n",
       "4        A        A        C        C        C        2        3        1   \n",
       "\n",
       "   count_T  \n",
       "0        2  \n",
       "1        1  \n",
       "2        1  \n",
       "3        1  \n",
       "4        1  \n",
       "\n",
       "[5 rows x 67 columns]"
      ]
     },
     "execution_count": 24,
     "metadata": {},
     "output_type": "execute_result"
    }
   ],
   "source": [
    "X_train_clean.head(5)"
   ]
  },
  {
   "cell_type": "code",
   "execution_count": 25,
   "id": "9924c2e4",
   "metadata": {},
   "outputs": [
    {
     "data": {
      "text/plain": [
       "[60, 61, 64, 0, 62, 63, 2, 3, 65, 59]"
      ]
     },
     "execution_count": 25,
     "metadata": {},
     "output_type": "execute_result"
    }
   ],
   "source": [
    "cat_col_index"
   ]
  },
  {
   "cell_type": "code",
   "execution_count": 26,
   "id": "b80e7a34",
   "metadata": {},
   "outputs": [],
   "source": [
    "# define oversampling strategy so that ratio of minority samples to majority samples is 1:2\n",
    "oversample = RandomOverSampler(sampling_strategy=0.5, random_state=42)"
   ]
  },
  {
   "cell_type": "code",
   "execution_count": 27,
   "id": "d08ad145",
   "metadata": {},
   "outputs": [],
   "source": [
    "X_train_over, y_train_over = oversample.fit_resample(X_train_clean, y_train)"
   ]
  },
  {
   "cell_type": "code",
   "execution_count": 28,
   "id": "682a964f",
   "metadata": {},
   "outputs": [
    {
     "name": "stdout",
     "output_type": "stream",
     "text": [
      "Resampled dataset shape Counter({0: 23188, 1: 11594})\n"
     ]
    }
   ],
   "source": [
    "print('Resampled dataset shape %s' % Counter(y_train_over))"
   ]
  },
  {
   "cell_type": "code",
   "execution_count": 29,
   "id": "61e275dd",
   "metadata": {},
   "outputs": [
    {
     "data": {
      "text/plain": [
       "0    0.666667\n",
       "1    0.333333\n",
       "Name: label, dtype: float64"
      ]
     },
     "execution_count": 29,
     "metadata": {},
     "output_type": "execute_result"
    }
   ],
   "source": [
    "y_train_over.value_counts()/len(y_train_over)"
   ]
  },
  {
   "cell_type": "code",
   "execution_count": 30,
   "id": "232c6f42",
   "metadata": {},
   "outputs": [
    {
     "data": {
      "text/plain": [
       "<AxesSubplot:>"
      ]
     },
     "execution_count": 30,
     "metadata": {},
     "output_type": "execute_result"
    },
    {
     "data": {
      "image/png": "[encoded data removed]",
      "text/plain": [
       "<Figure size 432x288 with 1 Axes>"
      ]
     },
     "metadata": {
      "needs_background": "light"
     },
     "output_type": "display_data"
    }
   ],
   "source": [
    "y_train_over.value_counts().plot(kind=\"bar\")"
   ]
  },
  {
   "cell_type": "code",
   "execution_count": 31,
   "id": "07b956b4",
   "metadata": {},
   "outputs": [],
   "source": [
    "# define undersampling strategy so that the ratio of minority to majority samples becomes 3:4\n",
    "under = RandomUnderSampler(sampling_strategy=0.75)\n",
    "# fit and apply the transform\n",
    "X_train_under, y_train_under = under.fit_resample(X_train_over, y_train_over)"
   ]
  },
  {
   "cell_type": "code",
   "execution_count": 32,
   "id": "c653bebb",
   "metadata": {},
   "outputs": [
    {
     "name": "stdout",
     "output_type": "stream",
     "text": [
      "Resampled dataset shape Counter({0: 15458, 1: 11594})\n"
     ]
    }
   ],
   "source": [
    "print('Resampled dataset shape %s' % Counter(y_train_under))"
   ]
  },
  {
   "cell_type": "code",
   "execution_count": 33,
   "id": "87657fd0",
   "metadata": {},
   "outputs": [
    {
     "data": {
      "text/plain": [
       "0    0.571418\n",
       "1    0.428582\n",
       "Name: label, dtype: float64"
      ]
     },
     "execution_count": 33,
     "metadata": {},
     "output_type": "execute_result"
    }
   ],
   "source": [
    "y_train_under.value_counts()/len(y_train_under)"
   ]
  },
  {
   "cell_type": "code",
   "execution_count": 34,
   "id": "16659d07",
   "metadata": {},
   "outputs": [
    {
     "data": {
      "text/plain": [
       "<AxesSubplot:>"
      ]
     },
     "execution_count": 34,
     "metadata": {},
     "output_type": "execute_result"
    },
    {
     "data": {
      "image/png": "[encoded data removed]",
      "text/plain": [
       "<Figure size 432x288 with 1 Axes>"
      ]
     },
     "metadata": {
      "needs_background": "light"
     },
     "output_type": "display_data"
    }
   ],
   "source": [
    "y_train_under.value_counts().plot(kind=\"bar\")"
   ]
  },
  {
   "cell_type": "code",
   "execution_count": 35,
   "id": "cecc6167",
   "metadata": {},
   "outputs": [
    {
     "data": {
      "text/html": [
       "<div>\n",
       "<style scoped>\n",
       "    .dataframe tbody tr th:only-of-type {\n",
       "        vertical-align: middle;\n",
       "    }\n",
       "\n",
       "    .dataframe tbody tr th {\n",
       "        vertical-align: top;\n",
       "    }\n",
       "\n",
       "    .dataframe thead th {\n",
       "        text-align: right;\n",
       "    }\n",
       "</style>\n",
       "<table border=\"1\" class=\"dataframe\">\n",
       "  <thead>\n",
       "    <tr style=\"text-align: right;\">\n",
       "      <th></th>\n",
       "      <th>transcript_position</th>\n",
       "      <th>sevenmers</th>\n",
       "      <th>dwelling_time_1_min</th>\n",
       "      <th>dwelling_time_1_max</th>\n",
       "      <th>dwelling_time_1_mean</th>\n",
       "      <th>dwelling_time_1_median</th>\n",
       "      <th>dwelling_time_1_std</th>\n",
       "      <th>dwelling_time_1_skew</th>\n",
       "      <th>sd_current_1_min</th>\n",
       "      <th>sd_current_1_max</th>\n",
       "      <th>...</th>\n",
       "      <th>order_2</th>\n",
       "      <th>order_3</th>\n",
       "      <th>order_4</th>\n",
       "      <th>order_5</th>\n",
       "      <th>order_6</th>\n",
       "      <th>order_7</th>\n",
       "      <th>count_A</th>\n",
       "      <th>count_C</th>\n",
       "      <th>count_G</th>\n",
       "      <th>count_T</th>\n",
       "    </tr>\n",
       "  </thead>\n",
       "  <tbody>\n",
       "    <tr>\n",
       "      <th>0</th>\n",
       "      <td>802</td>\n",
       "      <td>CTGACCA</td>\n",
       "      <td>0.00465</td>\n",
       "      <td>0.0245</td>\n",
       "      <td>0.010803</td>\n",
       "      <td>0.010600</td>\n",
       "      <td>0.004175</td>\n",
       "      <td>1.029453</td>\n",
       "      <td>2.11</td>\n",
       "      <td>12.40</td>\n",
       "      <td>...</td>\n",
       "      <td>T</td>\n",
       "      <td>G</td>\n",
       "      <td>A</td>\n",
       "      <td>C</td>\n",
       "      <td>C</td>\n",
       "      <td>A</td>\n",
       "      <td>2</td>\n",
       "      <td>3</td>\n",
       "      <td>1</td>\n",
       "      <td>1</td>\n",
       "    </tr>\n",
       "    <tr>\n",
       "      <th>1</th>\n",
       "      <td>751</td>\n",
       "      <td>AAAACAC</td>\n",
       "      <td>0.00199</td>\n",
       "      <td>0.0252</td>\n",
       "      <td>0.008926</td>\n",
       "      <td>0.006390</td>\n",
       "      <td>0.006568</td>\n",
       "      <td>1.308158</td>\n",
       "      <td>1.25</td>\n",
       "      <td>4.34</td>\n",
       "      <td>...</td>\n",
       "      <td>A</td>\n",
       "      <td>A</td>\n",
       "      <td>A</td>\n",
       "      <td>C</td>\n",
       "      <td>A</td>\n",
       "      <td>C</td>\n",
       "      <td>5</td>\n",
       "      <td>2</td>\n",
       "      <td>0</td>\n",
       "      <td>0</td>\n",
       "    </tr>\n",
       "    <tr>\n",
       "      <th>2</th>\n",
       "      <td>208</td>\n",
       "      <td>CAAACCG</td>\n",
       "      <td>0.00321</td>\n",
       "      <td>0.0153</td>\n",
       "      <td>0.006325</td>\n",
       "      <td>0.005310</td>\n",
       "      <td>0.002746</td>\n",
       "      <td>1.719626</td>\n",
       "      <td>1.98</td>\n",
       "      <td>5.32</td>\n",
       "      <td>...</td>\n",
       "      <td>A</td>\n",
       "      <td>A</td>\n",
       "      <td>A</td>\n",
       "      <td>C</td>\n",
       "      <td>C</td>\n",
       "      <td>G</td>\n",
       "      <td>3</td>\n",
       "      <td>3</td>\n",
       "      <td>1</td>\n",
       "      <td>0</td>\n",
       "    </tr>\n",
       "    <tr>\n",
       "      <th>3</th>\n",
       "      <td>1735</td>\n",
       "      <td>AGAACCT</td>\n",
       "      <td>0.00366</td>\n",
       "      <td>0.0219</td>\n",
       "      <td>0.011130</td>\n",
       "      <td>0.010700</td>\n",
       "      <td>0.004767</td>\n",
       "      <td>0.407657</td>\n",
       "      <td>3.96</td>\n",
       "      <td>11.50</td>\n",
       "      <td>...</td>\n",
       "      <td>G</td>\n",
       "      <td>A</td>\n",
       "      <td>A</td>\n",
       "      <td>C</td>\n",
       "      <td>C</td>\n",
       "      <td>T</td>\n",
       "      <td>3</td>\n",
       "      <td>2</td>\n",
       "      <td>1</td>\n",
       "      <td>1</td>\n",
       "    </tr>\n",
       "    <tr>\n",
       "      <th>4</th>\n",
       "      <td>600</td>\n",
       "      <td>AAGACAG</td>\n",
       "      <td>0.00199</td>\n",
       "      <td>0.0216</td>\n",
       "      <td>0.008846</td>\n",
       "      <td>0.008215</td>\n",
       "      <td>0.004870</td>\n",
       "      <td>0.808049</td>\n",
       "      <td>2.28</td>\n",
       "      <td>6.82</td>\n",
       "      <td>...</td>\n",
       "      <td>A</td>\n",
       "      <td>G</td>\n",
       "      <td>A</td>\n",
       "      <td>C</td>\n",
       "      <td>A</td>\n",
       "      <td>G</td>\n",
       "      <td>4</td>\n",
       "      <td>1</td>\n",
       "      <td>2</td>\n",
       "      <td>0</td>\n",
       "    </tr>\n",
       "  </tbody>\n",
       "</table>\n",
       "<p>5 rows × 67 columns</p>\n",
       "</div>"
      ],
      "text/plain": [
       "  transcript_position sevenmers  dwelling_time_1_min  dwelling_time_1_max  \\\n",
       "0                 802   CTGACCA              0.00465               0.0245   \n",
       "1                 751   AAAACAC              0.00199               0.0252   \n",
       "2                 208   CAAACCG              0.00321               0.0153   \n",
       "3                1735   AGAACCT              0.00366               0.0219   \n",
       "4                 600   AAGACAG              0.00199               0.0216   \n",
       "\n",
       "   dwelling_time_1_mean  dwelling_time_1_median  dwelling_time_1_std  \\\n",
       "0              0.010803                0.010600             0.004175   \n",
       "1              0.008926                0.006390             0.006568   \n",
       "2              0.006325                0.005310             0.002746   \n",
       "3              0.011130                0.010700             0.004767   \n",
       "4              0.008846                0.008215             0.004870   \n",
       "\n",
       "   dwelling_time_1_skew  sd_current_1_min  sd_current_1_max  ...  order_2  \\\n",
       "0              1.029453              2.11             12.40  ...        T   \n",
       "1              1.308158              1.25              4.34  ...        A   \n",
       "2              1.719626              1.98              5.32  ...        A   \n",
       "3              0.407657              3.96             11.50  ...        G   \n",
       "4              0.808049              2.28              6.82  ...        A   \n",
       "\n",
       "   order_3  order_4  order_5  order_6  order_7  count_A  count_C  count_G  \\\n",
       "0        G        A        C        C        A        2        3        1   \n",
       "1        A        A        C        A        C        5        2        0   \n",
       "2        A        A        C        C        G        3        3        1   \n",
       "3        A        A        C        C        T        3        2        1   \n",
       "4        G        A        C        A        G        4        1        2   \n",
       "\n",
       "   count_T  \n",
       "0        1  \n",
       "1        0  \n",
       "2        0  \n",
       "3        1  \n",
       "4        0  \n",
       "\n",
       "[5 rows x 67 columns]"
      ]
     },
     "execution_count": 35,
     "metadata": {},
     "output_type": "execute_result"
    }
   ],
   "source": [
    "X_train_under.head(5)"
   ]
  },
  {
   "cell_type": "code",
   "execution_count": 36,
   "id": "1013eb0b",
   "metadata": {},
   "outputs": [
    {
     "data": {
      "text/plain": [
       "0    0\n",
       "1    0\n",
       "2    0\n",
       "3    0\n",
       "4    0\n",
       "Name: label, dtype: int64"
      ]
     },
     "execution_count": 36,
     "metadata": {},
     "output_type": "execute_result"
    }
   ],
   "source": [
    "y_train_under.head(5)"
   ]
  },
  {
   "cell_type": "code",
   "execution_count": 58,
   "id": "406d9ab0",
   "metadata": {},
   "outputs": [],
   "source": [
    "X_train_final = X_train_under.copy()\n",
    "y_train_final = y_train_under.copy()\n",
    "\n",
    "X_test_final = X_test_clean.copy()\n",
    "y_test_final = y_test.copy()"
   ]
  },
  {
   "cell_type": "code",
   "execution_count": 38,
   "id": "bc704c5d",
   "metadata": {},
   "outputs": [],
   "source": [
    "#X_train_final.to_csv('X_train_final.csv')\n",
    "#X_test_final.to_csv('X_test_final.csv')\n",
    "\n",
    "#y_train_final.to_csv('y_train_final.csv')\n",
    "#y_test_final.to_csv('y_test_final.csv')"
   ]
  },
  {
   "cell_type": "code",
   "execution_count": 59,
   "id": "ee682019",
   "metadata": {},
   "outputs": [
    {
     "data": {
      "text/plain": [
       "288"
      ]
     },
     "execution_count": 59,
     "metadata": {},
     "output_type": "execute_result"
    }
   ],
   "source": [
    "X_train_final['sevenmers'].nunique()"
   ]
  },
  {
   "cell_type": "code",
   "execution_count": 60,
   "id": "79fb7c2b",
   "metadata": {},
   "outputs": [
    {
     "name": "stdout",
     "output_type": "stream",
     "text": [
      "<class 'pandas.core.frame.DataFrame'>\n",
      "RangeIndex: 27052 entries, 0 to 27051\n",
      "Data columns (total 67 columns):\n",
      " #   Column                  Non-Null Count  Dtype   \n",
      "---  ------                  --------------  -----   \n",
      " 0   transcript_position     27052 non-null  category\n",
      " 1   sevenmers               27052 non-null  category\n",
      " 2   dwelling_time_1_min     27052 non-null  float64 \n",
      " 3   dwelling_time_1_max     27052 non-null  float64 \n",
      " 4   dwelling_time_1_mean    27052 non-null  float64 \n",
      " 5   dwelling_time_1_median  27052 non-null  float64 \n",
      " 6   dwelling_time_1_std     27052 non-null  float64 \n",
      " 7   dwelling_time_1_skew    27052 non-null  float64 \n",
      " 8   sd_current_1_min        27052 non-null  float64 \n",
      " 9   sd_current_1_max        27052 non-null  float64 \n",
      " 10  sd_current_1_mean       27052 non-null  float64 \n",
      " 11  sd_current_1_median     27052 non-null  float64 \n",
      " 12  sd_current_1_std        27052 non-null  float64 \n",
      " 13  sd_current_1_skew       27052 non-null  float64 \n",
      " 14  mean_current_1_min      27052 non-null  float64 \n",
      " 15  mean_current_1_max      27052 non-null  float64 \n",
      " 16  mean_current_1_mean     27052 non-null  float64 \n",
      " 17  mean_current_1_median   27052 non-null  float64 \n",
      " 18  mean_current_1_std      27052 non-null  float64 \n",
      " 19  mean_current_1_skew     27052 non-null  float64 \n",
      " 20  dwelling_time_2_min     27052 non-null  float64 \n",
      " 21  dwelling_time_2_max     27052 non-null  float64 \n",
      " 22  dwelling_time_2_mean    27052 non-null  float64 \n",
      " 23  dwelling_time_2_median  27052 non-null  float64 \n",
      " 24  dwelling_time_2_std     27052 non-null  float64 \n",
      " 25  dwelling_time_2_skew    27052 non-null  float64 \n",
      " 26  sd_current_2_min        27052 non-null  float64 \n",
      " 27  sd_current_2_max        27052 non-null  float64 \n",
      " 28  sd_current_2_mean       27052 non-null  float64 \n",
      " 29  sd_current_2_median     27052 non-null  float64 \n",
      " 30  sd_current_2_std        27052 non-null  float64 \n",
      " 31  sd_current_2_skew       27052 non-null  float64 \n",
      " 32  mean_current_2_min      27052 non-null  float64 \n",
      " 33  mean_current_2_max      27052 non-null  float64 \n",
      " 34  mean_current_2_mean     27052 non-null  float64 \n",
      " 35  mean_current_2_median   27052 non-null  float64 \n",
      " 36  mean_current_2_std      27052 non-null  float64 \n",
      " 37  mean_current_2_skew     27052 non-null  float64 \n",
      " 38  dwelling_time_3_min     27052 non-null  float64 \n",
      " 39  dwelling_time_3_max     27052 non-null  float64 \n",
      " 40  dwelling_time_3_mean    27052 non-null  float64 \n",
      " 41  dwelling_time_3_median  27052 non-null  float64 \n",
      " 42  dwelling_time_3_std     27052 non-null  float64 \n",
      " 43  dwelling_time_3_skew    27052 non-null  float64 \n",
      " 44  sd_current_3_min        27052 non-null  float64 \n",
      " 45  sd_current_3_max        27052 non-null  float64 \n",
      " 46  sd_current_3_mean       27052 non-null  float64 \n",
      " 47  sd_current_3_median     27052 non-null  float64 \n",
      " 48  sd_current_3_std        27052 non-null  float64 \n",
      " 49  sd_current_3_skew       27052 non-null  float64 \n",
      " 50  mean_current_3_min      27052 non-null  float64 \n",
      " 51  mean_current_3_max      27052 non-null  float64 \n",
      " 52  mean_current_3_mean     27052 non-null  float64 \n",
      " 53  mean_current_3_median   27052 non-null  float64 \n",
      " 54  mean_current_3_std      27052 non-null  float64 \n",
      " 55  mean_current_3_skew     27052 non-null  float64 \n",
      " 56  order_1                 27052 non-null  category\n",
      " 57  order_2                 27052 non-null  category\n",
      " 58  order_3                 27052 non-null  category\n",
      " 59  order_4                 27052 non-null  category\n",
      " 60  order_5                 27052 non-null  category\n",
      " 61  order_6                 27052 non-null  category\n",
      " 62  order_7                 27052 non-null  category\n",
      " 63  count_A                 27052 non-null  int64   \n",
      " 64  count_C                 27052 non-null  int64   \n",
      " 65  count_G                 27052 non-null  int64   \n",
      " 66  count_T                 27052 non-null  int64   \n",
      "dtypes: category(9), float64(54), int64(4)\n",
      "memory usage: 12.4 MB\n"
     ]
    }
   ],
   "source": [
    "X_train_final.info()"
   ]
  },
  {
   "cell_type": "code",
   "execution_count": 73,
   "id": "e01443ec",
   "metadata": {},
   "outputs": [
    {
     "data": {
      "text/plain": [
       "0        0\n",
       "1        0\n",
       "2        0\n",
       "3        0\n",
       "4        0\n",
       "        ..\n",
       "27047    1\n",
       "27048    1\n",
       "27049    1\n",
       "27050    1\n",
       "27051    1\n",
       "Name: label, Length: 27052, dtype: int64"
      ]
     },
     "execution_count": 73,
     "metadata": {},
     "output_type": "execute_result"
    }
   ],
   "source": [
    "y_train_final"
   ]
  },
  {
   "cell_type": "code",
   "execution_count": 62,
   "id": "3f47354d",
   "metadata": {},
   "outputs": [],
   "source": [
    "# drop 'sevenmers' because sequence is represented in order_{i} columns, 1<= i<=7\n",
    "X_train = X_train_final.drop(columns = ['sevenmers'])\n",
    "X_test = X_test_final.drop(columns = ['sevenmers'])"
   ]
  },
  {
   "cell_type": "code",
   "execution_count": 63,
   "id": "1aa5bb08",
   "metadata": {},
   "outputs": [],
   "source": [
    "# one-hot encoding for order{i} columns\n",
    "features_nominal = ['order_1', 'order_2', 'order_3', 'order_4', 'order_5', 'order_6', 'order_7']\n",
    "X_train = pd.get_dummies(X_train, columns=features_nominal)\n",
    "X_test = pd.get_dummies(X_test, columns=features_nominal)"
   ]
  },
  {
   "cell_type": "code",
   "execution_count": 64,
   "id": "0222de53",
   "metadata": {},
   "outputs": [
    {
     "name": "stdout",
     "output_type": "stream",
     "text": [
      "<class 'pandas.core.frame.DataFrame'>\n",
      "RangeIndex: 27052 entries, 0 to 27051\n",
      "Data columns (total 77 columns):\n",
      " #   Column                  Non-Null Count  Dtype   \n",
      "---  ------                  --------------  -----   \n",
      " 0   transcript_position     27052 non-null  category\n",
      " 1   dwelling_time_1_min     27052 non-null  float64 \n",
      " 2   dwelling_time_1_max     27052 non-null  float64 \n",
      " 3   dwelling_time_1_mean    27052 non-null  float64 \n",
      " 4   dwelling_time_1_median  27052 non-null  float64 \n",
      " 5   dwelling_time_1_std     27052 non-null  float64 \n",
      " 6   dwelling_time_1_skew    27052 non-null  float64 \n",
      " 7   sd_current_1_min        27052 non-null  float64 \n",
      " 8   sd_current_1_max        27052 non-null  float64 \n",
      " 9   sd_current_1_mean       27052 non-null  float64 \n",
      " 10  sd_current_1_median     27052 non-null  float64 \n",
      " 11  sd_current_1_std        27052 non-null  float64 \n",
      " 12  sd_current_1_skew       27052 non-null  float64 \n",
      " 13  mean_current_1_min      27052 non-null  float64 \n",
      " 14  mean_current_1_max      27052 non-null  float64 \n",
      " 15  mean_current_1_mean     27052 non-null  float64 \n",
      " 16  mean_current_1_median   27052 non-null  float64 \n",
      " 17  mean_current_1_std      27052 non-null  float64 \n",
      " 18  mean_current_1_skew     27052 non-null  float64 \n",
      " 19  dwelling_time_2_min     27052 non-null  float64 \n",
      " 20  dwelling_time_2_max     27052 non-null  float64 \n",
      " 21  dwelling_time_2_mean    27052 non-null  float64 \n",
      " 22  dwelling_time_2_median  27052 non-null  float64 \n",
      " 23  dwelling_time_2_std     27052 non-null  float64 \n",
      " 24  dwelling_time_2_skew    27052 non-null  float64 \n",
      " 25  sd_current_2_min        27052 non-null  float64 \n",
      " 26  sd_current_2_max        27052 non-null  float64 \n",
      " 27  sd_current_2_mean       27052 non-null  float64 \n",
      " 28  sd_current_2_median     27052 non-null  float64 \n",
      " 29  sd_current_2_std        27052 non-null  float64 \n",
      " 30  sd_current_2_skew       27052 non-null  float64 \n",
      " 31  mean_current_2_min      27052 non-null  float64 \n",
      " 32  mean_current_2_max      27052 non-null  float64 \n",
      " 33  mean_current_2_mean     27052 non-null  float64 \n",
      " 34  mean_current_2_median   27052 non-null  float64 \n",
      " 35  mean_current_2_std      27052 non-null  float64 \n",
      " 36  mean_current_2_skew     27052 non-null  float64 \n",
      " 37  dwelling_time_3_min     27052 non-null  float64 \n",
      " 38  dwelling_time_3_max     27052 non-null  float64 \n",
      " 39  dwelling_time_3_mean    27052 non-null  float64 \n",
      " 40  dwelling_time_3_median  27052 non-null  float64 \n",
      " 41  dwelling_time_3_std     27052 non-null  float64 \n",
      " 42  dwelling_time_3_skew    27052 non-null  float64 \n",
      " 43  sd_current_3_min        27052 non-null  float64 \n",
      " 44  sd_current_3_max        27052 non-null  float64 \n",
      " 45  sd_current_3_mean       27052 non-null  float64 \n",
      " 46  sd_current_3_median     27052 non-null  float64 \n",
      " 47  sd_current_3_std        27052 non-null  float64 \n",
      " 48  sd_current_3_skew       27052 non-null  float64 \n",
      " 49  mean_current_3_min      27052 non-null  float64 \n",
      " 50  mean_current_3_max      27052 non-null  float64 \n",
      " 51  mean_current_3_mean     27052 non-null  float64 \n",
      " 52  mean_current_3_median   27052 non-null  float64 \n",
      " 53  mean_current_3_std      27052 non-null  float64 \n",
      " 54  mean_current_3_skew     27052 non-null  float64 \n",
      " 55  count_A                 27052 non-null  int64   \n",
      " 56  count_C                 27052 non-null  int64   \n",
      " 57  count_G                 27052 non-null  int64   \n",
      " 58  count_T                 27052 non-null  int64   \n",
      " 59  order_1_A               27052 non-null  uint8   \n",
      " 60  order_1_C               27052 non-null  uint8   \n",
      " 61  order_1_G               27052 non-null  uint8   \n",
      " 62  order_1_T               27052 non-null  uint8   \n",
      " 63  order_2_A               27052 non-null  uint8   \n",
      " 64  order_2_G               27052 non-null  uint8   \n",
      " 65  order_2_T               27052 non-null  uint8   \n",
      " 66  order_3_A               27052 non-null  uint8   \n",
      " 67  order_3_G               27052 non-null  uint8   \n",
      " 68  order_4_A               27052 non-null  uint8   \n",
      " 69  order_5_C               27052 non-null  uint8   \n",
      " 70  order_6_A               27052 non-null  uint8   \n",
      " 71  order_6_C               27052 non-null  uint8   \n",
      " 72  order_6_T               27052 non-null  uint8   \n",
      " 73  order_7_A               27052 non-null  uint8   \n",
      " 74  order_7_C               27052 non-null  uint8   \n",
      " 75  order_7_G               27052 non-null  uint8   \n",
      " 76  order_7_T               27052 non-null  uint8   \n",
      "dtypes: category(1), float64(54), int64(4), uint8(18)\n",
      "memory usage: 12.7 MB\n"
     ]
    }
   ],
   "source": [
    "X_train.info()"
   ]
  },
  {
   "cell_type": "code",
   "execution_count": 65,
   "id": "147d2b27",
   "metadata": {},
   "outputs": [
    {
     "data": {
      "text/html": [
       "<div>\n",
       "<style scoped>\n",
       "    .dataframe tbody tr th:only-of-type {\n",
       "        vertical-align: middle;\n",
       "    }\n",
       "\n",
       "    .dataframe tbody tr th {\n",
       "        vertical-align: top;\n",
       "    }\n",
       "\n",
       "    .dataframe thead th {\n",
       "        text-align: right;\n",
       "    }\n",
       "</style>\n",
       "<table border=\"1\" class=\"dataframe\">\n",
       "  <thead>\n",
       "    <tr style=\"text-align: right;\">\n",
       "      <th></th>\n",
       "      <th>transcript_position</th>\n",
       "      <th>dwelling_time_1_min</th>\n",
       "      <th>dwelling_time_1_max</th>\n",
       "      <th>dwelling_time_1_mean</th>\n",
       "      <th>dwelling_time_1_median</th>\n",
       "      <th>dwelling_time_1_std</th>\n",
       "      <th>dwelling_time_1_skew</th>\n",
       "      <th>sd_current_1_min</th>\n",
       "      <th>sd_current_1_max</th>\n",
       "      <th>sd_current_1_mean</th>\n",
       "      <th>...</th>\n",
       "      <th>order_3_G</th>\n",
       "      <th>order_4_A</th>\n",
       "      <th>order_5_C</th>\n",
       "      <th>order_6_A</th>\n",
       "      <th>order_6_C</th>\n",
       "      <th>order_6_T</th>\n",
       "      <th>order_7_A</th>\n",
       "      <th>order_7_C</th>\n",
       "      <th>order_7_G</th>\n",
       "      <th>order_7_T</th>\n",
       "    </tr>\n",
       "  </thead>\n",
       "  <tbody>\n",
       "    <tr>\n",
       "      <th>0</th>\n",
       "      <td>802</td>\n",
       "      <td>0.00465</td>\n",
       "      <td>0.0245</td>\n",
       "      <td>0.010803</td>\n",
       "      <td>0.010600</td>\n",
       "      <td>0.004175</td>\n",
       "      <td>1.029453</td>\n",
       "      <td>2.11</td>\n",
       "      <td>12.40</td>\n",
       "      <td>3.544800</td>\n",
       "      <td>...</td>\n",
       "      <td>1</td>\n",
       "      <td>1</td>\n",
       "      <td>1</td>\n",
       "      <td>0</td>\n",
       "      <td>1</td>\n",
       "      <td>0</td>\n",
       "      <td>1</td>\n",
       "      <td>0</td>\n",
       "      <td>0</td>\n",
       "      <td>0</td>\n",
       "    </tr>\n",
       "    <tr>\n",
       "      <th>1</th>\n",
       "      <td>751</td>\n",
       "      <td>0.00199</td>\n",
       "      <td>0.0252</td>\n",
       "      <td>0.008926</td>\n",
       "      <td>0.006390</td>\n",
       "      <td>0.006568</td>\n",
       "      <td>1.308158</td>\n",
       "      <td>1.25</td>\n",
       "      <td>4.34</td>\n",
       "      <td>2.835455</td>\n",
       "      <td>...</td>\n",
       "      <td>0</td>\n",
       "      <td>1</td>\n",
       "      <td>1</td>\n",
       "      <td>1</td>\n",
       "      <td>0</td>\n",
       "      <td>0</td>\n",
       "      <td>0</td>\n",
       "      <td>1</td>\n",
       "      <td>0</td>\n",
       "      <td>0</td>\n",
       "    </tr>\n",
       "    <tr>\n",
       "      <th>2</th>\n",
       "      <td>208</td>\n",
       "      <td>0.00321</td>\n",
       "      <td>0.0153</td>\n",
       "      <td>0.006325</td>\n",
       "      <td>0.005310</td>\n",
       "      <td>0.002746</td>\n",
       "      <td>1.719626</td>\n",
       "      <td>1.98</td>\n",
       "      <td>5.32</td>\n",
       "      <td>2.905769</td>\n",
       "      <td>...</td>\n",
       "      <td>0</td>\n",
       "      <td>1</td>\n",
       "      <td>1</td>\n",
       "      <td>0</td>\n",
       "      <td>1</td>\n",
       "      <td>0</td>\n",
       "      <td>0</td>\n",
       "      <td>0</td>\n",
       "      <td>1</td>\n",
       "      <td>0</td>\n",
       "    </tr>\n",
       "    <tr>\n",
       "      <th>3</th>\n",
       "      <td>1735</td>\n",
       "      <td>0.00366</td>\n",
       "      <td>0.0219</td>\n",
       "      <td>0.011130</td>\n",
       "      <td>0.010700</td>\n",
       "      <td>0.004767</td>\n",
       "      <td>0.407657</td>\n",
       "      <td>3.96</td>\n",
       "      <td>11.50</td>\n",
       "      <td>6.866522</td>\n",
       "      <td>...</td>\n",
       "      <td>0</td>\n",
       "      <td>1</td>\n",
       "      <td>1</td>\n",
       "      <td>0</td>\n",
       "      <td>1</td>\n",
       "      <td>0</td>\n",
       "      <td>0</td>\n",
       "      <td>0</td>\n",
       "      <td>0</td>\n",
       "      <td>1</td>\n",
       "    </tr>\n",
       "    <tr>\n",
       "      <th>4</th>\n",
       "      <td>600</td>\n",
       "      <td>0.00199</td>\n",
       "      <td>0.0216</td>\n",
       "      <td>0.008846</td>\n",
       "      <td>0.008215</td>\n",
       "      <td>0.004870</td>\n",
       "      <td>0.808049</td>\n",
       "      <td>2.28</td>\n",
       "      <td>6.82</td>\n",
       "      <td>4.725000</td>\n",
       "      <td>...</td>\n",
       "      <td>1</td>\n",
       "      <td>1</td>\n",
       "      <td>1</td>\n",
       "      <td>1</td>\n",
       "      <td>0</td>\n",
       "      <td>0</td>\n",
       "      <td>0</td>\n",
       "      <td>0</td>\n",
       "      <td>1</td>\n",
       "      <td>0</td>\n",
       "    </tr>\n",
       "  </tbody>\n",
       "</table>\n",
       "<p>5 rows × 77 columns</p>\n",
       "</div>"
      ],
      "text/plain": [
       "  transcript_position  dwelling_time_1_min  dwelling_time_1_max  \\\n",
       "0                 802              0.00465               0.0245   \n",
       "1                 751              0.00199               0.0252   \n",
       "2                 208              0.00321               0.0153   \n",
       "3                1735              0.00366               0.0219   \n",
       "4                 600              0.00199               0.0216   \n",
       "\n",
       "   dwelling_time_1_mean  dwelling_time_1_median  dwelling_time_1_std  \\\n",
       "0              0.010803                0.010600             0.004175   \n",
       "1              0.008926                0.006390             0.006568   \n",
       "2              0.006325                0.005310             0.002746   \n",
       "3              0.011130                0.010700             0.004767   \n",
       "4              0.008846                0.008215             0.004870   \n",
       "\n",
       "   dwelling_time_1_skew  sd_current_1_min  sd_current_1_max  \\\n",
       "0              1.029453              2.11             12.40   \n",
       "1              1.308158              1.25              4.34   \n",
       "2              1.719626              1.98              5.32   \n",
       "3              0.407657              3.96             11.50   \n",
       "4              0.808049              2.28              6.82   \n",
       "\n",
       "   sd_current_1_mean  ...  order_3_G  order_4_A  order_5_C  order_6_A  \\\n",
       "0           3.544800  ...          1          1          1          0   \n",
       "1           2.835455  ...          0          1          1          1   \n",
       "2           2.905769  ...          0          1          1          0   \n",
       "3           6.866522  ...          0          1          1          0   \n",
       "4           4.725000  ...          1          1          1          1   \n",
       "\n",
       "   order_6_C  order_6_T  order_7_A  order_7_C  order_7_G  order_7_T  \n",
       "0          1          0          1          0          0          0  \n",
       "1          0          0          0          1          0          0  \n",
       "2          1          0          0          0          1          0  \n",
       "3          1          0          0          0          0          1  \n",
       "4          0          0          0          0          1          0  \n",
       "\n",
       "[5 rows x 77 columns]"
      ]
     },
     "execution_count": 65,
     "metadata": {},
     "output_type": "execute_result"
    }
   ],
   "source": [
    "X_train.head()"
   ]
  },
  {
   "cell_type": "code",
   "execution_count": 69,
   "id": "8ea59666",
   "metadata": {},
   "outputs": [
    {
     "data": {
      "image/png": "[encoded data removed]",
      "text/plain": [
       "<Figure size 720x720 with 2 Axes>"
      ]
     },
     "metadata": {
      "needs_background": "light"
     },
     "output_type": "display_data"
    }
   ],
   "source": [
    "import seaborn as sns\n",
    "plt.figure(figsize=(10,10))\n",
    "corrMatrix = X_train.drop(columns=['transcript_position']).corr()\n",
    "sns.heatmap(corrMatrix)\n",
    "plt.show()"
   ]
  },
  {
   "cell_type": "code",
   "execution_count": 70,
   "id": "8660d33a",
   "metadata": {},
   "outputs": [],
   "source": [
    "# standardise all numberical values\n",
    "from sklearn.preprocessing import StandardScaler\n",
    "sc = StandardScaler()\n",
    "X_train = sc.fit_transform(X_train)\n",
    "X_test = sc.transform(X_test)"
   ]
  },
  {
   "cell_type": "code",
   "execution_count": 71,
   "id": "d009e19f",
   "metadata": {},
   "outputs": [
    {
     "data": {
      "text/plain": [
       "array([[-0.76927929,  4.67720316, -0.22401896,  1.35570401,  2.02215565,\n",
       "        -0.58108801, -0.73475442,  0.4286444 ,  0.64349523, -0.48099824,\n",
       "        -0.61176493,  0.2752538 ,  1.97413607, -0.4190081 , -0.93643546,\n",
       "        -0.80912149, -0.87774628, -0.7531573 ,  0.80417774, -0.10169001,\n",
       "        -0.34893469, -0.19481655,  0.11309954, -0.33627608, -0.36881618,\n",
       "         1.38989194,  1.06659388,  2.1820895 ,  2.62600414,  0.75617348,\n",
       "        -0.89677517,  0.27328059,  0.64273394,  0.3395224 ,  0.33400808,\n",
       "         1.15189817,  0.42202692,  0.32512986,  0.09072738,  1.08009536,\n",
       "         0.61506057,  0.40164076, -0.98335156, -0.8646253 ,  1.63967338,\n",
       "        -0.82921355, -1.28148994,  1.04392801,  3.33218454, -0.62901188,\n",
       "        -1.43249063, -1.27021069, -1.22584862, -1.19242734,  0.54847667,\n",
       "        -0.4414941 ,  1.86509288, -0.71046452, -0.20407691, -0.67566479,\n",
       "         2.25763423, -0.60679276, -0.58264326, -0.65727061, -0.97856763,\n",
       "         1.94452945, -0.76348804,  0.76348804,  0.        ,  0.        ,\n",
       "        -0.66928868,  1.74738128, -0.8934828 ,  1.98701657, -0.53723367,\n",
       "        -0.6525455 , -0.61632141],\n",
       "       [-0.81009613, -0.65918714, -0.15202046,  0.34388664, -0.36652365,\n",
       "         0.96691909, -0.32899905, -0.55676793, -1.16907601, -0.86254797,\n",
       "        -0.68792552, -1.30391484, -1.13253431, -0.06414975, -0.93643546,\n",
       "        -0.51864768, -0.48229246, -1.17145019, -0.75415015,  0.55930798,\n",
       "        -0.8709001 , -0.8596349 , -0.83374943, -0.84664094, -0.24049415,\n",
       "         0.4660678 , -1.19039441, -0.89729997, -0.81822618, -1.52557452,\n",
       "        -0.84684398, -1.40055928, -1.25362284, -1.07269927, -1.05351925,\n",
       "        -0.07488689, -1.54037856, -0.96651803, -0.80970789, -1.66144085,\n",
       "        -1.54757741, -0.98463798,  0.88039121,  4.78449986, -0.37140258,\n",
       "         1.61897868,  2.08351559, -0.64988073, -0.9251518 , -0.28745562,\n",
       "         0.37899399,  0.42348637,  0.50020014,  1.76883038, -1.11736309,\n",
       "         2.23517519,  0.49902117, -1.7421063 , -1.32662443,  1.48002384,\n",
       "        -0.44294155, -0.60679276, -0.58264326,  1.52144335, -0.97856763,\n",
       "        -0.51426323,  1.30977821, -1.30977821,  0.        ,  0.        ,\n",
       "         1.49412359, -0.57228495, -0.8934828 , -0.50326707,  1.86138743,\n",
       "        -0.6525455 , -0.61632141],\n",
       "       [-1.24467538,  1.78833021, -1.17028492, -1.05858768, -0.97929649,\n",
       "        -1.50526273,  0.27004219,  0.27968672, -0.94868893, -0.82472641,\n",
       "        -0.78185691, -1.09754805,  0.28623307, -0.16553785, -0.84390176,\n",
       "        -0.62399399, -0.68001937, -0.6504931 ,  0.78219354,  1.20086486,\n",
       "        -0.70046242, -0.1579255 ,  0.50841695, -0.79160071, -0.56470963,\n",
       "         1.63624504, -0.75493279, -0.32526607, -0.23407258, -1.26523418,\n",
       "         0.26715614, -1.26184327, -1.33982088, -1.42472158, -1.45243336,\n",
       "        -0.1584788 ,  0.90057908, -0.13074587, -0.17559855,  0.64168878,\n",
       "         0.47146489,  0.79840834, -0.5585521 ,  0.12831924, -0.72357256,\n",
       "        -1.08430382, -1.34960746, -0.5940985 ,  0.08015964,  0.41463225,\n",
       "         0.22644791, -0.05642805, -0.10840665, -0.26173857,  2.05678666,\n",
       "         0.450729  ,  1.86509288, -0.71046452, -1.32662443, -0.67566479,\n",
       "         2.25763423, -0.60679276, -0.58264326,  1.52144335, -0.97856763,\n",
       "        -0.51426323,  1.30977821, -1.30977821,  0.        ,  0.        ,\n",
       "        -0.66928868,  1.74738128, -0.8934828 , -0.50326707, -0.53723367,\n",
       "         1.53246018, -0.61632141]])"
      ]
     },
     "execution_count": 71,
     "metadata": {},
     "output_type": "execute_result"
    }
   ],
   "source": [
    "X_train[0:3]"
   ]
  },
  {
   "cell_type": "code",
   "execution_count": null,
   "id": "2c468371",
   "metadata": {},
   "outputs": [],
   "source": [
    "#X_train = pd.dataframe(X_train, columns = [])"
   ]
  },
  {
   "cell_type": "code",
   "execution_count": 78,
   "id": "e7ffdf41",
   "metadata": {},
   "outputs": [],
   "source": [
    "# https://stackabuse.com/random-forest-algorithm-with-python-and-scikit-learn/\n",
    "from sklearn.ensemble import RandomForestClassifier\n",
    "from sklearn import metrics\n",
    "from sklearn.metrics import confusion_matrix\n",
    "from sklearn.metrics import roc_auc_score, average_precision_score\n",
    "from sklearn.metrics import f1_score, accuracy_score, precision_score, recall_score, confusion_matrix, mean_squared_error, auc, roc_curve"
   ]
  },
  {
   "cell_type": "code",
   "execution_count": 75,
   "id": "a4af5905",
   "metadata": {},
   "outputs": [],
   "source": [
    "def forest_find_optimal_accuracy(x_train,y_train,x_test,y_test,start,end,random_state):\n",
    "  #We will attempt to prune the DecisionTree on the max_depth parameter, on both 'gini' and 'entropy' \n",
    "  max_depth = []\n",
    "  acc_gini = []\n",
    "  acc_entropy = []\n",
    "  for i in range(start,end):\n",
    "    dtree = RandomForestClassifier(random_state=random_state,criterion='gini', max_depth=i)\n",
    "    dtree.fit(x_train, y_train)\n",
    "    pred = dtree.predict(x_test)\n",
    "    acc_gini.append(accuracy_score(y_test, pred))\n",
    "    ###\n",
    "    dtree = RandomForestClassifier(random_state=random_state,criterion='entropy', max_depth=i)\n",
    "    dtree.fit(x_train, y_train)\n",
    "    pred = dtree.predict(x_test)\n",
    "    acc_entropy.append(accuracy_score(y_test, pred))\n",
    "    ####\n",
    "    max_depth.append(i)\n",
    "  d = pd.DataFrame({'acc_gini':pd.Series(acc_gini), \n",
    "    'acc_entropy':pd.Series(acc_entropy),\n",
    "    'max_depth':pd.Series(max_depth)})\n",
    "  # visualizing changes in parameters\n",
    "  plt.plot('max_depth','acc_gini', data=d, label='gini')\n",
    "  plt.plot('max_depth','acc_entropy', data=d, label='entropy')\n",
    "  plt.xlabel('max_depth')\n",
    "  plt.ylabel('accuracy')\n",
    "  plt.legend()\n",
    "  print(\"Best max_depth for gini:\", d.sort_values('acc_gini',ascending=False).iloc[0,2])\n",
    "  print(\"Best max_depth for entropy:\", d.sort_values('acc_entropy',ascending=False).iloc[0,2])"
   ]
  },
  {
   "cell_type": "code",
   "execution_count": 76,
   "id": "3700a3e8",
   "metadata": {},
   "outputs": [],
   "source": [
    "def forest_find_optimal_f1(x_train,y_train,x_test,y_test,start,end,random_state):\n",
    "  #We will attempt to prune the DecisionTree on the max_depth parameter, on both 'gini' and 'entropy' \n",
    "  max_depth = []\n",
    "  acc_gini = []\n",
    "  acc_entropy = []\n",
    "  for i in range(start,end):\n",
    "    dtree = RandomForestClassifier(random_state=random_state,criterion='gini', max_depth=i)\n",
    "    dtree.fit(x_train, y_train)\n",
    "    pred = dtree.predict(x_test)\n",
    "    acc_gini.append(f1_score(y_test, pred))\n",
    "    ###\n",
    "    dtree = RandomForestClassifier(random_state=random_state,criterion='entropy', max_depth=i)\n",
    "    dtree.fit(x_train, y_train)\n",
    "    pred = dtree.predict(x_test)\n",
    "    acc_entropy.append(f1_score(y_test, pred))\n",
    "    ####\n",
    "    max_depth.append(i)\n",
    "  d = pd.DataFrame({'acc_gini':pd.Series(acc_gini), \n",
    "    'acc_entropy':pd.Series(acc_entropy),\n",
    "    'max_depth':pd.Series(max_depth)})\n",
    "  # visualizing changes in parameters\n",
    "  plt.plot('max_depth','acc_gini', data=d, label='gini')\n",
    "  plt.plot('max_depth','acc_entropy', data=d, label='entropy')\n",
    "  plt.xlabel('max_depth')\n",
    "  plt.ylabel('f1')\n",
    "  plt.legend()\n",
    "  print(\"Best max_depth for gini:\", d.sort_values('acc_gini',ascending=False).iloc[0,2])\n",
    "  print(\"Best max_depth for entropy:\", d.sort_values('acc_entropy',ascending=False).iloc[0,2])"
   ]
  },
  {
   "cell_type": "code",
   "execution_count": 80,
   "id": "20fc7951",
   "metadata": {},
   "outputs": [],
   "source": [
    "def forest_find_optimal_rocauc(x_train,y_train,x_test,y_test,start,end,random_state):\n",
    "  #We will attempt to prune the DecisionTree on the max_depth parameter, on both 'gini' and 'entropy' \n",
    "  max_depth = []\n",
    "  acc_gini = []\n",
    "  acc_entropy = []\n",
    "  for i in range(start,end):\n",
    "    dtree = RandomForestClassifier(random_state=random_state,criterion='gini', max_depth=i)\n",
    "    dtree.fit(x_train, y_train)\n",
    "    pred = dtree.predict(x_test)\n",
    "    acc_gini.append(roc_auc_score(y_test, pred))\n",
    "    ###\n",
    "    dtree = RandomForestClassifier(random_state=random_state,criterion='entropy', max_depth=i)\n",
    "    dtree.fit(x_train, y_train)\n",
    "    pred = dtree.predict(x_test)\n",
    "    acc_entropy.append(roc_auc_score(y_test, pred))\n",
    "    ####\n",
    "    max_depth.append(i)\n",
    "  d = pd.DataFrame({'acc_gini':pd.Series(acc_gini), \n",
    "    'acc_entropy':pd.Series(acc_entropy),\n",
    "    'max_depth':pd.Series(max_depth)})\n",
    "  # visualizing changes in parameters\n",
    "  plt.plot('max_depth','acc_gini', data=d, label='gini')\n",
    "  plt.plot('max_depth','acc_entropy', data=d, label='entropy')\n",
    "  plt.xlabel('max_depth')\n",
    "  plt.ylabel('roc-auc')\n",
    "  plt.legend()\n",
    "  print(\"Best max_depth for gini:\", d.sort_values('acc_gini',ascending=False).iloc[0,2])\n",
    "  print(\"Best max_depth for entropy:\", d.sort_values('acc_entropy',ascending=False).iloc[0,2])"
   ]
  },
  {
   "cell_type": "code",
   "execution_count": 82,
   "id": "661b1989",
   "metadata": {},
   "outputs": [],
   "source": [
    "def forest_find_optimal_prauc(x_train,y_train,x_test,y_test,start,end,random_state):\n",
    "  #We will attempt to prune the DecisionTree on the max_depth parameter, on both 'gini' and 'entropy' \n",
    "  max_depth = []\n",
    "  acc_gini = []\n",
    "  acc_entropy = []\n",
    "  for i in range(start,end):\n",
    "    dtree = RandomForestClassifier(random_state=random_state,criterion='gini', max_depth=i)\n",
    "    dtree.fit(x_train, y_train)\n",
    "    pred = dtree.predict(x_test)\n",
    "    acc_gini.append(average_precision_score(y_test, pred))\n",
    "    ###\n",
    "    dtree = RandomForestClassifier(random_state=random_state,criterion='entropy', max_depth=i)\n",
    "    dtree.fit(x_train, y_train)\n",
    "    pred = dtree.predict(x_test)\n",
    "    acc_entropy.append(average_precision_score(y_test, pred))\n",
    "    ####\n",
    "    max_depth.append(i)\n",
    "  d = pd.DataFrame({'acc_gini':pd.Series(acc_gini), \n",
    "    'acc_entropy':pd.Series(acc_entropy),\n",
    "    'max_depth':pd.Series(max_depth)})\n",
    "  # visualizing changes in parameters\n",
    "  plt.plot('max_depth','acc_gini', data=d, label='gini')\n",
    "  plt.plot('max_depth','acc_entropy', data=d, label='entropy')\n",
    "  plt.xlabel('max_depth')\n",
    "  plt.ylabel('pr-auc')\n",
    "  plt.legend()\n",
    "  print(\"Best max_depth for gini:\", d.sort_values('acc_gini',ascending=False).iloc[0,2])\n",
    "  print(\"Best max_depth for entropy:\", d.sort_values('acc_entropy',ascending=False).iloc[0,2])"
   ]
  },
  {
   "cell_type": "code",
   "execution_count": 79,
   "id": "353f1dde",
   "metadata": {},
   "outputs": [
    {
     "name": "stdout",
     "output_type": "stream",
     "text": [
      "Best max_depth for gini: 15\n",
      "Best max_depth for entropy: 12\n"
     ]
    },
    {
     "data": {
      "image/png": "[encoded data removed]",
      "text/plain": [
       "<Figure size 432x288 with 1 Axes>"
      ]
     },
     "metadata": {
      "needs_background": "light"
     },
     "output_type": "display_data"
    }
   ],
   "source": [
    "forest_find_optimal_f1(X_train,y_train_final,X_test,y_test_final,start=1,end=30,random_state=1)\n",
    "# Best max_depth for gini: 15\n",
    "# Best max_depth for entropy: 12"
   ]
  },
  {
   "cell_type": "code",
   "execution_count": 81,
   "id": "74241f54",
   "metadata": {
    "scrolled": true
   },
   "outputs": [
    {
     "name": "stdout",
     "output_type": "stream",
     "text": [
      "Best max_depth for gini: 6\n",
      "Best max_depth for entropy: 7\n"
     ]
    },
    {
     "data": {
      "image/png": "[encoded data removed]",
      "text/plain": [
       "<Figure size 432x288 with 1 Axes>"
      ]
     },
     "metadata": {
      "needs_background": "light"
     },
     "output_type": "display_data"
    }
   ],
   "source": [
    "forest_find_optimal_rocauc(X_train,y_train_final,X_test,y_test_final,start=1,end=30,random_state=1)\n",
    "# Best max_depth for gini: 6\n",
    "# Best max_depth for entropy: 7"
   ]
  },
  {
   "cell_type": "code",
   "execution_count": 83,
   "id": "ec1d179f",
   "metadata": {},
   "outputs": [
    {
     "name": "stdout",
     "output_type": "stream",
     "text": [
      "Best max_depth for gini: 15\n",
      "Best max_depth for entropy: 12\n"
     ]
    },
    {
     "data": {
      "image/png": "[encoded data removed]",
      "text/plain": [
       "<Figure size 432x288 with 1 Axes>"
      ]
     },
     "metadata": {
      "needs_background": "light"
     },
     "output_type": "display_data"
    }
   ],
   "source": [
    "forest_find_optimal_prauc(X_train,y_train_final,X_test,y_test_final,start=1,end=30,random_state=1)\n",
    "# Best max_depth for gini: 15\n",
    "# Best max_depth for entropy: 12 "
   ]
  },
  {
   "cell_type": "code",
   "execution_count": 89,
   "id": "32c1fee3",
   "metadata": {},
   "outputs": [
    {
     "data": {
      "text/html": [
       "<div>\n",
       "<style scoped>\n",
       "    .dataframe tbody tr th:only-of-type {\n",
       "        vertical-align: middle;\n",
       "    }\n",
       "\n",
       "    .dataframe tbody tr th {\n",
       "        vertical-align: top;\n",
       "    }\n",
       "\n",
       "    .dataframe thead th {\n",
       "        text-align: right;\n",
       "    }\n",
       "</style>\n",
       "<table border=\"1\" class=\"dataframe\">\n",
       "  <thead>\n",
       "    <tr style=\"text-align: right;\">\n",
       "      <th></th>\n",
       "      <th>transcript_position</th>\n",
       "      <th>sevenmers</th>\n",
       "      <th>dwelling_time_1_min</th>\n",
       "      <th>dwelling_time_1_max</th>\n",
       "      <th>dwelling_time_1_mean</th>\n",
       "      <th>dwelling_time_1_median</th>\n",
       "      <th>dwelling_time_1_std</th>\n",
       "      <th>dwelling_time_1_skew</th>\n",
       "      <th>sd_current_1_min</th>\n",
       "      <th>sd_current_1_max</th>\n",
       "      <th>...</th>\n",
       "      <th>order_2</th>\n",
       "      <th>order_3</th>\n",
       "      <th>order_4</th>\n",
       "      <th>order_5</th>\n",
       "      <th>order_6</th>\n",
       "      <th>order_7</th>\n",
       "      <th>count_A</th>\n",
       "      <th>count_C</th>\n",
       "      <th>count_G</th>\n",
       "      <th>count_T</th>\n",
       "    </tr>\n",
       "  </thead>\n",
       "  <tbody>\n",
       "    <tr>\n",
       "      <th>424</th>\n",
       "      <td>190</td>\n",
       "      <td>ATGACAG</td>\n",
       "      <td>0.00199</td>\n",
       "      <td>0.0153</td>\n",
       "      <td>0.005804</td>\n",
       "      <td>0.00465</td>\n",
       "      <td>0.003086</td>\n",
       "      <td>1.084027</td>\n",
       "      <td>1.66</td>\n",
       "      <td>14.9</td>\n",
       "      <td>...</td>\n",
       "      <td>T</td>\n",
       "      <td>G</td>\n",
       "      <td>A</td>\n",
       "      <td>C</td>\n",
       "      <td>A</td>\n",
       "      <td>G</td>\n",
       "      <td>3</td>\n",
       "      <td>1</td>\n",
       "      <td>2</td>\n",
       "      <td>1</td>\n",
       "    </tr>\n",
       "    <tr>\n",
       "      <th>425</th>\n",
       "      <td>257</td>\n",
       "      <td>TGGACAT</td>\n",
       "      <td>0.00228</td>\n",
       "      <td>0.0229</td>\n",
       "      <td>0.008548</td>\n",
       "      <td>0.00729</td>\n",
       "      <td>0.004789</td>\n",
       "      <td>1.098746</td>\n",
       "      <td>1.93</td>\n",
       "      <td>9.6</td>\n",
       "      <td>...</td>\n",
       "      <td>G</td>\n",
       "      <td>G</td>\n",
       "      <td>A</td>\n",
       "      <td>C</td>\n",
       "      <td>A</td>\n",
       "      <td>T</td>\n",
       "      <td>2</td>\n",
       "      <td>1</td>\n",
       "      <td>2</td>\n",
       "      <td>2</td>\n",
       "    </tr>\n",
       "  </tbody>\n",
       "</table>\n",
       "<p>2 rows × 67 columns</p>\n",
       "</div>"
      ],
      "text/plain": [
       "    transcript_position sevenmers  dwelling_time_1_min  dwelling_time_1_max  \\\n",
       "424                 190   ATGACAG              0.00199               0.0153   \n",
       "425                 257   TGGACAT              0.00228               0.0229   \n",
       "\n",
       "     dwelling_time_1_mean  dwelling_time_1_median  dwelling_time_1_std  \\\n",
       "424              0.005804                 0.00465             0.003086   \n",
       "425              0.008548                 0.00729             0.004789   \n",
       "\n",
       "     dwelling_time_1_skew  sd_current_1_min  sd_current_1_max  ...  order_2  \\\n",
       "424              1.084027              1.66              14.9  ...        T   \n",
       "425              1.098746              1.93               9.6  ...        G   \n",
       "\n",
       "     order_3  order_4  order_5  order_6  order_7  count_A  count_C  count_G  \\\n",
       "424        G        A        C        A        G        3        1        2   \n",
       "425        G        A        C        A        T        2        1        2   \n",
       "\n",
       "     count_T  \n",
       "424        1  \n",
       "425        2  \n",
       "\n",
       "[2 rows x 67 columns]"
      ]
     },
     "execution_count": 89,
     "metadata": {},
     "output_type": "execute_result"
    }
   ],
   "source": [
    "X_test_final[0:2]"
   ]
  },
  {
   "cell_type": "code",
   "execution_count": 90,
   "id": "0c641caf",
   "metadata": {},
   "outputs": [
    {
     "data": {
      "text/plain": [
       "RandomForestClassifier(criterion='entropy', max_depth=7, max_features='sqrt',\n",
       "                       n_estimators=11, random_state=1)"
      ]
     },
     "execution_count": 90,
     "metadata": {},
     "output_type": "execute_result"
    }
   ],
   "source": [
    "forest1 = RandomForestClassifier(n_estimators=11, \n",
    "                                  bootstrap = True,\n",
    "                                  max_features = 'sqrt',\n",
    "                                  max_depth=7,\n",
    "                                  criterion='entropy',random_state=1)\n",
    "forest1.fit(X_train,y_train_final)"
   ]
  },
  {
   "cell_type": "code",
   "execution_count": 105,
   "id": "f817e89b",
   "metadata": {},
   "outputs": [],
   "source": [
    "rf_y_pred = forest1.predict(X_test)"
   ]
  },
  {
   "cell_type": "code",
   "execution_count": 106,
   "id": "bb112020",
   "metadata": {},
   "outputs": [
    {
     "name": "stdout",
     "output_type": "stream",
     "text": [
      "[[5278  760]\n",
      " [  92  172]]\n",
      "accuracy: 0.8648048238654396\n",
      "precision: 0.18454935622317598\n",
      "recall:    0.6515151515151515\n",
      "roc auc:   0.7628228291527396\n",
      "pr auc:    0.13483524192775156\n"
     ]
    }
   ],
   "source": [
    "print(metrics.confusion_matrix(y_test_final, rf_y_pred))\n",
    "# TN FP\n",
    "# FN TP\n",
    "\n",
    "print(f'accuracy: {metrics.accuracy_score(y_test_final, rf_y_pred)}')\n",
    "print(f'precision: {metrics.precision_score(y_test_final,rf_y_pred)}')\n",
    "print(f'recall:    {metrics.recall_score(y_test_final, rf_y_pred)}')\n",
    "print(f'roc auc:   {metrics.roc_auc_score(y_test_final, rf_y_pred)}')\n",
    "print(f'pr auc:    {metrics.average_precision_score(y_test_final, rf_y_pred)}')"
   ]
  },
  {
   "cell_type": "code",
   "execution_count": 107,
   "id": "d8eb4f8b",
   "metadata": {},
   "outputs": [
    {
     "data": {
      "text/plain": [
       "0.44882903554024556"
      ]
     },
     "execution_count": 107,
     "metadata": {},
     "output_type": "execute_result"
    }
   ],
   "source": [
    "(metrics.roc_auc_score(y_test_final, rf_y_pred)+metrics.average_precision_score(y_test_final, rf_y_pred))/2"
   ]
  },
  {
   "cell_type": "code",
   "execution_count": 91,
   "id": "465a66dd",
   "metadata": {},
   "outputs": [
    {
     "data": {
      "text/plain": [
       "RandomForestClassifier(max_depth=15, max_features='sqrt', n_estimators=11,\n",
       "                       random_state=1)"
      ]
     },
     "execution_count": 91,
     "metadata": {},
     "output_type": "execute_result"
    }
   ],
   "source": [
    "forest2 = RandomForestClassifier(n_estimators=11, \n",
    "                                  bootstrap = True,\n",
    "                                  max_features = 'sqrt',\n",
    "                                  max_depth=15,\n",
    "                                  criterion='gini',random_state=1)\n",
    "forest2.fit(X_train,y_train_final)"
   ]
  },
  {
   "cell_type": "code",
   "execution_count": 108,
   "id": "49276a3c",
   "metadata": {},
   "outputs": [],
   "source": [
    "rf_y_pred = forest2.predict(X_test)"
   ]
  },
  {
   "cell_type": "code",
   "execution_count": 109,
   "id": "5e2de318",
   "metadata": {},
   "outputs": [
    {
     "name": "stdout",
     "output_type": "stream",
     "text": [
      "[[5862  176]\n",
      " [ 161  103]]\n",
      "accuracy: 0.9465249127261187\n",
      "precision: 0.36917562724014336\n",
      "recall:    0.39015151515151514\n",
      "roc auc:   0.6805013952041113\n",
      "pr auc:    0.16958187558022733\n"
     ]
    }
   ],
   "source": [
    "print(metrics.confusion_matrix(y_test_final, rf_y_pred))\n",
    "# TN FP\n",
    "# FN TP\n",
    "\n",
    "print(f'accuracy: {metrics.accuracy_score(y_test_final, rf_y_pred)}')\n",
    "print(f'precision: {metrics.precision_score(y_test_final,rf_y_pred)}')\n",
    "print(f'recall:    {metrics.recall_score(y_test_final, rf_y_pred)}')\n",
    "print(f'roc auc:   {metrics.roc_auc_score(y_test_final, rf_y_pred)}')\n",
    "print(f'pr auc:    {metrics.average_precision_score(y_test_final, rf_y_pred)}')"
   ]
  },
  {
   "cell_type": "code",
   "execution_count": 110,
   "id": "46b8790f",
   "metadata": {},
   "outputs": [
    {
     "data": {
      "text/plain": [
       "0.4250416353921693"
      ]
     },
     "execution_count": 110,
     "metadata": {},
     "output_type": "execute_result"
    }
   ],
   "source": [
    "(metrics.roc_auc_score(y_test_final, rf_y_pred)+metrics.average_precision_score(y_test_final, rf_y_pred))/2"
   ]
  },
  {
   "cell_type": "code",
   "execution_count": 97,
   "id": "3d2abc65",
   "metadata": {},
   "outputs": [
    {
     "data": {
      "text/plain": [
       "RandomForestClassifier(criterion='entropy', max_depth=7, max_features='sqrt',\n",
       "                       n_estimators=31, random_state=1)"
      ]
     },
     "execution_count": 97,
     "metadata": {},
     "output_type": "execute_result"
    }
   ],
   "source": [
    "# try with more trees \n",
    "forest3 = RandomForestClassifier(n_estimators=31, \n",
    "                                  bootstrap = True,\n",
    "                                  max_features = 'sqrt',\n",
    "                                  max_depth=7,\n",
    "                                  criterion='entropy',random_state=1)\n",
    "forest3.fit(X_train,y_train_final)"
   ]
  },
  {
   "cell_type": "code",
   "execution_count": 111,
   "id": "338570e7",
   "metadata": {},
   "outputs": [
    {
     "name": "stdout",
     "output_type": "stream",
     "text": [
      "[[5301  737]\n",
      " [  94  170]]\n",
      "accuracy: 0.8681370993335449\n",
      "precision: 0.1874310915104741\n",
      "recall:    0.6439393939393939\n",
      "roc auc:   0.7609395545384283\n",
      "pr auc:    0.13561016318703017\n"
     ]
    }
   ],
   "source": [
    "rf_y_pred = forest3.predict(X_test)\n",
    "print(metrics.confusion_matrix(y_test_final, rf_y_pred))\n",
    "# TN FP\n",
    "# FN TP\n",
    "\n",
    "print(f'accuracy: {metrics.accuracy_score(y_test_final, rf_y_pred)}')\n",
    "print(f'precision: {metrics.precision_score(y_test_final,rf_y_pred)}')\n",
    "print(f'recall:    {metrics.recall_score(y_test_final, rf_y_pred)}')\n",
    "print(f'roc auc:   {metrics.roc_auc_score(y_test_final, rf_y_pred)}')\n",
    "print(f'pr auc:    {metrics.average_precision_score(y_test_final, rf_y_pred)}')"
   ]
  },
  {
   "cell_type": "code",
   "execution_count": 112,
   "id": "3d178df3",
   "metadata": {},
   "outputs": [
    {
     "data": {
      "text/plain": [
       "0.4482748588627292"
      ]
     },
     "execution_count": 112,
     "metadata": {},
     "output_type": "execute_result"
    }
   ],
   "source": [
    "(metrics.roc_auc_score(y_test_final, rf_y_pred)+metrics.average_precision_score(y_test_final, rf_y_pred))/2"
   ]
  },
  {
   "cell_type": "code",
   "execution_count": 100,
   "id": "0a964f03",
   "metadata": {},
   "outputs": [
    {
     "data": {
      "text/plain": [
       "RandomForestClassifier(max_depth=15, max_features='sqrt', n_estimators=31,\n",
       "                       random_state=1)"
      ]
     },
     "execution_count": 100,
     "metadata": {},
     "output_type": "execute_result"
    }
   ],
   "source": [
    "forest4 = RandomForestClassifier(n_estimators=31, \n",
    "                                  bootstrap = True,\n",
    "                                  max_features = 'sqrt',\n",
    "                                  max_depth=15,\n",
    "                                  criterion='gini',random_state=1)\n",
    "forest4.fit(X_train,y_train_final)"
   ]
  },
  {
   "cell_type": "code",
   "execution_count": 113,
   "id": "5218ef49",
   "metadata": {},
   "outputs": [
    {
     "name": "stdout",
     "output_type": "stream",
     "text": [
      "[[5893  145]\n",
      " [ 164  100]]\n",
      "accuracy: 0.9509679466835925\n",
      "precision: 0.40816326530612246\n",
      "recall:    0.3787878787878788\n",
      "roc auc:   0.6773866522127536\n",
      "pr auc:    0.18063078207250127\n"
     ]
    }
   ],
   "source": [
    "rf_y_pred = forest4.predict(X_test)\n",
    "print(metrics.confusion_matrix(y_test_final, rf_y_pred))\n",
    "# TN FP\n",
    "# FN TP\n",
    "\n",
    "print(f'accuracy: {metrics.accuracy_score(y_test_final, rf_y_pred)}')\n",
    "print(f'precision: {metrics.precision_score(y_test_final,rf_y_pred)}')\n",
    "print(f'recall:    {metrics.recall_score(y_test_final, rf_y_pred)}')\n",
    "print(f'roc auc:   {metrics.roc_auc_score(y_test_final, rf_y_pred)}')\n",
    "print(f'pr auc:    {metrics.average_precision_score(y_test_final, rf_y_pred)}')"
   ]
  },
  {
   "cell_type": "code",
   "execution_count": 114,
   "id": "208789ac",
   "metadata": {},
   "outputs": [
    {
     "data": {
      "text/plain": [
       "0.42900871714262745"
      ]
     },
     "execution_count": 114,
     "metadata": {},
     "output_type": "execute_result"
    }
   ],
   "source": [
    "(metrics.roc_auc_score(y_test_final, rf_y_pred)+metrics.average_precision_score(y_test_final, rf_y_pred))/2"
   ]
  },
  {
   "cell_type": "code",
   "execution_count": null,
   "id": "6fdfa86b",
   "metadata": {},
   "outputs": [],
   "source": []
  },
  {
   "cell_type": "code",
   "execution_count": null,
   "id": "2abad9dc",
   "metadata": {},
   "outputs": [],
   "source": []
  },
  {
   "cell_type": "code",
   "execution_count": null,
   "id": "2fb6c148",
   "metadata": {},
   "outputs": [],
   "source": []
  },
  {
   "cell_type": "code",
   "execution_count": null,
   "id": "59a6538c",
   "metadata": {},
   "outputs": [],
   "source": []
  },
  {
   "cell_type": "code",
   "execution_count": null,
   "id": "8d774377",
   "metadata": {},
   "outputs": [],
   "source": []
  },
  {
   "cell_type": "code",
   "execution_count": null,
   "id": "6100d8f5",
   "metadata": {},
   "outputs": [],
   "source": []
  },
  {
   "cell_type": "code",
   "execution_count": null,
   "id": "bee34bc9",
   "metadata": {},
   "outputs": [],
   "source": [
    "#predictions = forest1.predict_proba(X_test)\n",
    "#print(predictions)\n",
    "#probability_class_1 = \n",
    "#predictions[:, 1]"
   ]
  },
  {
   "cell_type": "code",
   "execution_count": null,
   "id": "9eda9843",
   "metadata": {},
   "outputs": [],
   "source": [
    "#prob = pd.DataFrame(probability_class_1, columns=['RESPONSE'])\n",
    "#prob.head()\n",
    "#row_id = range(3001, 3001+test_df.shape[0])\n",
    "#type(row_id)\n",
    "#type(pd.DataFrame(row_id))\n",
    "#pout = pd.DataFrame(row_id, columns=['ID'])\n",
    "#pout['RESPONSE'] = prob\n",
    "#pout.head()\n",
    "#pout.tail()"
   ]
  },
  {
   "cell_type": "code",
   "execution_count": null,
   "id": "78861060",
   "metadata": {},
   "outputs": [],
   "source": [
    "#pout.to_csv('p_output.csv', index=False)"
   ]
  },
  {
   "cell_type": "code",
   "execution_count": null,
   "id": "2b73f74c",
   "metadata": {},
   "outputs": [],
   "source": [
    "#y_labs = forest_full.predict(x_pred)"
   ]
  },
  {
   "cell_type": "code",
   "execution_count": null,
   "id": "d5fa53b9",
   "metadata": {},
   "outputs": [],
   "source": [
    "# output binary labels\n",
    "#labels = pd.DataFrame(y_labs, columns=['RESPONSE'])\n",
    "#labels.head()\n",
    "#row_id = range(3001, 3001+test_df.shape[0])\n",
    "#type(row_id)\n",
    "#type(pd.DataFrame(row_id))\n",
    "#pout = pd.DataFrame(row_id, columns=['ID'])\n",
    "#pout['RESPONSE'] = labels\n",
    "#pout.head()"
   ]
  },
  {
   "cell_type": "code",
   "execution_count": null,
   "id": "f9b171ed",
   "metadata": {},
   "outputs": [],
   "source": [
    "#pout.to_csv('lab_output.csv', index=False)"
   ]
  },
  {
   "cell_type": "code",
   "execution_count": null,
   "id": "f24a9832",
   "metadata": {},
   "outputs": [],
   "source": []
  },
  {
   "cell_type": "code",
   "execution_count": null,
   "id": "b8f5a1ce",
   "metadata": {},
   "outputs": [],
   "source": []
  }
 ],
 "metadata": {
  "kernelspec": {
   "display_name": "Python 3",
   "language": "python",
   "name": "python3"
  },
  "language_info": {
   "codemirror_mode": {
    "name": "ipython",
    "version": 3
   },
   "file_extension": ".py",
   "mimetype": "text/x-python",
   "name": "python",
   "nbconvert_exporter": "python",
   "pygments_lexer": "ipython3",
   "version": "3.8.8"
  }
 },
 "nbformat": 4,
 "nbformat_minor": 5
}
