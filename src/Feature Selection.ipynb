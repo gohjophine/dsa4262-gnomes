{
 "cells": [
  {
   "cell_type": "markdown",
   "id": "97e5222a",
   "metadata": {},
   "source": [
    "# Import relevant libraries"
   ]
  },
  {
   "cell_type": "code",
   "execution_count": 1,
   "id": "79c84ae5",
   "metadata": {},
   "outputs": [],
   "source": [
    "import pandas as pd\n",
    "import numpy as np\n",
    "import matplotlib.pyplot as plt\n",
    "\n",
    "from sklearn import metrics\n",
    "from sklearn.model_selection import GridSearchCV\n",
    "from xgboost import XGBClassifier"
   ]
  },
  {
   "cell_type": "markdown",
   "id": "f00ac2f6",
   "metadata": {},
   "source": [
    "# Load data"
   ]
  },
  {
   "cell_type": "code",
   "execution_count": 2,
   "id": "64ea3f55",
   "metadata": {},
   "outputs": [],
   "source": [
    "df = pd.read_csv(\"data/grouped_data.csv\")\n",
    "X_train = pd.read_csv(\"data/X_train_final.csv\")\n",
    "X_test = pd.read_csv(\"data/X_test_final.csv\")\n",
    "y_train = pd.read_csv(\"data/y_train_final.csv\")\n",
    "y_test = pd.read_csv(\"data/y_test_final.csv\")"
   ]
  },
  {
   "cell_type": "code",
   "execution_count": 4,
   "id": "cf6df51b",
   "metadata": {},
   "outputs": [],
   "source": [
    "# one hot encode the categories\n",
    "features_nominal = ['order_1', 'order_2', 'order_3', 'order_6', 'order_7']\n",
    "X_train = pd.get_dummies(X_train, columns=features_nominal)\n",
    "X_test = pd.get_dummies(X_test, columns=features_nominal)"
   ]
  },
  {
   "cell_type": "markdown",
   "id": "85babeaf",
   "metadata": {},
   "source": [
    "# Feature Selection"
   ]
  },
  {
   "cell_type": "code",
   "execution_count": 6,
   "id": "157f875e",
   "metadata": {},
   "outputs": [],
   "source": [
    "impt_feat = []"
   ]
  },
  {
   "cell_type": "markdown",
   "id": "ab85de68",
   "metadata": {},
   "source": [
    "## XGB feature importance"
   ]
  },
  {
   "cell_type": "code",
   "execution_count": 7,
   "id": "cb9499b0",
   "metadata": {},
   "outputs": [
    {
     "name": "stdout",
     "output_type": "stream",
     "text": [
      "[16:54:46] WARNING: C:/Users/Administrator/workspace/xgboost-win64_release_1.5.0/src/learner.cc:1115: Starting in XGBoost 1.3.0, the default evaluation metric used with the objective 'binary:logistic' was changed from 'error' to 'logloss'. Explicitly set eval_metric if you'd like to restore the old behavior.\n"
     ]
    }
   ],
   "source": [
    "# fit model to training data\n",
    "xgb = XGBClassifier()\n",
    "xgb.fit(X_train, y_train)\n",
    "\n",
    "feats = {} # a dict to hold feature_name: feature_importance\n",
    "for feature, importance in zip(X_train.columns, xgb.feature_importances_):\n",
    "    feats[feature] = importance #add the name/value pair \n",
    "\n",
    "importances = pd.DataFrame(feats.items(), columns=['Feature', 'Importance'])\n",
    "#.rename(columns={0: 'importance'})\n",
    "importances = importances.sort_values(by = ['Importance'], ascending = False)\n",
    "impt_feat.extend(importances.Feature.iloc[0:40].tolist())"
   ]
  },
  {
   "cell_type": "markdown",
   "id": "c93c9127",
   "metadata": {},
   "source": [
    "## "
   ]
  },
  {
   "cell_type": "code",
   "execution_count": null,
   "id": "6ffe5de8",
   "metadata": {},
   "outputs": [],
   "source": []
  },
  {
   "cell_type": "markdown",
   "id": "1156ef1b",
   "metadata": {},
   "source": [
    "## "
   ]
  },
  {
   "cell_type": "code",
   "execution_count": null,
   "id": "22600ab4",
   "metadata": {},
   "outputs": [],
   "source": []
  },
  {
   "cell_type": "markdown",
   "id": "046e1430",
   "metadata": {},
   "source": [
    "## "
   ]
  },
  {
   "cell_type": "code",
   "execution_count": null,
   "id": "e6d67815",
   "metadata": {},
   "outputs": [],
   "source": []
  },
  {
   "cell_type": "code",
   "execution_count": null,
   "id": "00ecdf1a",
   "metadata": {},
   "outputs": [],
   "source": []
  }
 ],
 "metadata": {
  "kernelspec": {
   "display_name": "Python 3",
   "language": "python",
   "name": "python3"
  },
  "language_info": {
   "codemirror_mode": {
    "name": "ipython",
    "version": 3
   },
   "file_extension": ".py",
   "mimetype": "text/x-python",
   "name": "python",
   "nbconvert_exporter": "python",
   "pygments_lexer": "ipython3",
   "version": "3.8.8"
  }
 },
 "nbformat": 4,
 "nbformat_minor": 5
}
