{
 "cells": [
  {
   "cell_type": "code",
   "execution_count": 1,
   "id": "674b7ee1",
   "metadata": {},
   "outputs": [],
   "source": [
    "# %pip install pandas\n",
    "# %pip install numpy\n",
    "# %pip install matplotlib\n",
    "# %pip install sklearn\n",
    "# %pip install imblearn"
   ]
  },
  {
   "cell_type": "code",
   "execution_count": 15,
   "id": "c28a7b4c",
   "metadata": {},
   "outputs": [],
   "source": [
    "import pandas as pd\n",
    "import numpy as np\n",
    "import matplotlib.pyplot as plt\n",
    "\n",
    "from sklearn.preprocessing import StandardScaler\n",
    "from sklearn.model_selection import train_test_split, GroupShuffleSplit\n",
    "from imblearn.over_sampling import RandomOverSampler\n",
    "from imblearn.under_sampling import RandomUnderSampler\n",
    "from sklearn.multiclass import OneVsRestClassifier\n",
    "from collections import Counter\n",
    "\n",
    "from sklearn.svm import SVC\n",
    "from sklearn import metrics\n",
    "\n",
    "import time"
   ]
  },
  {
   "cell_type": "code",
   "execution_count": 16,
   "id": "ae58f0b3",
   "metadata": {},
   "outputs": [],
   "source": [
    "# split dataset into X y train test, based on gene_id\n",
    "# input: df, split_size\n",
    "# output: train df, test df\n",
    "def split(df, split_size=0.2):\n",
    "    splitter = GroupShuffleSplit(test_size=split_size, n_splits=1, random_state=42)\n",
    "    split = splitter.split(df, groups=df['gene_id'])\n",
    "    train_inds, test_inds = next(split)\n",
    "    train = df.iloc[train_inds]\n",
    "    test = df.iloc[test_inds]\n",
    "    \n",
    "    y_train = train['label']\n",
    "    X_train = train.drop(['label', 'sevenmers'], axis = 1)\n",
    "    y_test = test['label']\n",
    "    X_test = test.drop(['label', 'sevenmers'], axis = 1)\n",
    "    \n",
    "    return X_train, y_train, X_test, y_test\n",
    "\n",
    "# oversample and undersample such that ratio of minority to majority samples becomes 3:4\n",
    "# input: df, df (X_train, y_train)\n",
    "# output: df, df (resampled version)\n",
    "def resample(X_train, y_train):\n",
    "    # define oversampling strategy so that ratio of minority samples to majority samples is 1:2\n",
    "    oversample = RandomOverSampler(sampling_strategy=0.5, random_state=42)\n",
    "    X_train_over, y_train_over = oversample.fit_resample(X_train, y_train)\n",
    "    \n",
    "    # define undersampling strategy so that the ratio of minority to majority samples becomes 3:4\n",
    "    under = RandomUnderSampler(sampling_strategy=0.75)\n",
    "    X_train_under, y_train_under = under.fit_resample(X_train_over, y_train_over)\n",
    "    return X_train_under, y_train_under\n",
    "\n",
    "df = pd.read_csv('../data/grouped_data.csv')\n",
    "features_nominal = ['order_1', 'order_2', 'order_3', 'order_4', 'order_5', 'order_6', 'order_7']\n",
    "df[features_nominal] = df[features_nominal].astype('category')\n",
    "X_train, y_train, X_test, y_test = split(df)\n",
    "X_train, y_train = resample(X_train, y_train)\n",
    "X_train = X_train.drop(columns=['gene_id', 'transcript_id'])\n",
    "X_test = X_test.drop(columns=['gene_id', 'transcript_id'])"
   ]
  },
  {
   "cell_type": "code",
   "execution_count": 17,
   "id": "7dc7eb00",
   "metadata": {
    "scrolled": true
   },
   "outputs": [
    {
     "name": "stdout",
     "output_type": "stream",
     "text": [
      "<class 'pandas.core.frame.DataFrame'>\n",
      "RangeIndex: 109333 entries, 0 to 109332\n",
      "Data columns (total 66 columns):\n",
      " #   Column                  Non-Null Count   Dtype   \n",
      "---  ------                  --------------   -----   \n",
      " 0   transcript_position     109333 non-null  int64   \n",
      " 1   dwelling_time_1_min     109333 non-null  float64 \n",
      " 2   dwelling_time_1_max     109333 non-null  float64 \n",
      " 3   dwelling_time_1_mean    109333 non-null  float64 \n",
      " 4   dwelling_time_1_median  109333 non-null  float64 \n",
      " 5   dwelling_time_1_std     109333 non-null  float64 \n",
      " 6   dwelling_time_1_skew    109333 non-null  float64 \n",
      " 7   sd_current_1_min        109333 non-null  float64 \n",
      " 8   sd_current_1_max        109333 non-null  float64 \n",
      " 9   sd_current_1_mean       109333 non-null  float64 \n",
      " 10  sd_current_1_median     109333 non-null  float64 \n",
      " 11  sd_current_1_std        109333 non-null  float64 \n",
      " 12  sd_current_1_skew       109333 non-null  float64 \n",
      " 13  mean_current_1_min      109333 non-null  float64 \n",
      " 14  mean_current_1_max      109333 non-null  float64 \n",
      " 15  mean_current_1_mean     109333 non-null  float64 \n",
      " 16  mean_current_1_median   109333 non-null  float64 \n",
      " 17  mean_current_1_std      109333 non-null  float64 \n",
      " 18  mean_current_1_skew     109333 non-null  float64 \n",
      " 19  dwelling_time_2_min     109333 non-null  float64 \n",
      " 20  dwelling_time_2_max     109333 non-null  float64 \n",
      " 21  dwelling_time_2_mean    109333 non-null  float64 \n",
      " 22  dwelling_time_2_median  109333 non-null  float64 \n",
      " 23  dwelling_time_2_std     109333 non-null  float64 \n",
      " 24  dwelling_time_2_skew    109333 non-null  float64 \n",
      " 25  sd_current_2_min        109333 non-null  float64 \n",
      " 26  sd_current_2_max        109333 non-null  float64 \n",
      " 27  sd_current_2_mean       109333 non-null  float64 \n",
      " 28  sd_current_2_median     109333 non-null  float64 \n",
      " 29  sd_current_2_std        109333 non-null  float64 \n",
      " 30  sd_current_2_skew       109333 non-null  float64 \n",
      " 31  mean_current_2_min      109333 non-null  float64 \n",
      " 32  mean_current_2_max      109333 non-null  float64 \n",
      " 33  mean_current_2_mean     109333 non-null  float64 \n",
      " 34  mean_current_2_median   109333 non-null  float64 \n",
      " 35  mean_current_2_std      109333 non-null  float64 \n",
      " 36  mean_current_2_skew     109333 non-null  float64 \n",
      " 37  dwelling_time_3_min     109333 non-null  float64 \n",
      " 38  dwelling_time_3_max     109333 non-null  float64 \n",
      " 39  dwelling_time_3_mean    109333 non-null  float64 \n",
      " 40  dwelling_time_3_median  109333 non-null  float64 \n",
      " 41  dwelling_time_3_std     109333 non-null  float64 \n",
      " 42  dwelling_time_3_skew    109333 non-null  float64 \n",
      " 43  sd_current_3_min        109333 non-null  float64 \n",
      " 44  sd_current_3_max        109333 non-null  float64 \n",
      " 45  sd_current_3_mean       109333 non-null  float64 \n",
      " 46  sd_current_3_median     109333 non-null  float64 \n",
      " 47  sd_current_3_std        109333 non-null  float64 \n",
      " 48  sd_current_3_skew       109333 non-null  float64 \n",
      " 49  mean_current_3_min      109333 non-null  float64 \n",
      " 50  mean_current_3_max      109333 non-null  float64 \n",
      " 51  mean_current_3_mean     109333 non-null  float64 \n",
      " 52  mean_current_3_median   109333 non-null  float64 \n",
      " 53  mean_current_3_std      109333 non-null  float64 \n",
      " 54  mean_current_3_skew     109333 non-null  float64 \n",
      " 55  order_1                 109333 non-null  category\n",
      " 56  order_2                 109333 non-null  category\n",
      " 57  order_3                 109333 non-null  category\n",
      " 58  order_4                 109333 non-null  category\n",
      " 59  order_5                 109333 non-null  category\n",
      " 60  order_6                 109333 non-null  category\n",
      " 61  order_7                 109333 non-null  category\n",
      " 62  count_A                 109333 non-null  int64   \n",
      " 63  count_C                 109333 non-null  int64   \n",
      " 64  count_G                 109333 non-null  int64   \n",
      " 65  count_T                 109333 non-null  int64   \n",
      "dtypes: category(7), float64(54), int64(5)\n",
      "memory usage: 49.9 MB\n"
     ]
    }
   ],
   "source": [
    "X_train.info()"
   ]
  },
  {
   "cell_type": "markdown",
   "id": "cc85287b",
   "metadata": {},
   "source": [
    "# Train Model"
   ]
  },
  {
   "cell_type": "code",
   "execution_count": 18,
   "id": "40198ecb",
   "metadata": {},
   "outputs": [],
   "source": [
    "# one hot encode the categories\n",
    "X_train = pd.get_dummies(X_train, columns=features_nominal)\n",
    "X_test = pd.get_dummies(X_test, columns=features_nominal)"
   ]
  },
  {
   "cell_type": "code",
   "execution_count": 19,
   "id": "714f5f8a",
   "metadata": {},
   "outputs": [],
   "source": [
    "sc = StandardScaler()\n",
    "sc.fit(X_train)\n",
    "X_train_std = sc.transform(X_train)\n",
    "X_test_std = sc.transform(X_test)"
   ]
  },
  {
   "cell_type": "code",
   "execution_count": 20,
   "id": "fac44034",
   "metadata": {},
   "outputs": [
    {
     "name": "stdout",
     "output_type": "stream",
     "text": [
      "--- 128 mins ---\n"
     ]
    }
   ],
   "source": [
    "start_time = time.time()\n",
    "clf = OneVsRestClassifier(SVC(probability=True, cache_size=1000), n_jobs=-1).fit(X_train_std, y_train)\n",
    "print(\"--- %s mins ---\" % int((time.time() - start_time)/60))"
   ]
  },
  {
   "cell_type": "code",
   "execution_count": 21,
   "id": "25e1a7a2",
   "metadata": {},
   "outputs": [],
   "source": [
    "y_predict = clf.predict(X_test_std)"
   ]
  },
  {
   "cell_type": "code",
   "execution_count": 22,
   "id": "6dca1fb0",
   "metadata": {},
   "outputs": [
    {
     "name": "stdout",
     "output_type": "stream",
     "text": [
      "[[21097  1551]\n",
      " [  308   876]]\n",
      "accuracy:  0.9219956361195032\n",
      "precision: 0.36093943139678614\n",
      "recall:    0.7398648648648649\n",
      "roc auc:   0.8356909983102141\n",
      "pr auc:    0.27997020356764774\n"
     ]
    }
   ],
   "source": [
    "def print_score(model):\n",
    "    y_predict = model.predict(X_test_std)\n",
    "    print(metrics.confusion_matrix(y_test, y_predict))\n",
    "    # TN FP\n",
    "    # FN TP\n",
    "\n",
    "    print(f'accuracy:  {metrics.accuracy_score(y_test, y_predict)}')\n",
    "    print(f'precision: {metrics.precision_score(y_test, y_predict)}')\n",
    "    print(f'recall:    {metrics.recall_score(y_test, y_predict)}')\n",
    "    print(f'roc auc:   {metrics.roc_auc_score(y_test, y_predict)}')\n",
    "    print(f'pr auc:    {metrics.average_precision_score(y_test, y_predict)}')\n",
    "\n",
    "print_score(clf)"
   ]
  },
  {
   "cell_type": "code",
   "execution_count": 23,
   "id": "c64a131f",
   "metadata": {
    "scrolled": true
   },
   "outputs": [
    {
     "data": {
      "text/html": [
       "<div>\n",
       "<style scoped>\n",
       "    .dataframe tbody tr th:only-of-type {\n",
       "        vertical-align: middle;\n",
       "    }\n",
       "\n",
       "    .dataframe tbody tr th {\n",
       "        vertical-align: top;\n",
       "    }\n",
       "\n",
       "    .dataframe thead th {\n",
       "        text-align: right;\n",
       "    }\n",
       "</style>\n",
       "<table border=\"1\" class=\"dataframe\">\n",
       "  <thead>\n",
       "    <tr style=\"text-align: right;\">\n",
       "      <th></th>\n",
       "      <th>0</th>\n",
       "      <th>1</th>\n",
       "    </tr>\n",
       "  </thead>\n",
       "  <tbody>\n",
       "    <tr>\n",
       "      <th>count</th>\n",
       "      <td>2.383200e+04</td>\n",
       "      <td>23832.000000</td>\n",
       "    </tr>\n",
       "    <tr>\n",
       "      <th>mean</th>\n",
       "      <td>8.824344e-01</td>\n",
       "      <td>0.117566</td>\n",
       "    </tr>\n",
       "    <tr>\n",
       "      <th>std</th>\n",
       "      <td>2.459429e-01</td>\n",
       "      <td>0.245943</td>\n",
       "    </tr>\n",
       "    <tr>\n",
       "      <th>min</th>\n",
       "      <td>1.005391e-08</td>\n",
       "      <td>0.000003</td>\n",
       "    </tr>\n",
       "    <tr>\n",
       "      <th>25%</th>\n",
       "      <td>9.312698e-01</td>\n",
       "      <td>0.003211</td>\n",
       "    </tr>\n",
       "    <tr>\n",
       "      <th>50%</th>\n",
       "      <td>9.870995e-01</td>\n",
       "      <td>0.012901</td>\n",
       "    </tr>\n",
       "    <tr>\n",
       "      <th>75%</th>\n",
       "      <td>9.967889e-01</td>\n",
       "      <td>0.068730</td>\n",
       "    </tr>\n",
       "    <tr>\n",
       "      <th>max</th>\n",
       "      <td>9.999966e-01</td>\n",
       "      <td>1.000000</td>\n",
       "    </tr>\n",
       "  </tbody>\n",
       "</table>\n",
       "</div>"
      ],
      "text/plain": [
       "                  0             1\n",
       "count  2.383200e+04  23832.000000\n",
       "mean   8.824344e-01      0.117566\n",
       "std    2.459429e-01      0.245943\n",
       "min    1.005391e-08      0.000003\n",
       "25%    9.312698e-01      0.003211\n",
       "50%    9.870995e-01      0.012901\n",
       "75%    9.967889e-01      0.068730\n",
       "max    9.999966e-01      1.000000"
      ]
     },
     "execution_count": 23,
     "metadata": {},
     "output_type": "execute_result"
    }
   ],
   "source": [
    "pd.DataFrame(clf.predict_proba(X_test_std)).describe()"
   ]
  },
  {
   "cell_type": "markdown",
   "id": "6fd5aa34",
   "metadata": {},
   "source": [
    "# Hyperparameter Tuning (on small df)"
   ]
  },
  {
   "cell_type": "code",
   "execution_count": 14,
   "id": "2e9f16a5",
   "metadata": {
    "scrolled": true
   },
   "outputs": [
    {
     "name": "stdout",
     "output_type": "stream",
     "text": [
      "kernel: linear\n",
      "[[5212  704]\n",
      " [  40  164]]\n",
      "accuracy:  0.8784313725490196\n",
      "precision: 0.1889400921658986\n",
      "recall:    0.803921568627451\n",
      "roc auc:   0.8424611223799865\n",
      "pr auc:    0.15842896298304268\n",
      "--- 690.8784210681915 seconds ---\n",
      "\n",
      "kernel: poly\n",
      "[[5496  420]\n",
      " [  77  127]]\n",
      "accuracy:  0.9187908496732026\n",
      "precision: 0.23217550274223034\n",
      "recall:    0.6225490196078431\n",
      "roc auc:   0.7757775524002705\n",
      "pr auc:    0.15712233095553885\n",
      "--- 248.67693185806274 seconds ---\n",
      "\n",
      "kernel: rbf\n",
      "[[5617  299]\n",
      " [  70  134]]\n",
      "accuracy:  0.9397058823529412\n",
      "precision: 0.3094688221709007\n",
      "recall:    0.6568627450980392\n",
      "roc auc:   0.8031609195402298\n",
      "pr auc:    0.2147164485501668\n",
      "--- 261.742835521698 seconds ---\n",
      "\n",
      "kernel: sigmoid\n",
      "[[4252 1664]\n",
      " [  59  145]]\n",
      "accuracy:  0.7184640522875817\n",
      "precision: 0.08015478164731896\n",
      "recall:    0.7107843137254902\n",
      "roc auc:   0.7147565922920893\n",
      "pr auc:    0.06661328434082311\n",
      "--- 329.61398124694824 seconds ---\n",
      "\n",
      "kernel: precomputed\n"
     ]
    },
    {
     "ename": "ValueError",
     "evalue": "Precomputed matrix must be a square matrix. Input is a 27195x77 matrix.",
     "output_type": "error",
     "traceback": [
      "\u001b[0;31m---------------------------------------------------------------------------\u001b[0m",
      "\u001b[0;31m_RemoteTraceback\u001b[0m                          Traceback (most recent call last)",
      "\u001b[0;31m_RemoteTraceback\u001b[0m: \n\"\"\"\nTraceback (most recent call last):\n  File \"/home/ubuntu/projenv/lib/python3.8/site-packages/joblib/externals/loky/process_executor.py\", line 428, in _process_worker\n    r = call_item()\n  File \"/home/ubuntu/projenv/lib/python3.8/site-packages/joblib/externals/loky/process_executor.py\", line 275, in __call__\n    return self.fn(*self.args, **self.kwargs)\n  File \"/home/ubuntu/projenv/lib/python3.8/site-packages/joblib/_parallel_backends.py\", line 620, in __call__\n    return self.func(*args, **kwargs)\n  File \"/home/ubuntu/projenv/lib/python3.8/site-packages/joblib/parallel.py\", line 288, in __call__\n    return [func(*args, **kwargs)\n  File \"/home/ubuntu/projenv/lib/python3.8/site-packages/joblib/parallel.py\", line 288, in <listcomp>\n    return [func(*args, **kwargs)\n  File \"/home/ubuntu/projenv/lib/python3.8/site-packages/sklearn/utils/fixes.py\", line 117, in __call__\n    return self.function(*args, **kwargs)\n  File \"/home/ubuntu/projenv/lib/python3.8/site-packages/sklearn/multiclass.py\", line 83, in _fit_binary\n    estimator.fit(X, y)\n  File \"/home/ubuntu/projenv/lib/python3.8/site-packages/sklearn/svm/_base.py\", line 198, in fit\n    raise ValueError(\nValueError: Precomputed matrix must be a square matrix. Input is a 27195x77 matrix.\n\"\"\"",
      "\nThe above exception was the direct cause of the following exception:\n",
      "\u001b[0;31mValueError\u001b[0m                                Traceback (most recent call last)",
      "Cell \u001b[0;32mIn [14], line 13\u001b[0m\n\u001b[1;32m     11\u001b[0m model \u001b[38;5;241m=\u001b[39m OneVsRestClassifier(SVC(probability\u001b[38;5;241m=\u001b[39m\u001b[38;5;28;01mTrue\u001b[39;00m, cache_size\u001b[38;5;241m=\u001b[39m\u001b[38;5;241m1000\u001b[39m, kernel\u001b[38;5;241m=\u001b[39mname), n_jobs\u001b[38;5;241m=\u001b[39m\u001b[38;5;241m-\u001b[39m\u001b[38;5;241m1\u001b[39m)\n\u001b[1;32m     12\u001b[0m models\u001b[38;5;241m.\u001b[39mappend(model)\n\u001b[0;32m---> 13\u001b[0m \u001b[43mmodel\u001b[49m\u001b[38;5;241;43m.\u001b[39;49m\u001b[43mfit\u001b[49m\u001b[43m(\u001b[49m\u001b[43mX_train_std\u001b[49m\u001b[43m,\u001b[49m\u001b[43m \u001b[49m\u001b[43my_train\u001b[49m\u001b[43m)\u001b[49m\n\u001b[1;32m     14\u001b[0m print_score(model)\n\u001b[1;32m     15\u001b[0m \u001b[38;5;28mprint\u001b[39m(\u001b[38;5;124m\"\u001b[39m\u001b[38;5;124m--- \u001b[39m\u001b[38;5;132;01m%s\u001b[39;00m\u001b[38;5;124m seconds ---\u001b[39m\u001b[38;5;124m\"\u001b[39m \u001b[38;5;241m%\u001b[39m (time\u001b[38;5;241m.\u001b[39mtime() \u001b[38;5;241m-\u001b[39m start_time))\n",
      "File \u001b[0;32m~/projenv/lib/python3.8/site-packages/sklearn/multiclass.py:327\u001b[0m, in \u001b[0;36mOneVsRestClassifier.fit\u001b[0;34m(self, X, y)\u001b[0m\n\u001b[1;32m    323\u001b[0m columns \u001b[38;5;241m=\u001b[39m (col\u001b[38;5;241m.\u001b[39mtoarray()\u001b[38;5;241m.\u001b[39mravel() \u001b[38;5;28;01mfor\u001b[39;00m col \u001b[38;5;129;01min\u001b[39;00m Y\u001b[38;5;241m.\u001b[39mT)\n\u001b[1;32m    324\u001b[0m \u001b[38;5;66;03m# In cases where individual estimators are very fast to train setting\u001b[39;00m\n\u001b[1;32m    325\u001b[0m \u001b[38;5;66;03m# n_jobs > 1 in can results in slower performance due to the overhead\u001b[39;00m\n\u001b[1;32m    326\u001b[0m \u001b[38;5;66;03m# of spawning threads.  See joblib issue #112.\u001b[39;00m\n\u001b[0;32m--> 327\u001b[0m \u001b[38;5;28mself\u001b[39m\u001b[38;5;241m.\u001b[39mestimators_ \u001b[38;5;241m=\u001b[39m \u001b[43mParallel\u001b[49m\u001b[43m(\u001b[49m\u001b[43mn_jobs\u001b[49m\u001b[38;5;241;43m=\u001b[39;49m\u001b[38;5;28;43mself\u001b[39;49m\u001b[38;5;241;43m.\u001b[39;49m\u001b[43mn_jobs\u001b[49m\u001b[43m,\u001b[49m\u001b[43m \u001b[49m\u001b[43mverbose\u001b[49m\u001b[38;5;241;43m=\u001b[39;49m\u001b[38;5;28;43mself\u001b[39;49m\u001b[38;5;241;43m.\u001b[39;49m\u001b[43mverbose\u001b[49m\u001b[43m)\u001b[49m\u001b[43m(\u001b[49m\n\u001b[1;32m    328\u001b[0m \u001b[43m    \u001b[49m\u001b[43mdelayed\u001b[49m\u001b[43m(\u001b[49m\u001b[43m_fit_binary\u001b[49m\u001b[43m)\u001b[49m\u001b[43m(\u001b[49m\n\u001b[1;32m    329\u001b[0m \u001b[43m        \u001b[49m\u001b[38;5;28;43mself\u001b[39;49m\u001b[38;5;241;43m.\u001b[39;49m\u001b[43mestimator\u001b[49m\u001b[43m,\u001b[49m\n\u001b[1;32m    330\u001b[0m \u001b[43m        \u001b[49m\u001b[43mX\u001b[49m\u001b[43m,\u001b[49m\n\u001b[1;32m    331\u001b[0m \u001b[43m        \u001b[49m\u001b[43mcolumn\u001b[49m\u001b[43m,\u001b[49m\n\u001b[1;32m    332\u001b[0m \u001b[43m        \u001b[49m\u001b[43mclasses\u001b[49m\u001b[38;5;241;43m=\u001b[39;49m\u001b[43m[\u001b[49m\n\u001b[1;32m    333\u001b[0m \u001b[43m            \u001b[49m\u001b[38;5;124;43m\"\u001b[39;49m\u001b[38;5;124;43mnot \u001b[39;49m\u001b[38;5;132;43;01m%s\u001b[39;49;00m\u001b[38;5;124;43m\"\u001b[39;49m\u001b[43m \u001b[49m\u001b[38;5;241;43m%\u001b[39;49m\u001b[43m \u001b[49m\u001b[38;5;28;43mself\u001b[39;49m\u001b[38;5;241;43m.\u001b[39;49m\u001b[43mlabel_binarizer_\u001b[49m\u001b[38;5;241;43m.\u001b[39;49m\u001b[43mclasses_\u001b[49m\u001b[43m[\u001b[49m\u001b[43mi\u001b[49m\u001b[43m]\u001b[49m\u001b[43m,\u001b[49m\n\u001b[1;32m    334\u001b[0m \u001b[43m            \u001b[49m\u001b[38;5;28;43mself\u001b[39;49m\u001b[38;5;241;43m.\u001b[39;49m\u001b[43mlabel_binarizer_\u001b[49m\u001b[38;5;241;43m.\u001b[39;49m\u001b[43mclasses_\u001b[49m\u001b[43m[\u001b[49m\u001b[43mi\u001b[49m\u001b[43m]\u001b[49m\u001b[43m,\u001b[49m\n\u001b[1;32m    335\u001b[0m \u001b[43m        \u001b[49m\u001b[43m]\u001b[49m\u001b[43m,\u001b[49m\n\u001b[1;32m    336\u001b[0m \u001b[43m    \u001b[49m\u001b[43m)\u001b[49m\n\u001b[1;32m    337\u001b[0m \u001b[43m    \u001b[49m\u001b[38;5;28;43;01mfor\u001b[39;49;00m\u001b[43m \u001b[49m\u001b[43mi\u001b[49m\u001b[43m,\u001b[49m\u001b[43m \u001b[49m\u001b[43mcolumn\u001b[49m\u001b[43m \u001b[49m\u001b[38;5;129;43;01min\u001b[39;49;00m\u001b[43m \u001b[49m\u001b[38;5;28;43menumerate\u001b[39;49m\u001b[43m(\u001b[49m\u001b[43mcolumns\u001b[49m\u001b[43m)\u001b[49m\n\u001b[1;32m    338\u001b[0m \u001b[43m\u001b[49m\u001b[43m)\u001b[49m\n\u001b[1;32m    340\u001b[0m \u001b[38;5;28;01mif\u001b[39;00m \u001b[38;5;28mhasattr\u001b[39m(\u001b[38;5;28mself\u001b[39m\u001b[38;5;241m.\u001b[39mestimators_[\u001b[38;5;241m0\u001b[39m], \u001b[38;5;124m\"\u001b[39m\u001b[38;5;124mn_features_in_\u001b[39m\u001b[38;5;124m\"\u001b[39m):\n\u001b[1;32m    341\u001b[0m     \u001b[38;5;28mself\u001b[39m\u001b[38;5;241m.\u001b[39mn_features_in_ \u001b[38;5;241m=\u001b[39m \u001b[38;5;28mself\u001b[39m\u001b[38;5;241m.\u001b[39mestimators_[\u001b[38;5;241m0\u001b[39m]\u001b[38;5;241m.\u001b[39mn_features_in_\n",
      "File \u001b[0;32m~/projenv/lib/python3.8/site-packages/joblib/parallel.py:1098\u001b[0m, in \u001b[0;36mParallel.__call__\u001b[0;34m(self, iterable)\u001b[0m\n\u001b[1;32m   1095\u001b[0m     \u001b[38;5;28mself\u001b[39m\u001b[38;5;241m.\u001b[39m_iterating \u001b[38;5;241m=\u001b[39m \u001b[38;5;28;01mFalse\u001b[39;00m\n\u001b[1;32m   1097\u001b[0m \u001b[38;5;28;01mwith\u001b[39;00m \u001b[38;5;28mself\u001b[39m\u001b[38;5;241m.\u001b[39m_backend\u001b[38;5;241m.\u001b[39mretrieval_context():\n\u001b[0;32m-> 1098\u001b[0m     \u001b[38;5;28;43mself\u001b[39;49m\u001b[38;5;241;43m.\u001b[39;49m\u001b[43mretrieve\u001b[49m\u001b[43m(\u001b[49m\u001b[43m)\u001b[49m\n\u001b[1;32m   1099\u001b[0m \u001b[38;5;66;03m# Make sure that we get a last message telling us we are done\u001b[39;00m\n\u001b[1;32m   1100\u001b[0m elapsed_time \u001b[38;5;241m=\u001b[39m time\u001b[38;5;241m.\u001b[39mtime() \u001b[38;5;241m-\u001b[39m \u001b[38;5;28mself\u001b[39m\u001b[38;5;241m.\u001b[39m_start_time\n",
      "File \u001b[0;32m~/projenv/lib/python3.8/site-packages/joblib/parallel.py:975\u001b[0m, in \u001b[0;36mParallel.retrieve\u001b[0;34m(self)\u001b[0m\n\u001b[1;32m    973\u001b[0m \u001b[38;5;28;01mtry\u001b[39;00m:\n\u001b[1;32m    974\u001b[0m     \u001b[38;5;28;01mif\u001b[39;00m \u001b[38;5;28mgetattr\u001b[39m(\u001b[38;5;28mself\u001b[39m\u001b[38;5;241m.\u001b[39m_backend, \u001b[38;5;124m'\u001b[39m\u001b[38;5;124msupports_timeout\u001b[39m\u001b[38;5;124m'\u001b[39m, \u001b[38;5;28;01mFalse\u001b[39;00m):\n\u001b[0;32m--> 975\u001b[0m         \u001b[38;5;28mself\u001b[39m\u001b[38;5;241m.\u001b[39m_output\u001b[38;5;241m.\u001b[39mextend(\u001b[43mjob\u001b[49m\u001b[38;5;241;43m.\u001b[39;49m\u001b[43mget\u001b[49m\u001b[43m(\u001b[49m\u001b[43mtimeout\u001b[49m\u001b[38;5;241;43m=\u001b[39;49m\u001b[38;5;28;43mself\u001b[39;49m\u001b[38;5;241;43m.\u001b[39;49m\u001b[43mtimeout\u001b[49m\u001b[43m)\u001b[49m)\n\u001b[1;32m    976\u001b[0m     \u001b[38;5;28;01melse\u001b[39;00m:\n\u001b[1;32m    977\u001b[0m         \u001b[38;5;28mself\u001b[39m\u001b[38;5;241m.\u001b[39m_output\u001b[38;5;241m.\u001b[39mextend(job\u001b[38;5;241m.\u001b[39mget())\n",
      "File \u001b[0;32m~/projenv/lib/python3.8/site-packages/joblib/_parallel_backends.py:567\u001b[0m, in \u001b[0;36mLokyBackend.wrap_future_result\u001b[0;34m(future, timeout)\u001b[0m\n\u001b[1;32m    564\u001b[0m \u001b[38;5;124;03m\"\"\"Wrapper for Future.result to implement the same behaviour as\u001b[39;00m\n\u001b[1;32m    565\u001b[0m \u001b[38;5;124;03mAsyncResults.get from multiprocessing.\"\"\"\u001b[39;00m\n\u001b[1;32m    566\u001b[0m \u001b[38;5;28;01mtry\u001b[39;00m:\n\u001b[0;32m--> 567\u001b[0m     \u001b[38;5;28;01mreturn\u001b[39;00m \u001b[43mfuture\u001b[49m\u001b[38;5;241;43m.\u001b[39;49m\u001b[43mresult\u001b[49m\u001b[43m(\u001b[49m\u001b[43mtimeout\u001b[49m\u001b[38;5;241;43m=\u001b[39;49m\u001b[43mtimeout\u001b[49m\u001b[43m)\u001b[49m\n\u001b[1;32m    568\u001b[0m \u001b[38;5;28;01mexcept\u001b[39;00m CfTimeoutError \u001b[38;5;28;01mas\u001b[39;00m e:\n\u001b[1;32m    569\u001b[0m     \u001b[38;5;28;01mraise\u001b[39;00m \u001b[38;5;167;01mTimeoutError\u001b[39;00m \u001b[38;5;28;01mfrom\u001b[39;00m \u001b[38;5;21;01me\u001b[39;00m\n",
      "File \u001b[0;32m/usr/lib/python3.8/concurrent/futures/_base.py:437\u001b[0m, in \u001b[0;36mFuture.result\u001b[0;34m(self, timeout)\u001b[0m\n\u001b[1;32m    435\u001b[0m     \u001b[38;5;28;01mraise\u001b[39;00m CancelledError()\n\u001b[1;32m    436\u001b[0m \u001b[38;5;28;01melif\u001b[39;00m \u001b[38;5;28mself\u001b[39m\u001b[38;5;241m.\u001b[39m_state \u001b[38;5;241m==\u001b[39m FINISHED:\n\u001b[0;32m--> 437\u001b[0m     \u001b[38;5;28;01mreturn\u001b[39;00m \u001b[38;5;28;43mself\u001b[39;49m\u001b[38;5;241;43m.\u001b[39;49m\u001b[43m__get_result\u001b[49m\u001b[43m(\u001b[49m\u001b[43m)\u001b[49m\n\u001b[1;32m    439\u001b[0m \u001b[38;5;28mself\u001b[39m\u001b[38;5;241m.\u001b[39m_condition\u001b[38;5;241m.\u001b[39mwait(timeout)\n\u001b[1;32m    441\u001b[0m \u001b[38;5;28;01mif\u001b[39;00m \u001b[38;5;28mself\u001b[39m\u001b[38;5;241m.\u001b[39m_state \u001b[38;5;129;01min\u001b[39;00m [CANCELLED, CANCELLED_AND_NOTIFIED]:\n",
      "File \u001b[0;32m/usr/lib/python3.8/concurrent/futures/_base.py:389\u001b[0m, in \u001b[0;36mFuture.__get_result\u001b[0;34m(self)\u001b[0m\n\u001b[1;32m    387\u001b[0m \u001b[38;5;28;01mif\u001b[39;00m \u001b[38;5;28mself\u001b[39m\u001b[38;5;241m.\u001b[39m_exception:\n\u001b[1;32m    388\u001b[0m     \u001b[38;5;28;01mtry\u001b[39;00m:\n\u001b[0;32m--> 389\u001b[0m         \u001b[38;5;28;01mraise\u001b[39;00m \u001b[38;5;28mself\u001b[39m\u001b[38;5;241m.\u001b[39m_exception\n\u001b[1;32m    390\u001b[0m     \u001b[38;5;28;01mfinally\u001b[39;00m:\n\u001b[1;32m    391\u001b[0m         \u001b[38;5;66;03m# Break a reference cycle with the exception in self._exception\u001b[39;00m\n\u001b[1;32m    392\u001b[0m         \u001b[38;5;28mself\u001b[39m \u001b[38;5;241m=\u001b[39m \u001b[38;5;28;01mNone\u001b[39;00m\n",
      "\u001b[0;31mValueError\u001b[0m: Precomputed matrix must be a square matrix. Input is a 27195x77 matrix."
     ]
    }
   ],
   "source": [
    "kernel = ['linear', 'poly', 'rbf', 'sigmoid', 'precomputed']\n",
    "\n",
    "models = []\n",
    "for name in kernel:\n",
    "    start_time = time.time()\n",
    "    print(f'kernel: {name}')\n",
    "    model = OneVsRestClassifier(SVC(probability=True, cache_size=1000, kernel=name), n_jobs=-1)\n",
    "    models.append(model)\n",
    "    model.fit(X_train_std, y_train)\n",
    "    print_score(model)\n",
    "    print(\"--- %s seconds ---\" % (time.time() - start_time))\n",
    "    print()"
   ]
  },
  {
   "cell_type": "markdown",
   "id": "0501b458",
   "metadata": {},
   "source": [
    "# For Future Usage"
   ]
  },
  {
   "cell_type": "code",
   "execution_count": 24,
   "id": "d82e2f0e",
   "metadata": {},
   "outputs": [],
   "source": [
    "import pickle\n",
    "\n",
    "# save the model to disk\n",
    "filename = '../data/svm_model.sav'\n",
    "pickle.dump(clf, open(filename, 'wb'))\n",
    " \n",
    "# load the model from disk\n",
    "model = pickle.load(open(filename, 'rb'))"
   ]
  },
  {
   "cell_type": "code",
   "execution_count": 25,
   "id": "0292d6b4",
   "metadata": {},
   "outputs": [],
   "source": [
    "y_predict = model.predict(X_test_std)"
   ]
  },
  {
   "cell_type": "code",
   "execution_count": 26,
   "id": "3a9695c2",
   "metadata": {},
   "outputs": [
    {
     "name": "stdout",
     "output_type": "stream",
     "text": [
      "[[21097  1551]\n",
      " [  308   876]]\n",
      "accuracy:  0.9219956361195032\n",
      "precision: 0.36093943139678614\n",
      "recall:    0.7398648648648649\n",
      "roc auc:   0.8356909983102141\n",
      "pr auc:    0.27997020356764774\n"
     ]
    }
   ],
   "source": [
    "print(metrics.confusion_matrix(y_test, y_predict))\n",
    "# TN FP\n",
    "# FN TP\n",
    "\n",
    "print(f'accuracy:  {metrics.accuracy_score(y_test, y_predict)}')\n",
    "print(f'precision: {metrics.precision_score(y_test, y_predict)}')\n",
    "print(f'recall:    {metrics.recall_score(y_test, y_predict)}')\n",
    "print(f'roc auc:   {metrics.roc_auc_score(y_test, y_predict)}')\n",
    "print(f'pr auc:    {metrics.average_precision_score(y_test, y_predict)}')"
   ]
  }
 ],
 "metadata": {
  "kernelspec": {
   "display_name": "Python 3 (ipykernel)",
   "language": "python",
   "name": "python3"
  },
  "language_info": {
   "codemirror_mode": {
    "name": "ipython",
    "version": 3
   },
   "file_extension": ".py",
   "mimetype": "text/x-python",
   "name": "python",
   "nbconvert_exporter": "python",
   "pygments_lexer": "ipython3",
   "version": "3.8.10"
  }
 },
 "nbformat": 4,
 "nbformat_minor": 5
}
