{
 "cells": [
  {
   "cell_type": "code",
   "execution_count": 1,
   "id": "674b7ee1",
   "metadata": {},
   "outputs": [],
   "source": [
    "# %pip install pandas\n",
    "# %pip install numpy\n",
    "# %pip install matplotlib\n",
    "# %pip install sklearn\n",
    "# %pip install imblearn"
   ]
  },
  {
   "cell_type": "code",
   "execution_count": 1,
   "id": "c28a7b4c",
   "metadata": {},
   "outputs": [],
   "source": [
    "import pandas as pd\n",
    "import numpy as np\n",
    "import matplotlib.pyplot as plt\n",
    "\n",
    "from sklearn.preprocessing import StandardScaler\n",
    "from sklearn.model_selection import train_test_split, GroupShuffleSplit\n",
    "from imblearn.over_sampling import RandomOverSampler\n",
    "from imblearn.under_sampling import RandomUnderSampler\n",
    "from sklearn.multiclass import OneVsRestClassifier\n",
    "from collections import Counter\n",
    "\n",
    "from sklearn.svm import SVC\n",
    "from sklearn import metrics\n",
    "\n",
    "import time"
   ]
  },
  {
   "cell_type": "code",
   "execution_count": 2,
   "id": "ae58f0b3",
   "metadata": {},
   "outputs": [],
   "source": [
    "X_train = pd.read_csv('../data/X_train_final.csv')\n",
    "y_train = pd.read_csv('../data/y_train_final.csv')\n",
    "X_test = pd.read_csv('../data/X_test_final.csv')\n",
    "y_test = pd.read_csv('../data/y_test_final.csv')"
   ]
  },
  {
   "cell_type": "markdown",
   "id": "cc85287b",
   "metadata": {},
   "source": [
    "# Train Model"
   ]
  },
  {
   "cell_type": "code",
   "execution_count": 3,
   "id": "40198ecb",
   "metadata": {},
   "outputs": [],
   "source": [
    "# one hot encode the categories\n",
    "features_nominal = ['order_1', 'order_2', 'order_3', 'order_6', 'order_7']\n",
    "X_train = pd.get_dummies(X_train, columns=features_nominal)\n",
    "X_test = pd.get_dummies(X_test, columns=features_nominal)"
   ]
  },
  {
   "cell_type": "code",
   "execution_count": 4,
   "id": "fac44034",
   "metadata": {
    "scrolled": true
   },
   "outputs": [
    {
     "name": "stdout",
     "output_type": "stream",
     "text": [
      "--- 79 mins ---\n"
     ]
    }
   ],
   "source": [
    "start_time = time.time()\n",
    "clf = OneVsRestClassifier(SVC(probability=True, cache_size=1000), n_jobs=-1).fit(X_train, y_train)\n",
    "print(\"--- %s mins ---\" % int((time.time() - start_time)/60))"
   ]
  },
  {
   "cell_type": "code",
   "execution_count": 5,
   "id": "6dca1fb0",
   "metadata": {
    "scrolled": true
   },
   "outputs": [
    {
     "name": "stdout",
     "output_type": "stream",
     "text": [
      "[[21648  1000]\n",
      " [  415   769]]\n",
      "accuracy:  0.9406260490097348\n",
      "precision: 0.4347088750706614\n",
      "recall:    0.6494932432432432\n",
      "roc auc:   0.9244133334367571\n",
      "pr auc:    0.5017911686709257\n"
     ]
    }
   ],
   "source": [
    "def print_score(model):\n",
    "    y_predict = model.predict(X_test)\n",
    "    y_predict_prob = model.predict_proba(X_test)[:, 1]\n",
    "    print(metrics.confusion_matrix(y_test, y_predict))\n",
    "    # TN FP\n",
    "    # FN TP\n",
    "\n",
    "    print(f'accuracy:  {metrics.accuracy_score(y_test, y_predict)}')\n",
    "    print(f'precision: {metrics.precision_score(y_test, y_predict)}')\n",
    "    print(f'recall:    {metrics.recall_score(y_test, y_predict)}')\n",
    "    print(f'roc auc:   {metrics.roc_auc_score(y_test, y_predict_prob)}')\n",
    "    print(f'pr auc:    {metrics.average_precision_score(y_test, y_predict_prob)}')\n",
    "\n",
    "print_score(clf)"
   ]
  },
  {
   "cell_type": "markdown",
   "id": "6fd5aa34",
   "metadata": {},
   "source": [
    "# Hyperparameter Tuning (on small df)"
   ]
  },
  {
   "cell_type": "code",
   "execution_count": 6,
   "id": "2e9f16a5",
   "metadata": {
    "scrolled": false
   },
   "outputs": [
    {
     "name": "stdout",
     "output_type": "stream",
     "text": [
      "kernel: linear\n",
      "[[5212  704]\n",
      " [  40  164]]\n",
      "accuracy:  0.8784313725490196\n",
      "precision: 0.1889400921658986\n",
      "recall:    0.803921568627451\n",
      "roc auc:   0.8424611223799865\n",
      "pr auc:    0.15842896298304268\n",
      "--- 690.8784210681915 seconds ---\n",
      "\n",
      "kernel: poly\n",
      "[[5496  420]\n",
      " [  77  127]]\n",
      "accuracy:  0.9187908496732026\n",
      "precision: 0.23217550274223034\n",
      "recall:    0.6225490196078431\n",
      "roc auc:   0.7757775524002705\n",
      "pr auc:    0.15712233095553885\n",
      "--- 248.67693185806274 seconds ---\n",
      "\n",
      "kernel: rbf\n",
      "[[5617  299]\n",
      " [  70  134]]\n",
      "accuracy:  0.9397058823529412\n",
      "precision: 0.3094688221709007\n",
      "recall:    0.6568627450980392\n",
      "roc auc:   0.8031609195402298\n",
      "pr auc:    0.2147164485501668\n",
      "--- 261.742835521698 seconds ---\n",
      "\n",
      "kernel: sigmoid\n",
      "[[4252 1664]\n",
      " [  59  145]]\n",
      "accuracy:  0.7184640522875817\n",
      "precision: 0.08015478164731896\n",
      "recall:    0.7107843137254902\n",
      "roc auc:   0.7147565922920893\n",
      "pr auc:    0.06661328434082311\n",
      "--- 329.61398124694824 seconds ---\n"
     ]
    }
   ],
   "source": [
    "kernel = ['linear', 'poly', 'rbf', 'sigmoid']\n",
    "\n",
    "models = []\n",
    "for name in kernel:\n",
    "    start_time = time.time()\n",
    "    print(f'kernel: {name}')\n",
    "    model = OneVsRestClassifier(SVC(probability=True, cache_size=1000, kernel=name), n_jobs=-1)\n",
    "    models.append(model)\n",
    "    model.fit(X_train_std, y_train)\n",
    "    print_score(model)\n",
    "    print(\"--- %s seconds ---\" % (time.time() - start_time))\n",
    "    print()"
   ]
  },
  {
   "cell_type": "markdown",
   "id": "0501b458",
   "metadata": {},
   "source": [
    "# For Future Usage"
   ]
  },
  {
   "cell_type": "code",
   "execution_count": 7,
   "id": "d82e2f0e",
   "metadata": {},
   "outputs": [],
   "source": [
    "import pickle\n",
    "\n",
    "# save the model to disk\n",
    "filename = '../data/svm_model.sav'\n",
    "pickle.dump(clf, open(filename, 'wb'))\n",
    " \n",
    "# load the model from disk\n",
    "model = pickle.load(open(filename, 'rb'))"
   ]
  }
 ],
 "metadata": {
  "kernelspec": {
   "display_name": "Python 3 (ipykernel)",
   "language": "python",
   "name": "python3"
  },
  "language_info": {
   "codemirror_mode": {
    "name": "ipython",
    "version": 3
   },
   "file_extension": ".py",
   "mimetype": "text/x-python",
   "name": "python",
   "nbconvert_exporter": "python",
   "pygments_lexer": "ipython3",
   "version": "3.8.5"
  }
 },
 "nbformat": 4,
 "nbformat_minor": 5
}
