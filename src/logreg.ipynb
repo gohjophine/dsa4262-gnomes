{
 "cells": [
  {
   "cell_type": "code",
   "execution_count": 38,
   "metadata": {},
   "outputs": [],
   "source": [
    "import pandas as pd\n",
    "import numpy as np\n",
    "import matplotlib.pyplot as plt\n",
    "from sklearn.linear_model import LogisticRegression\n",
    "from sklearn.model_selection import GroupShuffleSplit \n",
    "from sklearn.preprocessing import StandardScaler\n",
    "from sklearn import metrics\n",
    "from imblearn.over_sampling import RandomOverSampler\n",
    "from imblearn.under_sampling import RandomUnderSampler\n",
    "from collections import Counter"
   ]
  },
  {
   "cell_type": "markdown",
   "metadata": {},
   "source": [
    "# Pre-processing"
   ]
  },
  {
   "cell_type": "code",
   "execution_count": 75,
   "metadata": {},
   "outputs": [],
   "source": [
    "# split dataset into X y train test, based on gene_id\n",
    "# input: df, split_size\n",
    "# output: train df, test df\n",
    "def split(df, split_size=0.2):\n",
    "    splitter = GroupShuffleSplit(test_size=split_size, n_splits=1, random_state=42)\n",
    "    split = splitter.split(df, groups=df['gene_id'])\n",
    "    train_inds, test_inds = next(split)\n",
    "    train = df.iloc[train_inds]\n",
    "    test = df.iloc[test_inds]\n",
    "    \n",
    "    y_train = train['label']\n",
    "    X_train = train.drop(['label', 'sevenmers'], axis = 1)\n",
    "    y_test = test['label']\n",
    "    X_test = test.drop(['label', 'sevenmers'], axis = 1)\n",
    "    \n",
    "    return X_train, y_train, X_test, y_test\n",
    "\n",
    "# oversample and undersample such that ratio of minority to majority samples becomes 3:4\n",
    "# input: df, df (X_train, y_train)\n",
    "# output: df, df (resampled version)\n",
    "def resample(X_train, y_train):\n",
    "    # define oversampling strategy so that ratio of minority samples to majority samples is 1:2\n",
    "    oversample = RandomOverSampler(sampling_strategy=0.5, random_state=42)\n",
    "    X_train_over, y_train_over = oversample.fit_resample(X_train, y_train)\n",
    "    \n",
    "    # define undersampling strategy so that the ratio of minority to majority samples becomes 3:4\n",
    "    under = RandomUnderSampler(sampling_strategy=0.75)\n",
    "    X_train_under, y_train_under = under.fit_resample(X_train_over, y_train_over)\n",
    "    return X_train_under, y_train_under\n"
   ]
  },
  {
   "cell_type": "markdown",
   "metadata": {},
   "source": [
    "### split"
   ]
  },
  {
   "cell_type": "code",
   "execution_count": 88,
   "metadata": {},
   "outputs": [],
   "source": [
    "df = pd.read_csv('../data/grouped_data.csv')\n",
    "X_train, y_train, X_test, y_test = split(df)"
   ]
  },
  {
   "cell_type": "markdown",
   "metadata": {},
   "source": [
    "### one hot encoding"
   ]
  },
  {
   "cell_type": "code",
   "execution_count": 89,
   "metadata": {},
   "outputs": [
    {
     "name": "stdout",
     "output_type": "stream",
     "text": [
      "['gene_id', 'transcript_id', 'transcript_position', 'dwelling_time_1_min', 'dwelling_time_1_max', 'dwelling_time_1_mean', 'dwelling_time_1_median', 'dwelling_time_1_std', 'dwelling_time_1_skew', 'sd_current_1_min', 'sd_current_1_max', 'sd_current_1_mean', 'sd_current_1_median', 'sd_current_1_std', 'sd_current_1_skew', 'mean_current_1_min', 'mean_current_1_max', 'mean_current_1_mean', 'mean_current_1_median', 'mean_current_1_std', 'mean_current_1_skew', 'dwelling_time_2_min', 'dwelling_time_2_max', 'dwelling_time_2_mean', 'dwelling_time_2_median', 'dwelling_time_2_std', 'dwelling_time_2_skew', 'sd_current_2_min', 'sd_current_2_max', 'sd_current_2_mean', 'sd_current_2_median', 'sd_current_2_std', 'sd_current_2_skew', 'mean_current_2_min', 'mean_current_2_max', 'mean_current_2_mean', 'mean_current_2_median', 'mean_current_2_std', 'mean_current_2_skew', 'dwelling_time_3_min', 'dwelling_time_3_max', 'dwelling_time_3_mean', 'dwelling_time_3_median', 'dwelling_time_3_std', 'dwelling_time_3_skew', 'sd_current_3_min', 'sd_current_3_max', 'sd_current_3_mean', 'sd_current_3_median', 'sd_current_3_std', 'sd_current_3_skew', 'mean_current_3_min', 'mean_current_3_max', 'mean_current_3_mean', 'mean_current_3_median', 'mean_current_3_std', 'mean_current_3_skew', 'count_A', 'count_C', 'count_G', 'count_T', 'order_1_A', 'order_1_C', 'order_1_G', 'order_1_T', 'order_2_A', 'order_2_G', 'order_2_T', 'order_3_A', 'order_3_G', 'order_4_A', 'order_5_C', 'order_6_A', 'order_6_C', 'order_6_T', 'order_7_A', 'order_7_C', 'order_7_G', 'order_7_T']\n"
     ]
    }
   ],
   "source": [
    "features_nominal = ['order_1', 'order_2', 'order_3', 'order_4', 'order_5', 'order_6', 'order_7']\n",
    "X_train = pd.get_dummies(X_train, columns=features_nominal)\n",
    "X_test = pd.get_dummies(X_test, columns=features_nominal)\n",
    "print([x for x in X_train.columns])"
   ]
  },
  {
   "cell_type": "markdown",
   "metadata": {},
   "source": [
    "### resampling"
   ]
  },
  {
   "cell_type": "code",
   "execution_count": 90,
   "metadata": {},
   "outputs": [],
   "source": [
    "X_train, y_train = resample(X_train, y_train)\n",
    "X_train = X_train.drop(columns=['gene_id', 'transcript_id'])\n",
    "X_test = X_test.drop(columns=['gene_id', 'transcript_id'])\n",
    "\n",
    "# OR\n",
    "# X_train = pd.read_csv('../data/X_train_final.csv')\n",
    "# y_train = pd.read_csv('../data/y_train_final.csv')\n",
    "# X_test = pd.read_csv('../data/X_test_final.csv')\n",
    "# y_test = pd.read_csv('../data/y_test_final.csv')\n",
    "# features_nominal = ['order_1', 'order_2', 'order_3', 'order_4', 'order_5', 'order_6', 'order_7']\n",
    "# X_train[features_nominal] = X_train[features_nominal].astype('category')\n",
    "# X_test[features_nominal] = X_test[features_nominal].astype('category')"
   ]
  },
  {
   "cell_type": "markdown",
   "metadata": {},
   "source": [
    "### scaling"
   ]
  },
  {
   "cell_type": "code",
   "execution_count": 91,
   "metadata": {},
   "outputs": [],
   "source": [
    "scale=StandardScaler()\n",
    "X_train_s = scale.fit_transform(X_train)\n",
    "X_test_s = scale.transform(X_test)"
   ]
  },
  {
   "cell_type": "markdown",
   "metadata": {},
   "source": [
    "# Logistic Regression"
   ]
  },
  {
   "cell_type": "code",
   "execution_count": 92,
   "metadata": {},
   "outputs": [],
   "source": [
    "logreg = LogisticRegression(max_iter=1000)"
   ]
  },
  {
   "cell_type": "markdown",
   "metadata": {},
   "source": [
    "### recursive feature elimination (rfe)"
   ]
  },
  {
   "cell_type": "markdown",
   "metadata": {},
   "source": [
    "like equally bad - kinda useless?"
   ]
  },
  {
   "cell_type": "code",
   "execution_count": 94,
   "metadata": {},
   "outputs": [
    {
     "name": "stdout",
     "output_type": "stream",
     "text": [
      "[False False False False False False False False False False False False\n",
      " False  True False  True  True False False False False False False False\n",
      " False False False  True False  True False False False  True False  True\n",
      " False False False False False False False False False  True False False\n",
      " False False False  True  True  True False  True False  True False  True\n",
      " False False False  True False False  True  True False False  True  True\n",
      "  True False False False False]\n",
      "[44 50 12 45 46 11 23 19 39 13 18 38 49  1 29  1  1 26  2 52 31 51 56 33\n",
      " 32 25 35  1 43  1 36 20 22  1 30  1 21 53  8 10 24  9 55 40 41  1 17 42\n",
      " 47  7  6  1  1  1 54  1 28  1  5  1 34 16 15  1  4  3  1  1 57 58  1  1\n",
      "  1 48 27 37 14]\n"
     ]
    }
   ],
   "source": [
    "from sklearn.feature_selection import RFE\n",
    "\n",
    "rfe = RFE(logreg, n_features_to_select=20)\n",
    "rfe = rfe.fit(X_train_s, y_train.values.ravel())\n",
    "print(rfe.support_)\n",
    "print(rfe.ranking_)"
   ]
  },
  {
   "cell_type": "code",
   "execution_count": 95,
   "metadata": {},
   "outputs": [
    {
     "data": {
      "text/plain": [
       "array([ 0,  1,  2,  3,  4,  5,  6,  7,  8,  9, 10, 11, 12, 14, 17, 18, 19,\n",
       "       20, 21, 22, 23, 24, 25, 26, 28, 30, 31, 32, 34, 36, 37, 38, 39, 40,\n",
       "       41, 42, 43, 44, 46, 47, 48, 49, 50, 54, 56, 58, 60, 61, 62, 64, 65,\n",
       "       68, 69, 73, 74, 75, 76], dtype=int64)"
      ]
     },
     "execution_count": 95,
     "metadata": {},
     "output_type": "execute_result"
    }
   ],
   "source": [
    "columns_to_remove = pd.DataFrame(X_train_s).columns.values[np.logical_not(rfe.support_)]\n",
    "columns_to_remove"
   ]
  },
  {
   "cell_type": "code",
   "execution_count": 96,
   "metadata": {},
   "outputs": [],
   "source": [
    "X_train_s_rfe = pd.DataFrame(X_train_s).drop(columns=columns_to_remove)\n",
    "X_test_s_rfe = pd.DataFrame(X_test_s).drop(columns=columns_to_remove)"
   ]
  },
  {
   "cell_type": "code",
   "execution_count": 97,
   "metadata": {},
   "outputs": [],
   "source": [
    "logreg.fit(X_train_s_rfe, y_train)\n",
    "y_pred = logreg.predict(X_test_s_rfe)"
   ]
  },
  {
   "cell_type": "markdown",
   "metadata": {},
   "source": [
    "### prediction + metrics"
   ]
  },
  {
   "cell_type": "code",
   "execution_count": 100,
   "metadata": {},
   "outputs": [],
   "source": [
    "\n",
    "logreg.fit(X_train_s, y_train)\n",
    "y_pred = logreg.predict(X_test_s)"
   ]
  },
  {
   "cell_type": "code",
   "execution_count": 101,
   "metadata": {},
   "outputs": [
    {
     "name": "stdout",
     "output_type": "stream",
     "text": [
      "confusion matrix:\n",
      "   [[19786  2862]\n",
      " [  267   917]]\n",
      "\n",
      "accuracy:   0.868705941591138\n",
      "precision: 0.24265678750992326\n",
      "recall:    0.7744932432432432\n",
      "roc auc:   0.8240622344792691\n",
      "pr auc:    0.1991394663213214\n",
      "\n",
      "classification report:\n",
      "               precision    recall  f1-score   support\n",
      "\n",
      "           0       0.99      0.87      0.93     22648\n",
      "           1       0.24      0.77      0.37      1184\n",
      "\n",
      "    accuracy                           0.87     23832\n",
      "   macro avg       0.61      0.82      0.65     23832\n",
      "weighted avg       0.95      0.87      0.90     23832\n",
      "\n"
     ]
    }
   ],
   "source": [
    "print(f'confusion matrix:\\n   {metrics.confusion_matrix(y_test, y_pred)}\\n')\n",
    "# TN FP\n",
    "# FN TP\n",
    "\n",
    "print(f'accuracy:   {logreg.score(X_test_s, y_test)}')\n",
    "print(f'precision: {metrics.precision_score(y_test, y_pred)}')\n",
    "print(f'recall:    {metrics.recall_score(y_test, y_pred)}')\n",
    "print(f'roc auc:   {metrics.roc_auc_score(y_test, y_pred)}')\n",
    "print(f'pr auc:    {metrics.average_precision_score(y_test, y_pred)}\\n')\n",
    "\n",
    "print(f'classification report:\\n {metrics.classification_report(y_test, y_pred)}')"
   ]
  },
  {
   "cell_type": "code",
   "execution_count": 102,
   "metadata": {},
   "outputs": [
    {
     "data": {
      "image/png": "[encoded data removed]",
      "text/plain": [
       "<Figure size 432x288 with 1 Axes>"
      ]
     },
     "metadata": {
      "needs_background": "light"
     },
     "output_type": "display_data"
    }
   ],
   "source": [
    "logit_roc_auc = metrics.roc_auc_score(y_test, logreg.predict(X_test_s))\n",
    "fpr, tpr, thresholds = metrics.roc_curve(y_test, logreg.predict_proba(X_test_s)[:,1])\n",
    "plt.figure()\n",
    "plt.plot(fpr, tpr, label='Logistic Regression (area = %0.2f)' % logit_roc_auc)\n",
    "plt.plot([0, 1], [0, 1],'r--')\n",
    "plt.xlim([0.0, 1.0])\n",
    "plt.ylim([0.0, 1.05])\n",
    "plt.xlabel('False Positive Rate')\n",
    "plt.ylabel('True Positive Rate')\n",
    "plt.title('Receiver operating characteristic')\n",
    "plt.legend(loc=\"lower right\")\n",
    "plt.savefig('Log_ROC')\n",
    "plt.show()"
   ]
  }
 ],
 "metadata": {
  "kernelspec": {
   "display_name": "dsa4262-gnomes",
   "language": "python",
   "name": "dsa4262-gnomes"
  },
  "language_info": {
   "codemirror_mode": {
    "name": "ipython",
    "version": 3
   },
   "file_extension": ".py",
   "mimetype": "text/x-python",
   "name": "python",
   "nbconvert_exporter": "python",
   "pygments_lexer": "ipython3",
   "version": "3.8.8"
  },
  "orig_nbformat": 4,
  "vscode": {
   "interpreter": {
    "hash": "821307fa6d4eb51ebe6fad6fe62c587b20cc268530b2ed29d83ba9195a7f751c"
   }
  }
 },
 "nbformat": 4,
 "nbformat_minor": 2
}
